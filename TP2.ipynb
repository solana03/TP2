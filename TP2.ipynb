{
 "cells": [
  {
   "cell_type": "markdown",
   "id": "2dbb8b7a",
   "metadata": {},
   "source": [
    "TP2 - Solana Cucher, Victoria Rosino, Florencia Ruiz"
   ]
  },
  {
   "cell_type": "markdown",
   "id": "4748f621",
   "metadata": {},
   "source": [
    "Parte 1"
   ]
  },
  {
   "cell_type": "markdown",
   "id": "d15b12c3",
   "metadata": {},
   "source": [
    "Inciso 2 "
   ]
  },
  {
   "cell_type": "code",
   "execution_count": 1,
   "id": "de1f6e05",
   "metadata": {},
   "outputs": [
    {
     "name": "stdout",
     "output_type": "stream",
     "text": [
      "                          CODUSU  ANO4  TRIMESTRE  NRO_HOGAR  COMPONENTE  H15  \\\n",
      "0  TQRMNORVWHLMKOCDEOHCH00720228  2023          1          1           5    0   \n",
      "1  TQRMNOPSTHKMKPCDEOHCH00781447  2023          1          1           1    1   \n",
      "2  TQRMNOQSXHMOKRCDEOHCH00803177  2023          1          1           1    1   \n",
      "3  TQRMNOQSXHMOKRCDEOHCH00803177  2023          1          1           2    1   \n",
      "4  TQRMNOQYTHMNKSCDEOHCH00803178  2023          1          1           1    1   \n",
      "\n",
      "   REGION MAS_500  AGLOMERADO  PONDERA  ...  PDECIFR  ADECIFR      IPCF  \\\n",
      "0      44       N          91      112  ...     10.0        9   79700.0   \n",
      "1      44       N          91      190  ...      6.0        5  180000.0   \n",
      "2      44       N          91      134  ...      8.0        8  145000.0   \n",
      "3      44       N          91      134  ...      8.0        8  145000.0   \n",
      "4      44       N          91      120  ...     12.0       12       0.0   \n",
      "\n",
      "   DECCFR  IDECCFR  RDECCFR  GDECCFR  PDECCFR  ADECCFR  PONDIH  \n",
      "0       6      6.0        5      NaN      7.0        5     133  \n",
      "1       9     10.0        9      NaN     10.0        9     200  \n",
      "2       9      9.0        8      NaN      9.0        8     140  \n",
      "3       9      9.0        8      NaN      9.0        8     140  \n",
      "4      12     12.0       12      NaN     12.0       12       0  \n",
      "\n",
      "[5 rows x 177 columns]\n"
     ]
    }
   ],
   "source": [
    "#Importamos la base de datos\n",
    "import pandas as pd\n",
    "df = pd.read_excel(\"usu_individual_T123.xlsx\")\n",
    "print(df.head(5))"
   ]
  },
  {
   "cell_type": "code",
   "execution_count": 3,
   "id": "b87cbb89",
   "metadata": {},
   "outputs": [
    {
     "name": "stdout",
     "output_type": "stream",
     "text": [
      "                            CODUSU  ANO4  TRIMESTRE  NRO_HOGAR  COMPONENTE  \\\n",
      "102  TQRMNORUYHLMSMCDEIJAH00719364  2023          1          1           1   \n",
      "103  TQRMNORUYHLMSMCDEIJAH00719364  2023          1          1           2   \n",
      "104  TQRMNOSRQHJNSOCDEIJAH00802640  2023          1          1           1   \n",
      "105  TQRMNOSRQHJNSOCDEIJAH00802640  2023          1          1           2   \n",
      "106  TQRMNOSRQHJNSOCDEIJAH00802640  2023          1          1           3   \n",
      "107  TQRMNOSWQHJLQRCDEIJAH00796254  2023          1          1           1   \n",
      "108  TQRMNOSWQHJLQRCDEIJAH00796254  2023          1          1           2   \n",
      "181  TQRMNOPYVHLMRLCDEIJAH00719346  2023          1          1           1   \n",
      "182  TQRMNOPYVHLMRLCDEIJAH00719346  2023          1          1           2   \n",
      "183  TQRMNOPYVHLMRLCDEIJAH00719346  2023          1          1           3   \n",
      "278  TQRMNOTTTHKNLSCDEIIAD00780051  2023          1          1           1   \n",
      "279  TQRMNOSRXHKMLUCDEIIAD00780093  2023          1          1           1   \n",
      "280  TQRMNOSRXHKMLUCDEIIAD00780093  2023          1          1           2   \n",
      "281  TQRMNOSRXHKMLUCDEIIAD00780093  2023          1          1           3   \n",
      "282  TQRMNOSRXHKMLUCDEIIAD00780093  2023          1          1           4   \n",
      "\n",
      "     H15  REGION MAS_500  AGLOMERADO  PONDERA  ...  PDECIFR  ADECIFR  \\\n",
      "102    1       1       S          33     1545  ...      NaN        4   \n",
      "103    1       1       S          33     1545  ...      NaN        4   \n",
      "104    1       1       S          33     8423  ...      NaN        2   \n",
      "105    1       1       S          33     8423  ...      NaN        2   \n",
      "106    0       1       S          33     8423  ...      NaN        2   \n",
      "107    1       1       S          33     2356  ...      NaN        9   \n",
      "108    1       1       S          33     2356  ...      NaN        9   \n",
      "181    1       1       S          33     2086  ...      NaN       12   \n",
      "182    1       1       S          33     2086  ...      NaN       12   \n",
      "183    1       1       S          33     2086  ...      NaN       12   \n",
      "278    1       1       S          32     1798  ...      NaN        7   \n",
      "279    1       1       S          32     2361  ...      NaN       12   \n",
      "280    1       1       S          32     2361  ...      NaN       12   \n",
      "281    1       1       S          32     2361  ...      NaN       12   \n",
      "282    0       1       S          32     2361  ...      NaN       12   \n",
      "\n",
      "          IPCF  DECCFR  IDECCFR  RDECCFR  GDECCFR  PDECCFR  ADECCFR  PONDIH  \n",
      "102   67500.00       5      NaN        5      5.0      NaN        6    2540  \n",
      "103   67500.00       5      NaN        5      5.0      NaN        6    2540  \n",
      "104   23333.33       1      NaN        1      1.0      NaN        1   14082  \n",
      "105   23333.33       1      NaN        1      1.0      NaN        1   14082  \n",
      "106   23333.33       1      NaN        1      1.0      NaN        1   14082  \n",
      "107  180000.00       9      NaN        9      9.0      NaN       10    4090  \n",
      "108  180000.00       9      NaN        9      9.0      NaN       10    4090  \n",
      "181       0.00      12      NaN       12     12.0      NaN       12       0  \n",
      "182       0.00      12      NaN       12     12.0      NaN       12       0  \n",
      "183       0.00      12      NaN       12     12.0      NaN       12       0  \n",
      "278  320000.00      10      NaN       10     10.0      NaN       10    1511  \n",
      "279       0.00      12      NaN       12     12.0      NaN       12       0  \n",
      "280       0.00      12      NaN       12     12.0      NaN       12       0  \n",
      "281       0.00      12      NaN       12     12.0      NaN       12       0  \n",
      "282       0.00      12      NaN       12     12.0      NaN       12       0  \n",
      "\n",
      "[15 rows x 177 columns]\n"
     ]
    }
   ],
   "source": [
    "#Inciso a): eliminamos las observaciones que no pertenezcan a CABA o GBA\n",
    "df_aglomerados = df[(df[\"AGLOMERADO\"]==32)|(df[\"AGLOMERADO\"]==33)]\n",
    "#Chequeamos el data frame \n",
    "print(df_aglomerados.head(15))"
   ]
  },
  {
   "cell_type": "code",
   "execution_count": 4,
   "id": "429be611",
   "metadata": {},
   "outputs": [],
   "source": [
    "#Inciso b): descartamos las observaciones con valores absurdos \n",
    "df_aglomerados = df_aglomerados[(df_aglomerados[\"ITF\"]>=0) & (df_aglomerados[\"IPCF\"]>=0) & (df_aglomerados[\"P21\"]>=0) & (df_aglomerados[\"P47T\"]>=0) & (df_aglomerados[\"CH06\"]>=0)]"
   ]
  },
  {
   "cell_type": "code",
   "execution_count": 5,
   "id": "7112ed9a",
   "metadata": {},
   "outputs": [
    {
     "name": "stdout",
     "output_type": "stream",
     "text": [
      "Mujeres    3175\n",
      "Varones    2784\n",
      "Name: CH04, dtype: int64\n"
     ]
    },
    {
     "data": {
      "image/png": "[encoded data removed]",
      "text/plain": [
       "<Figure size 640x480 with 1 Axes>"
      ]
     },
     "metadata": {},
     "output_type": "display_data"
    }
   ],
   "source": [
    "#Inciso c): realizamos un gráfico de barras mostrando la composición por sexo\n",
    "import matplotlib.pyplot as plt\n",
    "font = {'family': 'Latin Modern Math'}\n",
    "plt.rc('font', **font)\n",
    "#Creamos un data frame auxiliar para graficar \n",
    "sexo_labels = {1:\"Varones\", 2:\"Mujeres\"}\n",
    "sexo_counts = df_aglomerados[\"CH04\"].map(sexo_labels).value_counts()\n",
    "print(sexo_counts.head(5))\n",
    "#Realizamos el gráfico\n",
    "ax = sexo_counts.plot(kind=\"bar\", title= \"Composición por sexo\")\n",
    "ax.set_xlabel(\"Sexo\")\n",
    "ax.set_ylabel(\"Componentes\")\n",
    "colores = ['lightpink', 'lightblue']\n",
    "ax = sexo_counts.plot(kind=\"bar\", title=\"Figura 1: Composición por sexo\", color=colores)\n",
    "ax.set_xticklabels(ax.get_xticklabels(), rotation=0)\n",
    "\n",
    "plt.savefig(\"sexo.png\", dpi=300, bbox_inches='tight')\n",
    "\n",
    "\n"
   ]
  },
  {
   "cell_type": "code",
   "execution_count": 6,
   "id": "56895bff",
   "metadata": {},
   "outputs": [
    {
     "data": {
      "image/png": "[encoded data removed]",
      "text/plain": [
       "<Figure size 640x480 with 2 Axes>"
      ]
     },
     "metadata": {},
     "output_type": "display_data"
    }
   ],
   "source": [
    "#Inciso d): Realizamos una matriz de correlación\n",
    "import seaborn as sns\n",
    "import numpy as np \n",
    "#Creamos un data frame con las variables que luego van a estar en la matriz de correlación\n",
    "df_d = df_aglomerados[[\"CH04\", \"CH07\", \"CH08\", \"NIVEL_ED\", \"ESTADO\", \"CAT_INAC\", \"IPCF\"]].copy()\n",
    "\n",
    "\n",
    "corr = df_d.corr()\n",
    "ax = sns.heatmap(\n",
    "    corr, \n",
    "    annot=True, \n",
    "    vmin=-1, vmax=1, center=0,\n",
    "    cmap=sns.diverging_palette(20, 220, n=200),\n",
    "    square=True\n",
    ")\n",
    "ax.set_xticklabels(\n",
    "    ax.get_xticklabels(),\n",
    "    rotation=90,\n",
    "    horizontalalignment='right',\n",
    "    fontsize=10\n",
    ")\n",
    "plt.title(\"Figura 2: Matriz de correlaciones\")\n",
    "plt.savefig(\"heatmap.png\", dpi=300, bbox_inches='tight')\n"
   ]
  },
  {
   "cell_type": "code",
   "execution_count": 7,
   "id": "e63bc85c",
   "metadata": {},
   "outputs": [
    {
     "name": "stdout",
     "output_type": "stream",
     "text": [
      "3    2540\n",
      "1    2254\n",
      "4     901\n",
      "2     264\n",
      "Name: ESTADO, dtype: int64\n",
      "ESTADO\n",
      "0        0.000000\n",
      "1    62718.814308\n",
      "2    32263.560711\n",
      "3    49957.566475\n",
      "4    40113.265974\n",
      "Name: IPCF, dtype: float64\n"
     ]
    }
   ],
   "source": [
    "#Inciso e): contamos la cantidad de desocupados e inactivos en la muestra \n",
    "ocupacion_counts = df_aglomerados[\"ESTADO\"].value_counts()\n",
    "print(ocupacion_counts)\n",
    "#Resultados: tenemos en nuestra base de datos a 264 personas desocupadas y 2540 personas inactivas\n",
    "\n",
    "#Calculamos el ingreso per cápita familiar promedio por estado ocupacional\n",
    "promedio_por_ocupacion = df.groupby(\"ESTADO\")[\"IPCF\"].mean()\n",
    "print(promedio_por_ocupacion)\n"
   ]
  },
  {
   "cell_type": "code",
   "execution_count": 8,
   "id": "a09b792a",
   "metadata": {},
   "outputs": [
    {
     "name": "stdout",
     "output_type": "stream",
     "text": [
      "      CH06  Mujeres  Varones\n",
      "0        0     0.35     0.35\n",
      "1        1     0.37     0.37\n",
      "2        2     0.46     0.46\n",
      "3        3     0.51     0.51\n",
      "4        4     0.55     0.55\n",
      "..     ...      ...      ...\n",
      "101  101.0     0.63     0.74\n",
      "102  102.0     0.63     0.74\n",
      "103  103.0     0.63     0.74\n",
      "104  104.0     0.63     0.74\n",
      "105  105.0     0.63     0.74\n",
      "\n",
      "[106 rows x 3 columns]\n",
      "  CH06  CH04  adulto_equiv\n",
      "0   65     2          0.67\n",
      "1   70     1          0.83\n",
      "2   36     1          1.00\n",
      "3   28     2          0.76\n",
      "4    9     2          0.69\n",
      "5   59     1          1.00\n",
      "6   55     1          1.00\n",
      "7   18     1          1.02\n",
      "8   44     1          1.00\n",
      "9   10     2          0.70\n"
     ]
    },
    {
     "name": "stderr",
     "output_type": "stream",
     "text": [
      "/var/folders/gs/bbp_k7n56dgg1t__lzbv4f300000gp/T/ipykernel_92599/4258798631.py:40: FutureWarning: The frame.append method is deprecated and will be removed from pandas in a future version. Use pandas.concat instead.\n",
      "  df_equiv_total = df_equiv_mujeres.append(df_equiv_varones)\n"
     ]
    }
   ],
   "source": [
    "#Inciso f): trabajamos la base de datos \"tabla_adultos_equiv.xlsx\" como indica la consigna\n",
    "df_adultos = pd.read_excel(\"tabla_adulto_equiv.xlsx\",skiprows=3,nrows=24) \n",
    "df_adultos.drop(0, inplace = True)\n",
    "\n",
    "#Reseteamos el índice \n",
    "df_adultos.reset_index(drop=True,inplace=True)\n",
    "\n",
    "#Definimos las unidades de adulto equivalente para las edades que están agrupadas \n",
    "for i in range(0,18):\n",
    "    df_adultos.loc[i,\"Edad\"]= i \n",
    "#De 18 a 29 años le atribuímos el valor 0.76 a las mujeres y 1.02 a los hombres\n",
    "for i in range(18,30): \n",
    "    df_adultos.loc[i]= [i,0.76,1.02] \n",
    "#De 30 a 45 años le atribuímos el valor 0.77 a las mujeres y 1 a los hombres\n",
    "for i in range(30,46): \n",
    "    df_adultos.loc[i]= [i,0.77,1] \n",
    "#De 46 a 60 años le atribuímos el valor 0.76 a las mujeres y 1 a los hombres\n",
    "for i in range(46,61):\n",
    "    df_adultos.loc[i]= [i,0.76,1] \n",
    "#De 61 a 75 años le atribuímos el valor 0.67 a las mujeres y 0.83 a los hombres\n",
    "for i in range(61,76): \n",
    "    df_adultos.loc[i]= [i,0.67,0.83]\n",
    "#A los mayores de 75 años le atribuímos el valor 0.63 a las mujeres y 0.74 a los hombres\n",
    "for i in range(76,106): \n",
    "    df_adultos.loc[i]= [i,0.63,0.74] \n",
    "\n",
    "df_adultos = df_adultos.rename(columns={\"Edad\":\"CH06\"})\n",
    "print(df_adultos)\n",
    "\n",
    "#Armamos una base de datos para las mujeres y otras para los varones\n",
    "df_equiv_mujeres = df_adultos[[\"CH06\",\"Mujeres\"]].copy()\n",
    "df_equiv_mujeres[\"CH04\"] = 2 #El 2 implica que son mujeres según la variable CH04 de la EPH\n",
    "df_equiv_mujeres = df_equiv_mujeres.rename(columns={\"Mujeres\":\"adulto_equiv\"})\n",
    "\n",
    "df_equiv_varones = df_adultos[[\"CH06\",\"Varones\"]].copy()\n",
    "df_equiv_varones[\"CH04\"] = 1 #El 1 implica que son varones según la variable CH04 de la EPH\n",
    "df_equiv_varones = df_equiv_varones.rename(columns={\"Varones\":\"adulto_equiv\"})\n",
    "\n",
    "#Unimos las dos bases creadas anteriormente. Luego juntamos la nueva base con la EPH\n",
    "df_equiv_total = df_equiv_mujeres.append(df_equiv_varones)\n",
    "df_aglomerados_merge = df_aglomerados.merge(df_equiv_total, on=[\"CH06\",\"CH04\"], how = \"left\")\n",
    "#Chequeamos que haya dado bien\n",
    "print(df_aglomerados_merge[[\"CH06\",\"CH04\",\"adulto_equiv\"]].head(10))\n",
    "\n",
    "#Sumamos la nueva columna \"adulto_equiv\" para todas las personas que pertenecen al mismo hogar\n",
    "df_aglomerados_suma = df_aglomerados_merge.groupby([\"NRO_HOGAR\",\"CODUSU\"]).agg({\"adulto_equiv\":\"sum\"})\n",
    "df_aglomerados_suma.reset_index(inplace = True)\n",
    "df_aglomerados_suma = df_aglomerados_suma.rename(columns={\"adulto_equiv\":\"ad_equiv_hogar\"})\n",
    "df_aglomerados_final = df_aglomerados_merge.merge(df_aglomerados_suma, on=[\"NRO_HOGAR\",\"CODUSU\"], how = \"left\")"
   ]
  },
  {
   "cell_type": "markdown",
   "id": "a36fa4eb",
   "metadata": {},
   "source": [
    "Inciso 3"
   ]
  },
  {
   "cell_type": "code",
   "execution_count": 9,
   "id": "9b9de3c5",
   "metadata": {},
   "outputs": [
    {
     "name": "stdout",
     "output_type": "stream",
     "text": [
      "La cantidad de personas que no reportaron su ITF es 1778\n",
      "0    135000\n",
      "1    135000\n",
      "2     70000\n",
      "3     70000\n",
      "4     70000\n",
      "Name: ITF, dtype: int64\n",
      "0    0\n",
      "1    0\n",
      "2    0\n",
      "3    0\n",
      "4    0\n",
      "Name: ITF, dtype: int64\n"
     ]
    }
   ],
   "source": [
    "#Encontramos a las personas que no respondieron cual es su ITF y los diferenciamos en otra base de datos\n",
    "cantidad_missing = (df_aglomerados_final[\"ITF\"] == 0).sum()\n",
    "print(\"La cantidad de personas que no reportaron su ITF es\",cantidad_missing)\n",
    "#Hacemos una base con las personas que reportaron su ITF y otra con las que no lo hicieron\n",
    "respondieron = df_aglomerados_final[df_aglomerados_final[\"ITF\"]!= 0]\n",
    "norespondieron = df_aglomerados_final[df_aglomerados_final[\"ITF\"]== 0]\n",
    "#Chequeamos que los dataframes se hayan creado correctamente y reseteamos su índice\n",
    "respondieron.reset_index(inplace = True)\n",
    "norespondieron.reset_index(inplace = True)\n",
    "print(respondieron[\"ITF\"].head(5))\n",
    "print(norespondieron[\"ITF\"].head(5))"
   ]
  },
  {
   "cell_type": "markdown",
   "id": "da325f58",
   "metadata": {},
   "source": [
    "Inciso 4"
   ]
  },
  {
   "cell_type": "code",
   "execution_count": 10,
   "id": "944dbcda",
   "metadata": {},
   "outputs": [
    {
     "name": "stderr",
     "output_type": "stream",
     "text": [
      "/var/folders/gs/bbp_k7n56dgg1t__lzbv4f300000gp/T/ipykernel_92599/4102786844.py:2: SettingWithCopyWarning: \n",
      "A value is trying to be set on a copy of a slice from a DataFrame.\n",
      "Try using .loc[row_indexer,col_indexer] = value instead\n",
      "\n",
      "See the caveats in the documentation: https://pandas.pydata.org/pandas-docs/stable/user_guide/indexing.html#returning-a-view-versus-a-copy\n",
      "  respondieron[\"ingreso_necesario\"] = respondieron[\"ad_equiv_hogar\"]*(57371.05)\n"
     ]
    }
   ],
   "source": [
    "#Agregamos la columna de \"ingreso necesario\" al Data Frame de \"respondieron\"\n",
    "respondieron[\"ingreso_necesario\"] = respondieron[\"ad_equiv_hogar\"]*(57371.05)"
   ]
  },
  {
   "cell_type": "markdown",
   "id": "ef534ec9",
   "metadata": {},
   "source": [
    "Inciso 5"
   ]
  },
  {
   "cell_type": "code",
   "execution_count": 11,
   "id": "d55fee95",
   "metadata": {},
   "outputs": [
    {
     "name": "stdout",
     "output_type": "stream",
     "text": [
      "         ITF  ingreso_necesario  pobre\n",
      "0     135000         86056.5750      0\n",
      "1     135000         86056.5750      0\n",
      "2      70000        140559.0725      1\n",
      "3      70000        140559.0725      1\n",
      "4      70000        140559.0725      1\n",
      "...      ...                ...    ...\n",
      "4176  155000        219157.4110      1\n",
      "4177  480000        141132.7830      0\n",
      "4178  480000        141132.7830      0\n",
      "4179  480000        141132.7830      0\n",
      "4180  254000         36143.7615      0\n",
      "\n",
      "[4181 rows x 3 columns]\n",
      "La cantidad de pobres es 1555\n"
     ]
    },
    {
     "name": "stderr",
     "output_type": "stream",
     "text": [
      "/var/folders/gs/bbp_k7n56dgg1t__lzbv4f300000gp/T/ipykernel_92599/1964938116.py:2: SettingWithCopyWarning: \n",
      "A value is trying to be set on a copy of a slice from a DataFrame.\n",
      "Try using .loc[row_indexer,col_indexer] = value instead\n",
      "\n",
      "See the caveats in the documentation: https://pandas.pydata.org/pandas-docs/stable/user_guide/indexing.html#returning-a-view-versus-a-copy\n",
      "  respondieron[\"pobre\"] = (respondieron[\"ITF\"] < respondieron[\"ingreso_necesario\"]).astype(int)\n"
     ]
    }
   ],
   "source": [
    "#Generamos una columna nueva llamada \"pobre\" para identificar a aquellos que no alcanzan el ingreso necesario\n",
    "respondieron[\"pobre\"] = (respondieron[\"ITF\"] < respondieron[\"ingreso_necesario\"]).astype(int)\n",
    "print(respondieron[[\"ITF\",\"ingreso_necesario\",\"pobre\"]])\n",
    "\n",
    "#Contamos el número de pobres que hay en el Data Frame \"respondieron\"\n",
    "cantidad_pobres = respondieron[\"pobre\"].value_counts()\n",
    "cantidad_pobres = cantidad_pobres.get(1, 0)\n",
    "print(\"La cantidad de pobres es\",cantidad_pobres)"
   ]
  },
  {
   "cell_type": "markdown",
   "id": "bb444c52",
   "metadata": {},
   "source": [
    "Parte 2"
   ]
  },
  {
   "cell_type": "markdown",
   "id": "f410309e",
   "metadata": {},
   "source": [
    "Inciso 1"
   ]
  },
  {
   "cell_type": "code",
   "execution_count": 12,
   "id": "6e50abf8",
   "metadata": {},
   "outputs": [],
   "source": [
    "#Eliminamos todas las variables relacionadas a ingresos de las dos bases de datos \n",
    "columnas_ingresos = [\"P21\",\"PP08D1\",\"PP08D4\",\"PP08F1\",\"PP08F2\",\"PP08J1\",\"PP08J2\",\"PP08J3\",\"DECOCUR\",\"IDECOCUR\",\"RDECOCUR\",\"GDECOCUR\",\"PDECOCUR\",\"ADECOCUR\",\"PONDIIO\",\"TOT_P12\",\"P47T\",\"DECINDR\",\"IDECINDR\",\"RDECINDR\",\"GDECINDR\",\"PDECINDR\",\"ADECINDR\",\"PONDII\",\"V2_M\",\"V3_M\",\"V4_M\",\"V5_M\",\"V8_M\",\"V9_M\",\"V10_M\",\"V11_M\",\"V12_M\",\"V18_M\",\"V21_M\",\"V19_AM\",\"T_VI\",\"ITF\",\"DECIFR\",\"IDECIFR\",\"RDECIFR\",\"GDECIFR\",\"PDECIFR\",\"ADECIFR\",\"IPCF\",\"DECCFR\",\"IDECCFR\",\"RDECCFR\",\"GDECCFR\",\"ADECCFR\",\"PDECCFR\",\"PONDIH\"]\n",
    "respondieron_2 = respondieron.drop(columnas_ingresos, axis=1)\n",
    "norespondieron_2 = norespondieron.drop(columnas_ingresos, axis=1)\n",
    "#Eliminar columnas adulto_equiv, ad_equiv_hogar e ingreso_necesario\n",
    "respondieron_2 = respondieron_2.drop([\"adulto_equiv\",\"ad_equiv_hogar\",\"ingreso_necesario\"], axis=1)\n",
    "norespondieron_2 = norespondieron_2.drop([\"adulto_equiv\",\"ad_equiv_hogar\"], axis=1)"
   ]
  },
  {
   "cell_type": "markdown",
   "id": "1ace48bb",
   "metadata": {},
   "source": [
    "Inciso 2"
   ]
  },
  {
   "cell_type": "code",
   "execution_count": 13,
   "id": "d762894c",
   "metadata": {},
   "outputs": [
    {
     "name": "stdout",
     "output_type": "stream",
     "text": [
      "Columna 'index': int64\n",
      "Columna 'CODUSU': object\n",
      "Columna 'ANO4': int64\n",
      "Columna 'TRIMESTRE': int64\n",
      "Columna 'NRO_HOGAR': int64\n",
      "Columna 'COMPONENTE': int64\n",
      "Columna 'H15': int64\n",
      "Columna 'REGION': int64\n",
      "Columna 'MAS_500': object\n",
      "Columna 'AGLOMERADO': int64\n",
      "Columna 'PONDERA': int64\n",
      "Columna 'CH03': int64\n",
      "Columna 'CH04': int64\n",
      "Columna 'CH05': object\n",
      "Columna 'CH06': object\n",
      "Columna 'CH07': int64\n",
      "Columna 'CH08': float64\n",
      "Columna 'CH09': int64\n",
      "Columna 'CH10': int64\n",
      "Columna 'CH11': int64\n",
      "Columna 'CH12': int64\n",
      "Columna 'CH13': int64\n",
      "Columna 'CH14': float64\n",
      "Columna 'CH15': int64\n",
      "Columna 'CH15_COD': float64\n",
      "Columna 'CH16': int64\n",
      "Columna 'CH16_COD': float64\n",
      "Columna 'NIVEL_ED': int64\n",
      "Columna 'ESTADO': int64\n",
      "Columna 'CAT_OCUP': int64\n",
      "Columna 'CAT_INAC': int64\n",
      "Columna 'IMPUTA': float64\n",
      "Columna 'PP02C1': int64\n",
      "Columna 'PP02C2': int64\n",
      "Columna 'PP02C3': int64\n",
      "Columna 'PP02C4': int64\n",
      "Columna 'PP02C5': int64\n",
      "Columna 'PP02C6': int64\n",
      "Columna 'PP02C7': int64\n",
      "Columna 'PP02C8': int64\n",
      "Columna 'PP02E': int64\n",
      "Columna 'PP02H': int64\n",
      "Columna 'PP02I': int64\n",
      "Columna 'PP03C': float64\n",
      "Columna 'PP03D': float64\n",
      "Columna 'PP3E_TOT': float64\n",
      "Columna 'PP3F_TOT': float64\n",
      "Columna 'PP03G': float64\n",
      "Columna 'PP03H': float64\n",
      "Columna 'PP03I': float64\n",
      "Columna 'PP03J': float64\n",
      "Columna 'INTENSI': float64\n",
      "Columna 'PP04A': float64\n",
      "Columna 'PP04B_COD': float64\n",
      "Columna 'PP04B1': float64\n",
      "Columna 'PP04B2': float64\n",
      "Columna 'PP04B3_MES': float64\n",
      "Columna 'PP04B3_ANO': float64\n",
      "Columna 'PP04B3_DIA': float64\n",
      "Columna 'PP04C': float64\n",
      "Columna 'PP04C99': float64\n",
      "Columna 'PP04D_COD': float64\n",
      "Columna 'PP04G': float64\n",
      "Columna 'PP05B2_MES': float64\n",
      "Columna 'PP05B2_ANO': float64\n",
      "Columna 'PP05B2_DIA': float64\n",
      "Columna 'PP05C_1': float64\n",
      "Columna 'PP05C_2': float64\n",
      "Columna 'PP05C_3': float64\n",
      "Columna 'PP05E': float64\n",
      "Columna 'PP05F': float64\n",
      "Columna 'PP05H': float64\n",
      "Columna 'PP06A': float64\n",
      "Columna 'PP06C': float64\n",
      "Columna 'PP06D': float64\n",
      "Columna 'PP06E': float64\n",
      "Columna 'PP06H': float64\n",
      "Columna 'PP07A': float64\n",
      "Columna 'PP07C': float64\n",
      "Columna 'PP07D': float64\n",
      "Columna 'PP07E': float64\n",
      "Columna 'PP07F1': float64\n",
      "Columna 'PP07F2': float64\n",
      "Columna 'PP07F3': float64\n",
      "Columna 'PP07F4': float64\n",
      "Columna 'PP07F5': float64\n",
      "Columna 'PP07G1': float64\n",
      "Columna 'PP07G2': float64\n",
      "Columna 'PP07G3': float64\n",
      "Columna 'PP07G4': float64\n",
      "Columna 'PP07G_59': float64\n",
      "Columna 'PP07H': float64\n",
      "Columna 'PP07I': float64\n",
      "Columna 'PP07J': float64\n",
      "Columna 'PP07K': float64\n",
      "Columna 'PP09A': float64\n",
      "Columna 'PP09A_ESP': object\n",
      "Columna 'PP09B': float64\n",
      "Columna 'PP09C': float64\n",
      "Columna 'PP09C_ESP': object\n",
      "Columna 'PP10A': float64\n",
      "Columna 'PP10C': float64\n",
      "Columna 'PP10D': float64\n",
      "Columna 'PP10E': float64\n",
      "Columna 'PP11A': float64\n",
      "Columna 'PP11B_COD': float64\n",
      "Columna 'PP11B1': float64\n",
      "Columna 'PP11B2_MES': float64\n",
      "Columna 'PP11B2_ANO': float64\n",
      "Columna 'PP11B2_DIA': float64\n",
      "Columna 'PP11C': float64\n",
      "Columna 'PP11C99': float64\n",
      "Columna 'PP11D_COD': float64\n",
      "Columna 'PP11G_ANO': float64\n",
      "Columna 'PP11G_MES': float64\n",
      "Columna 'PP11G_DIA': float64\n",
      "Columna 'PP11L': float64\n",
      "Columna 'PP11L1': float64\n",
      "Columna 'PP11M': float64\n",
      "Columna 'PP11N': float64\n",
      "Columna 'PP11O': float64\n",
      "Columna 'PP11P': float64\n",
      "Columna 'PP11Q': float64\n",
      "Columna 'PP11R': float64\n",
      "Columna 'PP11S': float64\n",
      "Columna 'PP11T': float64\n",
      "Columna 'pobre': int64\n"
     ]
    }
   ],
   "source": [
    "#Obtenemos el nombre de todas las columnas del data frame y borramos aquellas que no son numéricas para poder correr la regresión\n",
    "tipos = respondieron_2.dtypes\n",
    "for columna, tipo in tipos.items():\n",
    "    print(f\"Columna '{columna}': {tipo}\") \n",
    "\n",
    "#Las variables no numericas que borramos son CODUSU, MAS_500 y CH05.\n",
    "columnas_a_eliminar = ['CODUSU', 'MAS_500', 'CH05']\n",
    "respondieron_2 = respondieron_2.drop(columns=columnas_a_eliminar)"
   ]
  },
  {
   "cell_type": "code",
   "execution_count": 14,
   "id": "d2db9ca1",
   "metadata": {},
   "outputs": [
    {
     "name": "stdout",
     "output_type": "stream",
     "text": [
      "Columna 'index': 0\n",
      "Columna 'ANO4': 0\n",
      "Columna 'TRIMESTRE': 0\n",
      "Columna 'NRO_HOGAR': 0\n",
      "Columna 'COMPONENTE': 0\n",
      "Columna 'H15': 0\n",
      "Columna 'REGION': 0\n",
      "Columna 'AGLOMERADO': 0\n",
      "Columna 'PONDERA': 0\n",
      "Columna 'CH03': 0\n",
      "Columna 'CH04': 0\n",
      "Columna 'CH06': 0\n",
      "Columna 'CH07': 0\n",
      "Columna 'CH08': 0\n",
      "Columna 'CH09': 0\n",
      "Columna 'CH10': 0\n",
      "Columna 'CH11': 0\n",
      "Columna 'CH12': 0\n",
      "Columna 'CH13': 0\n",
      "Columna 'CH14': 2101\n",
      "Columna 'CH15': 0\n",
      "Columna 'CH15_COD': 3379\n",
      "Columna 'CH16': 0\n",
      "Columna 'CH16_COD': 4112\n",
      "Columna 'NIVEL_ED': 0\n",
      "Columna 'ESTADO': 0\n",
      "Columna 'CAT_OCUP': 0\n",
      "Columna 'CAT_INAC': 0\n",
      "Columna 'IMPUTA': 4166\n",
      "Columna 'PP02C1': 0\n",
      "Columna 'PP02C2': 0\n",
      "Columna 'PP02C3': 0\n",
      "Columna 'PP02C4': 0\n",
      "Columna 'PP02C5': 0\n",
      "Columna 'PP02C6': 0\n",
      "Columna 'PP02C7': 0\n",
      "Columna 'PP02C8': 0\n",
      "Columna 'PP02E': 0\n",
      "Columna 'PP02H': 0\n",
      "Columna 'PP02I': 0\n",
      "Columna 'PP03C': 2345\n",
      "Columna 'PP03D': 2345\n",
      "Columna 'PP3E_TOT': 2345\n",
      "Columna 'PP3F_TOT': 2345\n",
      "Columna 'PP03G': 2345\n",
      "Columna 'PP03H': 2345\n",
      "Columna 'PP03I': 2345\n",
      "Columna 'PP03J': 2345\n",
      "Columna 'INTENSI': 2345\n",
      "Columna 'PP04A': 2345\n",
      "Columna 'PP04B_COD': 2345\n",
      "Columna 'PP04B1': 2345\n",
      "Columna 'PP04B2': 2345\n",
      "Columna 'PP04B3_MES': 2345\n",
      "Columna 'PP04B3_ANO': 2345\n",
      "Columna 'PP04B3_DIA': 2345\n",
      "Columna 'PP04C': 2345\n",
      "Columna 'PP04C99': 2345\n",
      "Columna 'PP04D_COD': 2345\n",
      "Columna 'PP04G': 2345\n",
      "Columna 'PP05B2_MES': 2345\n",
      "Columna 'PP05B2_ANO': 2345\n",
      "Columna 'PP05B2_DIA': 2345\n",
      "Columna 'PP05C_1': 2345\n",
      "Columna 'PP05C_2': 2345\n",
      "Columna 'PP05C_3': 2345\n",
      "Columna 'PP05E': 2345\n",
      "Columna 'PP05F': 2345\n",
      "Columna 'PP05H': 2345\n",
      "Columna 'PP06A': 2345\n",
      "Columna 'PP06C': 2345\n",
      "Columna 'PP06D': 2345\n",
      "Columna 'PP06E': 2345\n",
      "Columna 'PP06H': 2345\n",
      "Columna 'PP07A': 2345\n",
      "Columna 'PP07C': 2345\n",
      "Columna 'PP07D': 2345\n",
      "Columna 'PP07E': 2345\n",
      "Columna 'PP07F1': 2345\n",
      "Columna 'PP07F2': 2345\n",
      "Columna 'PP07F3': 2345\n",
      "Columna 'PP07F4': 2345\n",
      "Columna 'PP07F5': 2345\n",
      "Columna 'PP07G1': 2345\n",
      "Columna 'PP07G2': 2345\n",
      "Columna 'PP07G3': 2345\n",
      "Columna 'PP07G4': 2345\n",
      "Columna 'PP07G_59': 2345\n",
      "Columna 'PP07H': 2345\n",
      "Columna 'PP07I': 2345\n",
      "Columna 'PP07J': 2345\n",
      "Columna 'PP07K': 2345\n",
      "Columna 'PP09A': 2345\n",
      "Columna 'PP09A_ESP': 4169\n",
      "Columna 'PP09B': 2345\n",
      "Columna 'PP09C': 2345\n",
      "Columna 'PP09C_ESP': 4181\n",
      "Columna 'PP10A': 4027\n",
      "Columna 'PP10C': 4027\n",
      "Columna 'PP10D': 4027\n",
      "Columna 'PP10E': 4027\n",
      "Columna 'PP11A': 4027\n",
      "Columna 'PP11B_COD': 4027\n",
      "Columna 'PP11B1': 4027\n",
      "Columna 'PP11B2_MES': 4027\n",
      "Columna 'PP11B2_ANO': 4027\n",
      "Columna 'PP11B2_DIA': 4027\n",
      "Columna 'PP11C': 4027\n",
      "Columna 'PP11C99': 4027\n",
      "Columna 'PP11D_COD': 4079\n",
      "Columna 'PP11G_ANO': 4027\n",
      "Columna 'PP11G_MES': 4027\n",
      "Columna 'PP11G_DIA': 4027\n",
      "Columna 'PP11L': 4027\n",
      "Columna 'PP11L1': 4027\n",
      "Columna 'PP11M': 4027\n",
      "Columna 'PP11N': 4027\n",
      "Columna 'PP11O': 4027\n",
      "Columna 'PP11P': 4027\n",
      "Columna 'PP11Q': 4027\n",
      "Columna 'PP11R': 4027\n",
      "Columna 'PP11S': 4027\n",
      "Columna 'PP11T': 4027\n",
      "Columna 'pobre': 0\n"
     ]
    }
   ],
   "source": [
    "#Borramos también las columnas con muchos missing values\n",
    "missing_values = respondieron_2.isna().sum()\n",
    "for columna, missing_values in missing_values.items():\n",
    "    print(f\"Columna '{columna}': {missing_values}\") \n",
    "    \n",
    "respondieron_2 = respondieron_2.dropna(axis=1)"
   ]
  },
  {
   "cell_type": "code",
   "execution_count": 15,
   "id": "8597b8e6",
   "metadata": {},
   "outputs": [
    {
     "name": "stdout",
     "output_type": "stream",
     "text": [
      "La base x de prueba tiene el 30 % de los datos\n",
      "La base x de entrenamiento tiene el 70 % de los datos\n",
      "La base y de prueba tiene el 30 % de los datos\n",
      "La base y de entrenamiento tiene el 70 % de los datos\n"
     ]
    }
   ],
   "source": [
    "#Partimos la base \"respondieron\" en una parte de entrenamiento y otra parte de prueba\n",
    "import statsmodels.api as sm\n",
    "y = respondieron_2[\"pobre\"]\n",
    "x = respondieron_2[respondieron_2.columns.drop(\"pobre\")]\n",
    "x = sm.add_constant(x)\n",
    "from sklearn.model_selection import train_test_split\n",
    "x_train, x_test, y_train, y_test = train_test_split(x.loc[:,x.columns!=\"const\"],y,test_size=0.3,random_state=201)\n",
    "#Chequeamos la partición de las bases de prueba y entrenamiento\n",
    "print(\"La base x de prueba tiene el\",round(len(x_test)/len(respondieron_2)*100), \"% de los datos\") \n",
    "print(\"La base x de entrenamiento tiene el\", round(len(x_train)/len(respondieron_2)*100),  \"% de los datos\")  \n",
    "print(\"La base y de prueba tiene el\",round(len(y_test)/len(respondieron_2)*100), \"% de los datos\") \n",
    "print(\"La base y de entrenamiento tiene el\", round(len(y_train)/len(respondieron_2)*100),  \"% de los datos\")"
   ]
  },
  {
   "cell_type": "markdown",
   "id": "bfe55f18",
   "metadata": {},
   "source": [
    "Inciso 3"
   ]
  },
  {
   "cell_type": "code",
   "execution_count": 16,
   "id": "4bf1916c",
   "metadata": {},
   "outputs": [
    {
     "name": "stderr",
     "output_type": "stream",
     "text": [
      "/Users/Victoria/anaconda3/lib/python3.11/site-packages/sklearn/linear_model/_logistic.py:460: ConvergenceWarning: lbfgs failed to converge (status=1):\n",
      "STOP: TOTAL NO. of ITERATIONS REACHED LIMIT.\n",
      "\n",
      "Increase the number of iterations (max_iter) or scale the data as shown in:\n",
      "    https://scikit-learn.org/stable/modules/preprocessing.html\n",
      "Please also refer to the documentation for alternative solver options:\n",
      "    https://scikit-learn.org/stable/modules/linear_model.html#logistic-regression\n",
      "  n_iter_i = _check_optimize_result(\n"
     ]
    }
   ],
   "source": [
    "#Realizamos la curva ROC y los valores de AUC y de Accuracy. Luego computamos la matriz de confusión.\n",
    "from sklearn import datasets\n",
    "from sklearn.linear_model import LogisticRegression\n",
    "from sklearn.metrics import confusion_matrix\n",
    "from sklearn.metrics import accuracy_score, recall_score \n",
    "from sklearn.metrics import roc_curve\n",
    "from sklearn.metrics import roc_auc_score\n",
    "from sklearn.metrics import RocCurveDisplay\n",
    "from sklearn.discriminant_analysis import LinearDiscriminantAnalysis\n",
    "from sklearn.neighbors import KNeighborsClassifier\n",
    "\n",
    "#Ajustamos el clasificador con el método fit() y hacemos las predicciones de probabilidad \n",
    "reg_logistica = LogisticRegression().fit(x_train,y_train)\n",
    "pred_y_score = reg_logistica.predict_proba(x_test)[:,1]  \n",
    "\n",
    "#Transformamos las probabilidades en Y con valores 1 o 0 (con el clasificador de Bayes)\n",
    "y_predicha = np.where(pred_y_score > 0.5, 1, pred_y_score)\n",
    "y_predicha = np.where(pred_y_score <= 0.5, 0, y_predicha)"
   ]
  },
  {
   "cell_type": "code",
   "execution_count": 17,
   "id": "eaa01b61",
   "metadata": {},
   "outputs": [
    {
     "name": "stdout",
     "output_type": "stream",
     "text": [
      "Confusion Matrix:\n",
      "[[662 144]\n",
      " [182 267]]\n",
      "Accuracy Score : 0.740\n"
     ]
    }
   ],
   "source": [
    "#Generamos la matriz de confusión\n",
    "matriz_confusion = confusion_matrix(y_test, y_predicha)\n",
    "\n",
    "print('Confusion Matrix:')\n",
    "print(matriz_confusion) \n",
    "accuracy_log= accuracy_score(y_test, y_predicha)\n",
    "print('Accuracy Score :','%.3f' % accuracy_log)"
   ]
  },
  {
   "cell_type": "code",
   "execution_count": 19,
   "id": "b740619d",
   "metadata": {},
   "outputs": [
    {
     "name": "stdout",
     "output_type": "stream",
     "text": [
      "AUC: 0.708\n",
      "[inf  1.  0.]\n",
      "[0.         0.17866005 1.        ]\n",
      "[0.         0.59465479 1.        ]\n"
     ]
    },
    {
     "data": {
      "image/png": "[encoded data removed]",
      "text/plain": [
       "<Figure size 640x480 with 1 Axes>"
      ]
     },
     "metadata": {},
     "output_type": "display_data"
    }
   ],
   "source": [
    "#Calculamos el área debajo de la curva ROC (su acumulado)\n",
    "auc_ROC = roc_auc_score(y_test, y_predicha)\n",
    "print('AUC: %.3f' % auc_ROC)\n",
    "\n",
    "#Graficamos la curva ROC \n",
    "fpr, tpr, thresholds = roc_curve(y_test, y_predicha)\n",
    "np.set_printoptions(suppress = True)\n",
    "print(thresholds)\n",
    "print(fpr)\n",
    "print(tpr)\n",
    "\n",
    "display = RocCurveDisplay(fpr=fpr, tpr=tpr, roc_auc=auc_ROC, estimator_name='Reg_log')\n",
    "font = {'family': 'Latin Modern Math'}\n",
    "plt.rc('font', **font)\n",
    "display.plot()  \n",
    "plt.plot([0, 1], [0, 1], color='red', linestyle='--')\n",
    "plt.savefig(\"roc_logit.png\", dpi=300, bbox_inches='tight')\n",
    "plt.show()"
   ]
  },
  {
   "cell_type": "code",
   "execution_count": 20,
   "id": "e67226e8",
   "metadata": {},
   "outputs": [
    {
     "name": "stdout",
     "output_type": "stream",
     "text": [
      "El accuracy del modelo es: 0.75\n"
     ]
    }
   ],
   "source": [
    "#Realizamos el análisis discriminante lineal \n",
    "adl = LinearDiscriminantAnalysis(n_components=1)\n",
    "adl = adl.fit(x_train, y_train)\n",
    "\n",
    "#Predecimos con el modelo de análisis discriminante lineal sobre las x de testeo\n",
    "y_test_pred_adl = adl.predict(x_test)\n",
    "accuracy_adl = accuracy_score(y_test, y_test_pred_adl)\n",
    "print(\"El accuracy del modelo es: %.2f\" %accuracy_adl)"
   ]
  },
  {
   "cell_type": "code",
   "execution_count": 21,
   "id": "cf434dbb",
   "metadata": {},
   "outputs": [
    {
     "name": "stdout",
     "output_type": "stream",
     "text": [
      "Confusion Matrix:\n",
      "[[659 147]\n",
      " [172 277]]\n"
     ]
    }
   ],
   "source": [
    "#Generamos la matriz de confusión\n",
    "matriz_confusion_adl = confusion_matrix(y_test,y_test_pred_adl)\n",
    "\n",
    "print('Confusion Matrix:')\n",
    "print(matriz_confusion_adl)"
   ]
  },
  {
   "cell_type": "code",
   "execution_count": 22,
   "id": "7970033a",
   "metadata": {
    "scrolled": true
   },
   "outputs": [
    {
     "name": "stdout",
     "output_type": "stream",
     "text": [
      "AUC: 0.717\n",
      "[inf  1.  0.]\n",
      "[0.         0.18238213 1.        ]\n",
      "[0.        0.6169265 1.       ]\n"
     ]
    },
    {
     "data": {
      "image/png": "[encoded data removed]",
      "text/plain": [
       "<Figure size 640x480 with 1 Axes>"
      ]
     },
     "metadata": {},
     "output_type": "display_data"
    }
   ],
   "source": [
    "#Calculamos el área debajo de la curva ROC (su acumulado) para el método ADL \n",
    "auc_ROC_adl = roc_auc_score(y_test, y_test_pred_adl)\n",
    "print('AUC: %.3f' % auc_ROC_adl)\n",
    "\n",
    "#Graficamos la curva ROC \n",
    "fpr_adl, tpr_adl, thresholds_adl = roc_curve(y_test, y_test_pred_adl)\n",
    "np.set_printoptions(suppress = True)\n",
    "print(thresholds_adl)\n",
    "print(fpr_adl)\n",
    "print(tpr_adl)\n",
    "\n",
    "display_adl = RocCurveDisplay(fpr=fpr_adl, tpr=tpr_adl, roc_auc=auc_ROC_adl, estimator_name='Reg_log')\n",
    "font = {'family': 'Latin Modern Math'}\n",
    "plt.rc('font', **font)\n",
    "display_adl.plot()  \n",
    "plt.plot([0, 1], [0, 1], color='red', linestyle='--')\n",
    "plt.savefig(\"roc_LDA.png\", dpi=300, bbox_inches='tight')\n",
    "plt.show()"
   ]
  },
  {
   "cell_type": "code",
   "execution_count": 23,
   "id": "3fb37866",
   "metadata": {},
   "outputs": [
    {
     "ename": "AttributeError",
     "evalue": "'NoneType' object has no attribute 'split'",
     "output_type": "error",
     "traceback": [
      "\u001b[0;31m---------------------------------------------------------------------------\u001b[0m",
      "\u001b[0;31mAttributeError\u001b[0m                            Traceback (most recent call last)",
      "Cell \u001b[0;32mIn[23], line 4\u001b[0m\n\u001b[1;32m      2\u001b[0m knn \u001b[38;5;241m=\u001b[39m KNeighborsClassifier(n_neighbors\u001b[38;5;241m=\u001b[39m\u001b[38;5;241m3\u001b[39m)\n\u001b[1;32m      3\u001b[0m knn\u001b[38;5;241m.\u001b[39mfit(x_train,y_train)\n\u001b[0;32m----> 4\u001b[0m y_test_pred_knn \u001b[38;5;241m=\u001b[39m knn\u001b[38;5;241m.\u001b[39mpredict(x_test)\n\u001b[1;32m      5\u001b[0m accuracy_knn \u001b[38;5;241m=\u001b[39m accuracy_score(y_test,y_test_pred_knn)\n\u001b[1;32m      6\u001b[0m \u001b[38;5;28mprint\u001b[39m(\u001b[38;5;124m\"\u001b[39m\u001b[38;5;124mEl accuracy del modelo es: \u001b[39m\u001b[38;5;132;01m%.3f\u001b[39;00m\u001b[38;5;124m\"\u001b[39m \u001b[38;5;241m%\u001b[39maccuracy_knn)\n",
      "File \u001b[0;32m~/anaconda3/lib/python3.11/site-packages/sklearn/neighbors/_classification.py:266\u001b[0m, in \u001b[0;36mKNeighborsClassifier.predict\u001b[0;34m(self, X)\u001b[0m\n\u001b[1;32m    263\u001b[0m         \u001b[38;5;28;01mreturn\u001b[39;00m \u001b[38;5;28mself\u001b[39m\u001b[38;5;241m.\u001b[39mclasses_[np\u001b[38;5;241m.\u001b[39margmax(probabilities, axis\u001b[38;5;241m=\u001b[39m\u001b[38;5;241m1\u001b[39m)]\n\u001b[1;32m    264\u001b[0m     \u001b[38;5;66;03m# In that case, we do not need the distances to perform\u001b[39;00m\n\u001b[1;32m    265\u001b[0m     \u001b[38;5;66;03m# the weighting so we do not compute them.\u001b[39;00m\n\u001b[0;32m--> 266\u001b[0m     neigh_ind \u001b[38;5;241m=\u001b[39m \u001b[38;5;28mself\u001b[39m\u001b[38;5;241m.\u001b[39mkneighbors(X, return_distance\u001b[38;5;241m=\u001b[39m\u001b[38;5;28;01mFalse\u001b[39;00m)\n\u001b[1;32m    267\u001b[0m     neigh_dist \u001b[38;5;241m=\u001b[39m \u001b[38;5;28;01mNone\u001b[39;00m\n\u001b[1;32m    268\u001b[0m \u001b[38;5;28;01melse\u001b[39;00m:\n",
      "File \u001b[0;32m~/anaconda3/lib/python3.11/site-packages/sklearn/neighbors/_base.py:822\u001b[0m, in \u001b[0;36mKNeighborsMixin.kneighbors\u001b[0;34m(self, X, n_neighbors, return_distance)\u001b[0m\n\u001b[1;32m    815\u001b[0m use_pairwise_distances_reductions \u001b[38;5;241m=\u001b[39m (\n\u001b[1;32m    816\u001b[0m     \u001b[38;5;28mself\u001b[39m\u001b[38;5;241m.\u001b[39m_fit_method \u001b[38;5;241m==\u001b[39m \u001b[38;5;124m\"\u001b[39m\u001b[38;5;124mbrute\u001b[39m\u001b[38;5;124m\"\u001b[39m\n\u001b[1;32m    817\u001b[0m     \u001b[38;5;129;01mand\u001b[39;00m ArgKmin\u001b[38;5;241m.\u001b[39mis_usable_for(\n\u001b[1;32m    818\u001b[0m         X \u001b[38;5;28;01mif\u001b[39;00m X \u001b[38;5;129;01mis\u001b[39;00m \u001b[38;5;129;01mnot\u001b[39;00m \u001b[38;5;28;01mNone\u001b[39;00m \u001b[38;5;28;01melse\u001b[39;00m \u001b[38;5;28mself\u001b[39m\u001b[38;5;241m.\u001b[39m_fit_X, \u001b[38;5;28mself\u001b[39m\u001b[38;5;241m.\u001b[39m_fit_X, \u001b[38;5;28mself\u001b[39m\u001b[38;5;241m.\u001b[39meffective_metric_\n\u001b[1;32m    819\u001b[0m     )\n\u001b[1;32m    820\u001b[0m )\n\u001b[1;32m    821\u001b[0m \u001b[38;5;28;01mif\u001b[39;00m use_pairwise_distances_reductions:\n\u001b[0;32m--> 822\u001b[0m     results \u001b[38;5;241m=\u001b[39m ArgKmin\u001b[38;5;241m.\u001b[39mcompute(\n\u001b[1;32m    823\u001b[0m         X\u001b[38;5;241m=\u001b[39mX,\n\u001b[1;32m    824\u001b[0m         Y\u001b[38;5;241m=\u001b[39m\u001b[38;5;28mself\u001b[39m\u001b[38;5;241m.\u001b[39m_fit_X,\n\u001b[1;32m    825\u001b[0m         k\u001b[38;5;241m=\u001b[39mn_neighbors,\n\u001b[1;32m    826\u001b[0m         metric\u001b[38;5;241m=\u001b[39m\u001b[38;5;28mself\u001b[39m\u001b[38;5;241m.\u001b[39meffective_metric_,\n\u001b[1;32m    827\u001b[0m         metric_kwargs\u001b[38;5;241m=\u001b[39m\u001b[38;5;28mself\u001b[39m\u001b[38;5;241m.\u001b[39meffective_metric_params_,\n\u001b[1;32m    828\u001b[0m         strategy\u001b[38;5;241m=\u001b[39m\u001b[38;5;124m\"\u001b[39m\u001b[38;5;124mauto\u001b[39m\u001b[38;5;124m\"\u001b[39m,\n\u001b[1;32m    829\u001b[0m         return_distance\u001b[38;5;241m=\u001b[39mreturn_distance,\n\u001b[1;32m    830\u001b[0m     )\n\u001b[1;32m    832\u001b[0m \u001b[38;5;28;01melif\u001b[39;00m (\n\u001b[1;32m    833\u001b[0m     \u001b[38;5;28mself\u001b[39m\u001b[38;5;241m.\u001b[39m_fit_method \u001b[38;5;241m==\u001b[39m \u001b[38;5;124m\"\u001b[39m\u001b[38;5;124mbrute\u001b[39m\u001b[38;5;124m\"\u001b[39m \u001b[38;5;129;01mand\u001b[39;00m \u001b[38;5;28mself\u001b[39m\u001b[38;5;241m.\u001b[39mmetric \u001b[38;5;241m==\u001b[39m \u001b[38;5;124m\"\u001b[39m\u001b[38;5;124mprecomputed\u001b[39m\u001b[38;5;124m\"\u001b[39m \u001b[38;5;129;01mand\u001b[39;00m issparse(X)\n\u001b[1;32m    834\u001b[0m ):\n\u001b[1;32m    835\u001b[0m     results \u001b[38;5;241m=\u001b[39m _kneighbors_from_graph(\n\u001b[1;32m    836\u001b[0m         X, n_neighbors\u001b[38;5;241m=\u001b[39mn_neighbors, return_distance\u001b[38;5;241m=\u001b[39mreturn_distance\n\u001b[1;32m    837\u001b[0m     )\n",
      "File \u001b[0;32m~/anaconda3/lib/python3.11/site-packages/sklearn/metrics/_pairwise_distances_reduction/_dispatcher.py:259\u001b[0m, in \u001b[0;36mArgKmin.compute\u001b[0;34m(cls, X, Y, k, metric, chunk_size, metric_kwargs, strategy, return_distance)\u001b[0m\n\u001b[1;32m    178\u001b[0m \u001b[38;5;250m\u001b[39m\u001b[38;5;124;03m\"\"\"Compute the argkmin reduction.\u001b[39;00m\n\u001b[1;32m    179\u001b[0m \n\u001b[1;32m    180\u001b[0m \u001b[38;5;124;03mParameters\u001b[39;00m\n\u001b[0;32m   (...)\u001b[0m\n\u001b[1;32m    256\u001b[0m \u001b[38;5;124;03mreturns.\u001b[39;00m\n\u001b[1;32m    257\u001b[0m \u001b[38;5;124;03m\"\"\"\u001b[39;00m\n\u001b[1;32m    258\u001b[0m \u001b[38;5;28;01mif\u001b[39;00m X\u001b[38;5;241m.\u001b[39mdtype \u001b[38;5;241m==\u001b[39m Y\u001b[38;5;241m.\u001b[39mdtype \u001b[38;5;241m==\u001b[39m np\u001b[38;5;241m.\u001b[39mfloat64:\n\u001b[0;32m--> 259\u001b[0m     \u001b[38;5;28;01mreturn\u001b[39;00m ArgKmin64\u001b[38;5;241m.\u001b[39mcompute(\n\u001b[1;32m    260\u001b[0m         X\u001b[38;5;241m=\u001b[39mX,\n\u001b[1;32m    261\u001b[0m         Y\u001b[38;5;241m=\u001b[39mY,\n\u001b[1;32m    262\u001b[0m         k\u001b[38;5;241m=\u001b[39mk,\n\u001b[1;32m    263\u001b[0m         metric\u001b[38;5;241m=\u001b[39mmetric,\n\u001b[1;32m    264\u001b[0m         chunk_size\u001b[38;5;241m=\u001b[39mchunk_size,\n\u001b[1;32m    265\u001b[0m         metric_kwargs\u001b[38;5;241m=\u001b[39mmetric_kwargs,\n\u001b[1;32m    266\u001b[0m         strategy\u001b[38;5;241m=\u001b[39mstrategy,\n\u001b[1;32m    267\u001b[0m         return_distance\u001b[38;5;241m=\u001b[39mreturn_distance,\n\u001b[1;32m    268\u001b[0m     )\n\u001b[1;32m    270\u001b[0m \u001b[38;5;28;01mif\u001b[39;00m X\u001b[38;5;241m.\u001b[39mdtype \u001b[38;5;241m==\u001b[39m Y\u001b[38;5;241m.\u001b[39mdtype \u001b[38;5;241m==\u001b[39m np\u001b[38;5;241m.\u001b[39mfloat32:\n\u001b[1;32m    271\u001b[0m     \u001b[38;5;28;01mreturn\u001b[39;00m ArgKmin32\u001b[38;5;241m.\u001b[39mcompute(\n\u001b[1;32m    272\u001b[0m         X\u001b[38;5;241m=\u001b[39mX,\n\u001b[1;32m    273\u001b[0m         Y\u001b[38;5;241m=\u001b[39mY,\n\u001b[0;32m   (...)\u001b[0m\n\u001b[1;32m    279\u001b[0m         return_distance\u001b[38;5;241m=\u001b[39mreturn_distance,\n\u001b[1;32m    280\u001b[0m     )\n",
      "File \u001b[0;32msklearn/metrics/_pairwise_distances_reduction/_argkmin.pyx:90\u001b[0m, in \u001b[0;36msklearn.metrics._pairwise_distances_reduction._argkmin.ArgKmin64.compute\u001b[0;34m()\u001b[0m\n",
      "File \u001b[0;32m~/anaconda3/lib/python3.11/site-packages/sklearn/utils/fixes.py:74\u001b[0m, in \u001b[0;36mthreadpool_limits\u001b[0;34m(limits, user_api)\u001b[0m\n\u001b[1;32m     72\u001b[0m     \u001b[38;5;28;01mreturn\u001b[39;00m controller\u001b[38;5;241m.\u001b[39mlimit(limits\u001b[38;5;241m=\u001b[39mlimits, user_api\u001b[38;5;241m=\u001b[39muser_api)\n\u001b[1;32m     73\u001b[0m \u001b[38;5;28;01melse\u001b[39;00m:\n\u001b[0;32m---> 74\u001b[0m     \u001b[38;5;28;01mreturn\u001b[39;00m threadpoolctl\u001b[38;5;241m.\u001b[39mthreadpool_limits(limits\u001b[38;5;241m=\u001b[39mlimits, user_api\u001b[38;5;241m=\u001b[39muser_api)\n",
      "File \u001b[0;32m~/anaconda3/lib/python3.11/site-packages/threadpoolctl.py:171\u001b[0m, in \u001b[0;36mthreadpool_limits.__init__\u001b[0;34m(self, limits, user_api)\u001b[0m\n\u001b[1;32m    167\u001b[0m \u001b[38;5;28;01mdef\u001b[39;00m \u001b[38;5;21m__init__\u001b[39m(\u001b[38;5;28mself\u001b[39m, limits\u001b[38;5;241m=\u001b[39m\u001b[38;5;28;01mNone\u001b[39;00m, user_api\u001b[38;5;241m=\u001b[39m\u001b[38;5;28;01mNone\u001b[39;00m):\n\u001b[1;32m    168\u001b[0m     \u001b[38;5;28mself\u001b[39m\u001b[38;5;241m.\u001b[39m_limits, \u001b[38;5;28mself\u001b[39m\u001b[38;5;241m.\u001b[39m_user_api, \u001b[38;5;28mself\u001b[39m\u001b[38;5;241m.\u001b[39m_prefixes \u001b[38;5;241m=\u001b[39m \\\n\u001b[1;32m    169\u001b[0m         \u001b[38;5;28mself\u001b[39m\u001b[38;5;241m.\u001b[39m_check_params(limits, user_api)\n\u001b[0;32m--> 171\u001b[0m     \u001b[38;5;28mself\u001b[39m\u001b[38;5;241m.\u001b[39m_original_info \u001b[38;5;241m=\u001b[39m \u001b[38;5;28mself\u001b[39m\u001b[38;5;241m.\u001b[39m_set_threadpool_limits()\n",
      "File \u001b[0;32m~/anaconda3/lib/python3.11/site-packages/threadpoolctl.py:268\u001b[0m, in \u001b[0;36mthreadpool_limits._set_threadpool_limits\u001b[0;34m(self)\u001b[0m\n\u001b[1;32m    265\u001b[0m \u001b[38;5;28;01mif\u001b[39;00m \u001b[38;5;28mself\u001b[39m\u001b[38;5;241m.\u001b[39m_limits \u001b[38;5;129;01mis\u001b[39;00m \u001b[38;5;28;01mNone\u001b[39;00m:\n\u001b[1;32m    266\u001b[0m     \u001b[38;5;28;01mreturn\u001b[39;00m \u001b[38;5;28;01mNone\u001b[39;00m\n\u001b[0;32m--> 268\u001b[0m modules \u001b[38;5;241m=\u001b[39m _ThreadpoolInfo(prefixes\u001b[38;5;241m=\u001b[39m\u001b[38;5;28mself\u001b[39m\u001b[38;5;241m.\u001b[39m_prefixes,\n\u001b[1;32m    269\u001b[0m                           user_api\u001b[38;5;241m=\u001b[39m\u001b[38;5;28mself\u001b[39m\u001b[38;5;241m.\u001b[39m_user_api)\n\u001b[1;32m    270\u001b[0m \u001b[38;5;28;01mfor\u001b[39;00m module \u001b[38;5;129;01min\u001b[39;00m modules:\n\u001b[1;32m    271\u001b[0m     \u001b[38;5;66;03m# self._limits is a dict {key: num_threads} where key is either\u001b[39;00m\n\u001b[1;32m    272\u001b[0m     \u001b[38;5;66;03m# a prefix or a user_api. If a module matches both, the limit\u001b[39;00m\n\u001b[1;32m    273\u001b[0m     \u001b[38;5;66;03m# corresponding to the prefix is chosed.\u001b[39;00m\n\u001b[1;32m    274\u001b[0m     \u001b[38;5;28;01mif\u001b[39;00m module\u001b[38;5;241m.\u001b[39mprefix \u001b[38;5;129;01min\u001b[39;00m \u001b[38;5;28mself\u001b[39m\u001b[38;5;241m.\u001b[39m_limits:\n",
      "File \u001b[0;32m~/anaconda3/lib/python3.11/site-packages/threadpoolctl.py:340\u001b[0m, in \u001b[0;36m_ThreadpoolInfo.__init__\u001b[0;34m(self, user_api, prefixes, modules)\u001b[0m\n\u001b[1;32m    337\u001b[0m     \u001b[38;5;28mself\u001b[39m\u001b[38;5;241m.\u001b[39muser_api \u001b[38;5;241m=\u001b[39m [] \u001b[38;5;28;01mif\u001b[39;00m user_api \u001b[38;5;129;01mis\u001b[39;00m \u001b[38;5;28;01mNone\u001b[39;00m \u001b[38;5;28;01melse\u001b[39;00m user_api\n\u001b[1;32m    339\u001b[0m     \u001b[38;5;28mself\u001b[39m\u001b[38;5;241m.\u001b[39mmodules \u001b[38;5;241m=\u001b[39m []\n\u001b[0;32m--> 340\u001b[0m     \u001b[38;5;28mself\u001b[39m\u001b[38;5;241m.\u001b[39m_load_modules()\n\u001b[1;32m    341\u001b[0m     \u001b[38;5;28mself\u001b[39m\u001b[38;5;241m.\u001b[39m_warn_if_incompatible_openmp()\n\u001b[1;32m    342\u001b[0m \u001b[38;5;28;01melse\u001b[39;00m:\n",
      "File \u001b[0;32m~/anaconda3/lib/python3.11/site-packages/threadpoolctl.py:371\u001b[0m, in \u001b[0;36m_ThreadpoolInfo._load_modules\u001b[0;34m(self)\u001b[0m\n\u001b[1;32m    369\u001b[0m \u001b[38;5;250m\u001b[39m\u001b[38;5;124;03m\"\"\"Loop through loaded libraries and store supported ones\"\"\"\u001b[39;00m\n\u001b[1;32m    370\u001b[0m \u001b[38;5;28;01mif\u001b[39;00m sys\u001b[38;5;241m.\u001b[39mplatform \u001b[38;5;241m==\u001b[39m \u001b[38;5;124m\"\u001b[39m\u001b[38;5;124mdarwin\u001b[39m\u001b[38;5;124m\"\u001b[39m:\n\u001b[0;32m--> 371\u001b[0m     \u001b[38;5;28mself\u001b[39m\u001b[38;5;241m.\u001b[39m_find_modules_with_dyld()\n\u001b[1;32m    372\u001b[0m \u001b[38;5;28;01melif\u001b[39;00m sys\u001b[38;5;241m.\u001b[39mplatform \u001b[38;5;241m==\u001b[39m \u001b[38;5;124m\"\u001b[39m\u001b[38;5;124mwin32\u001b[39m\u001b[38;5;124m\"\u001b[39m:\n\u001b[1;32m    373\u001b[0m     \u001b[38;5;28mself\u001b[39m\u001b[38;5;241m.\u001b[39m_find_modules_with_enum_process_module_ex()\n",
      "File \u001b[0;32m~/anaconda3/lib/python3.11/site-packages/threadpoolctl.py:428\u001b[0m, in \u001b[0;36m_ThreadpoolInfo._find_modules_with_dyld\u001b[0;34m(self)\u001b[0m\n\u001b[1;32m    425\u001b[0m filepath \u001b[38;5;241m=\u001b[39m filepath\u001b[38;5;241m.\u001b[39mdecode(\u001b[38;5;124m\"\u001b[39m\u001b[38;5;124mutf-8\u001b[39m\u001b[38;5;124m\"\u001b[39m)\n\u001b[1;32m    427\u001b[0m \u001b[38;5;66;03m# Store the module if it is supported and selected\u001b[39;00m\n\u001b[0;32m--> 428\u001b[0m \u001b[38;5;28mself\u001b[39m\u001b[38;5;241m.\u001b[39m_make_module_from_path(filepath)\n",
      "File \u001b[0;32m~/anaconda3/lib/python3.11/site-packages/threadpoolctl.py:515\u001b[0m, in \u001b[0;36m_ThreadpoolInfo._make_module_from_path\u001b[0;34m(self, filepath)\u001b[0m\n\u001b[1;32m    513\u001b[0m \u001b[38;5;28;01mif\u001b[39;00m prefix \u001b[38;5;129;01min\u001b[39;00m \u001b[38;5;28mself\u001b[39m\u001b[38;5;241m.\u001b[39mprefixes \u001b[38;5;129;01mor\u001b[39;00m user_api \u001b[38;5;129;01min\u001b[39;00m \u001b[38;5;28mself\u001b[39m\u001b[38;5;241m.\u001b[39muser_api:\n\u001b[1;32m    514\u001b[0m     module_class \u001b[38;5;241m=\u001b[39m \u001b[38;5;28mglobals\u001b[39m()[module_class]\n\u001b[0;32m--> 515\u001b[0m     module \u001b[38;5;241m=\u001b[39m module_class(filepath, prefix, user_api, internal_api)\n\u001b[1;32m    516\u001b[0m     \u001b[38;5;28mself\u001b[39m\u001b[38;5;241m.\u001b[39mmodules\u001b[38;5;241m.\u001b[39mappend(module)\n",
      "File \u001b[0;32m~/anaconda3/lib/python3.11/site-packages/threadpoolctl.py:606\u001b[0m, in \u001b[0;36m_Module.__init__\u001b[0;34m(self, filepath, prefix, user_api, internal_api)\u001b[0m\n\u001b[1;32m    604\u001b[0m \u001b[38;5;28mself\u001b[39m\u001b[38;5;241m.\u001b[39minternal_api \u001b[38;5;241m=\u001b[39m internal_api\n\u001b[1;32m    605\u001b[0m \u001b[38;5;28mself\u001b[39m\u001b[38;5;241m.\u001b[39m_dynlib \u001b[38;5;241m=\u001b[39m ctypes\u001b[38;5;241m.\u001b[39mCDLL(filepath, mode\u001b[38;5;241m=\u001b[39m_RTLD_NOLOAD)\n\u001b[0;32m--> 606\u001b[0m \u001b[38;5;28mself\u001b[39m\u001b[38;5;241m.\u001b[39mversion \u001b[38;5;241m=\u001b[39m \u001b[38;5;28mself\u001b[39m\u001b[38;5;241m.\u001b[39mget_version()\n\u001b[1;32m    607\u001b[0m \u001b[38;5;28mself\u001b[39m\u001b[38;5;241m.\u001b[39mnum_threads \u001b[38;5;241m=\u001b[39m \u001b[38;5;28mself\u001b[39m\u001b[38;5;241m.\u001b[39mget_num_threads()\n\u001b[1;32m    608\u001b[0m \u001b[38;5;28mself\u001b[39m\u001b[38;5;241m.\u001b[39m_get_extra_info()\n",
      "File \u001b[0;32m~/anaconda3/lib/python3.11/site-packages/threadpoolctl.py:646\u001b[0m, in \u001b[0;36m_OpenBLASModule.get_version\u001b[0;34m(self)\u001b[0m\n\u001b[1;32m    643\u001b[0m get_config \u001b[38;5;241m=\u001b[39m \u001b[38;5;28mgetattr\u001b[39m(\u001b[38;5;28mself\u001b[39m\u001b[38;5;241m.\u001b[39m_dynlib, \u001b[38;5;124m\"\u001b[39m\u001b[38;5;124mopenblas_get_config\u001b[39m\u001b[38;5;124m\"\u001b[39m,\n\u001b[1;32m    644\u001b[0m                      \u001b[38;5;28;01mlambda\u001b[39;00m: \u001b[38;5;28;01mNone\u001b[39;00m)\n\u001b[1;32m    645\u001b[0m get_config\u001b[38;5;241m.\u001b[39mrestype \u001b[38;5;241m=\u001b[39m ctypes\u001b[38;5;241m.\u001b[39mc_char_p\n\u001b[0;32m--> 646\u001b[0m config \u001b[38;5;241m=\u001b[39m get_config()\u001b[38;5;241m.\u001b[39msplit()\n\u001b[1;32m    647\u001b[0m \u001b[38;5;28;01mif\u001b[39;00m config[\u001b[38;5;241m0\u001b[39m] \u001b[38;5;241m==\u001b[39m \u001b[38;5;124mb\u001b[39m\u001b[38;5;124m\"\u001b[39m\u001b[38;5;124mOpenBLAS\u001b[39m\u001b[38;5;124m\"\u001b[39m:\n\u001b[1;32m    648\u001b[0m     \u001b[38;5;28;01mreturn\u001b[39;00m config[\u001b[38;5;241m1\u001b[39m]\u001b[38;5;241m.\u001b[39mdecode(\u001b[38;5;124m\"\u001b[39m\u001b[38;5;124mutf-8\u001b[39m\u001b[38;5;124m\"\u001b[39m)\n",
      "\u001b[0;31mAttributeError\u001b[0m: 'NoneType' object has no attribute 'split'"
     ]
    }
   ],
   "source": [
    "#Realizamos el método de vecinos cercanos con k=3\n",
    "knn = KNeighborsClassifier(n_neighbors=3)\n",
    "knn.fit(x_train,y_train)\n",
    "y_test_pred_knn = knn.predict(x_test)\n",
    "accuracy_knn = accuracy_score(y_test,y_test_pred_knn)\n",
    "print(\"El accuracy del modelo es: %.3f\" %accuracy_knn)"
   ]
  },
  {
   "cell_type": "code",
   "execution_count": 350,
   "id": "9e1c995e",
   "metadata": {},
   "outputs": [
    {
     "name": "stdout",
     "output_type": "stream",
     "text": [
      "Confusion Matrix:\n",
      "[[650 156]\n",
      " [ 73 376]]\n"
     ]
    }
   ],
   "source": [
    "#Generamos la matriz de confusión\n",
    "matriz_confusion_knn = confusion_matrix(y_test,y_test_pred_knn)\n",
    "\n",
    "print('Confusion Matrix:')\n",
    "print(matriz_confusion_knn)"
   ]
  },
  {
   "cell_type": "code",
   "execution_count": 351,
   "id": "63ab67a9",
   "metadata": {},
   "outputs": [
    {
     "name": "stdout",
     "output_type": "stream",
     "text": [
      "AUC: 0.822\n",
      "[2 1 0]\n",
      "[0.         0.19354839 1.        ]\n",
      "[0.         0.83741648 1.        ]\n"
     ]
    },
    {
     "data": {
      "image/png": "[encoded data removed]",
      "text/plain": [
       "<Figure size 432x288 with 1 Axes>"
      ]
     },
     "metadata": {
      "needs_background": "light"
     },
     "output_type": "display_data"
    }
   ],
   "source": [
    "#Calculamos el área debajo de la curva ROC (su acumulado) para el método de vecinos cercanos \n",
    "auc_ROC_knn = roc_auc_score(y_test, y_test_pred_knn)\n",
    "print('AUC: %.3f' % auc_ROC_knn)\n",
    "\n",
    "#Graficamos la curva ROC \n",
    "fpr_knn, tpr_knn, thresholds_knn = roc_curve(y_test, y_test_pred_knn)\n",
    "np.set_printoptions(suppress = True)\n",
    "print(thresholds_knn)\n",
    "print(fpr_knn)\n",
    "print(tpr_knn)\n",
    "\n",
    "display_knn = RocCurveDisplay(fpr=fpr_knn, tpr=tpr_knn, roc_auc=auc_ROC_knn, estimator_name='Reg_log')\n",
    "font = {'family': 'Latin Modern Math'}\n",
    "plt.rc('font', **font)\n",
    "display_knn.plot()  \n",
    "plt.plot([0, 1], [0, 1], color='red', linestyle='--')\n",
    "plt.savefig(\"roc_knn.png\", dpi=300, bbox_inches='tight')\n",
    "plt.show()"
   ]
  },
  {
   "cell_type": "markdown",
   "id": "db40ef48",
   "metadata": {},
   "source": [
    "Punto 6"
   ]
  },
  {
   "cell_type": "code",
   "execution_count": null,
   "id": "47583abe",
   "metadata": {},
   "outputs": [],
   "source": [
    "# Eliminamos también PP09A_ESP dado que contiene respuestas exclusivamente de individuos que no son de CABA ni GBA.Además, borramos aquellas que no tienen poder predictivo: NRO_HOGAR, ANO4, TRIMESTRE, COMPONENTE, H15, PONDERA, IMPUTA\n",
    "columnas_a_eliminar_2 = ['NRO_HOGAR', 'ANO4', 'TRIMESTRE', 'COMPONENTE', 'H15', 'PONDERA', 'IMPUTA','PP09A_ESP']\n",
    "respondieron_2 = respondieron_2.drop(columns=columnas_a_eliminar_2)\n",
    "HOLA"
   ]
  }
 ],
 "metadata": {
  "kernelspec": {
   "display_name": "Python 3 (ipykernel)",
   "language": "python",
   "name": "python3"
  },
  "language_info": {
   "codemirror_mode": {
    "name": "ipython",
    "version": 3
   },
   "file_extension": ".py",
   "mimetype": "text/x-python",
   "name": "python",
   "nbconvert_exporter": "python",
   "pygments_lexer": "ipython3",
   "version": "3.11.4"
  }
 },
 "nbformat": 4,
 "nbformat_minor": 5
}
