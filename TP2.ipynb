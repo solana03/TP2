{
 "cells": [
  {
   "cell_type": "markdown",
   "id": "2dbb8b7a",
   "metadata": {},
   "source": [
    "# Trabajo Práctico 2 - Solana Cucher, Victoria Rosino, Florencia Ruiz"
   ]
  },
  {
   "cell_type": "markdown",
   "id": "15609ef4",
   "metadata": {},
   "source": [
    "## Parte 1"
   ]
  },
  {
   "cell_type": "markdown",
   "id": "d15b12c3",
   "metadata": {},
   "source": [
    "**Inciso 2**"
   ]
  },
  {
   "cell_type": "code",
   "execution_count": 78,
   "id": "de1f6e05",
   "metadata": {},
   "outputs": [
    {
     "name": "stdout",
     "output_type": "stream",
     "text": [
      "                          CODUSU  ANO4  TRIMESTRE  NRO_HOGAR  COMPONENTE  H15  \\\n",
      "0  TQRMNORVWHLMKOCDEOHCH00720228  2023          1          1           5    0   \n",
      "1  TQRMNOPSTHKMKPCDEOHCH00781447  2023          1          1           1    1   \n",
      "2  TQRMNOQSXHMOKRCDEOHCH00803177  2023          1          1           1    1   \n",
      "3  TQRMNOQSXHMOKRCDEOHCH00803177  2023          1          1           2    1   \n",
      "4  TQRMNOQYTHMNKSCDEOHCH00803178  2023          1          1           1    1   \n",
      "\n",
      "   REGION MAS_500  AGLOMERADO  PONDERA  ...  PDECIFR  ADECIFR      IPCF  \\\n",
      "0      44       N          91      112  ...     10.0        9   79700.0   \n",
      "1      44       N          91      190  ...      6.0        5  180000.0   \n",
      "2      44       N          91      134  ...      8.0        8  145000.0   \n",
      "3      44       N          91      134  ...      8.0        8  145000.0   \n",
      "4      44       N          91      120  ...     12.0       12       0.0   \n",
      "\n",
      "   DECCFR  IDECCFR  RDECCFR  GDECCFR  PDECCFR  ADECCFR  PONDIH  \n",
      "0       6      6.0        5      NaN      7.0        5     133  \n",
      "1       9     10.0        9      NaN     10.0        9     200  \n",
      "2       9      9.0        8      NaN      9.0        8     140  \n",
      "3       9      9.0        8      NaN      9.0        8     140  \n",
      "4      12     12.0       12      NaN     12.0       12       0  \n",
      "\n",
      "[5 rows x 177 columns]\n"
     ]
    }
   ],
   "source": [
    "#Importamos la base de datos\n",
    "import pandas as pd\n",
    "df = pd.read_excel(\"usu_individual_T123.xlsx\")\n",
    "print(df.head(5))"
   ]
  },
  {
   "cell_type": "code",
   "execution_count": 79,
   "id": "b87cbb89",
   "metadata": {},
   "outputs": [
    {
     "name": "stdout",
     "output_type": "stream",
     "text": [
      "                            CODUSU  ANO4  TRIMESTRE  NRO_HOGAR  COMPONENTE  \\\n",
      "102  TQRMNORUYHLMSMCDEIJAH00719364  2023          1          1           1   \n",
      "103  TQRMNORUYHLMSMCDEIJAH00719364  2023          1          1           2   \n",
      "104  TQRMNOSRQHJNSOCDEIJAH00802640  2023          1          1           1   \n",
      "105  TQRMNOSRQHJNSOCDEIJAH00802640  2023          1          1           2   \n",
      "106  TQRMNOSRQHJNSOCDEIJAH00802640  2023          1          1           3   \n",
      "107  TQRMNOSWQHJLQRCDEIJAH00796254  2023          1          1           1   \n",
      "108  TQRMNOSWQHJLQRCDEIJAH00796254  2023          1          1           2   \n",
      "181  TQRMNOPYVHLMRLCDEIJAH00719346  2023          1          1           1   \n",
      "182  TQRMNOPYVHLMRLCDEIJAH00719346  2023          1          1           2   \n",
      "183  TQRMNOPYVHLMRLCDEIJAH00719346  2023          1          1           3   \n",
      "278  TQRMNOTTTHKNLSCDEIIAD00780051  2023          1          1           1   \n",
      "279  TQRMNOSRXHKMLUCDEIIAD00780093  2023          1          1           1   \n",
      "280  TQRMNOSRXHKMLUCDEIIAD00780093  2023          1          1           2   \n",
      "281  TQRMNOSRXHKMLUCDEIIAD00780093  2023          1          1           3   \n",
      "282  TQRMNOSRXHKMLUCDEIIAD00780093  2023          1          1           4   \n",
      "\n",
      "     H15  REGION MAS_500  AGLOMERADO  PONDERA  ...  PDECIFR  ADECIFR  \\\n",
      "102    1       1       S          33     1545  ...      NaN        4   \n",
      "103    1       1       S          33     1545  ...      NaN        4   \n",
      "104    1       1       S          33     8423  ...      NaN        2   \n",
      "105    1       1       S          33     8423  ...      NaN        2   \n",
      "106    0       1       S          33     8423  ...      NaN        2   \n",
      "107    1       1       S          33     2356  ...      NaN        9   \n",
      "108    1       1       S          33     2356  ...      NaN        9   \n",
      "181    1       1       S          33     2086  ...      NaN       12   \n",
      "182    1       1       S          33     2086  ...      NaN       12   \n",
      "183    1       1       S          33     2086  ...      NaN       12   \n",
      "278    1       1       S          32     1798  ...      NaN        7   \n",
      "279    1       1       S          32     2361  ...      NaN       12   \n",
      "280    1       1       S          32     2361  ...      NaN       12   \n",
      "281    1       1       S          32     2361  ...      NaN       12   \n",
      "282    0       1       S          32     2361  ...      NaN       12   \n",
      "\n",
      "          IPCF  DECCFR  IDECCFR  RDECCFR  GDECCFR  PDECCFR  ADECCFR  PONDIH  \n",
      "102   67500.00       5      NaN        5      5.0      NaN        6    2540  \n",
      "103   67500.00       5      NaN        5      5.0      NaN        6    2540  \n",
      "104   23333.33       1      NaN        1      1.0      NaN        1   14082  \n",
      "105   23333.33       1      NaN        1      1.0      NaN        1   14082  \n",
      "106   23333.33       1      NaN        1      1.0      NaN        1   14082  \n",
      "107  180000.00       9      NaN        9      9.0      NaN       10    4090  \n",
      "108  180000.00       9      NaN        9      9.0      NaN       10    4090  \n",
      "181       0.00      12      NaN       12     12.0      NaN       12       0  \n",
      "182       0.00      12      NaN       12     12.0      NaN       12       0  \n",
      "183       0.00      12      NaN       12     12.0      NaN       12       0  \n",
      "278  320000.00      10      NaN       10     10.0      NaN       10    1511  \n",
      "279       0.00      12      NaN       12     12.0      NaN       12       0  \n",
      "280       0.00      12      NaN       12     12.0      NaN       12       0  \n",
      "281       0.00      12      NaN       12     12.0      NaN       12       0  \n",
      "282       0.00      12      NaN       12     12.0      NaN       12       0  \n",
      "\n",
      "[15 rows x 177 columns]\n"
     ]
    }
   ],
   "source": [
    "#Inciso a): eliminamos las observaciones que no pertenezcan a CABA (32) o GBA (33)\n",
    "df_aglomerados = df[(df[\"AGLOMERADO\"]==32)|(df[\"AGLOMERADO\"]==33)]\n",
    "#Chequeamos el data frame \n",
    "print(df_aglomerados.head(15))"
   ]
  },
  {
   "cell_type": "markdown",
   "id": "0253a8cb",
   "metadata": {},
   "source": [
    "Analizamos las variables de interés\n",
    "\n",
    "**CH04** Sexo: 1 = Varón; 2 = Mujer\n",
    "\n",
    "**CH06** ¿Cuántos años cumplidos tiene?\n",
    "\n",
    "**CH07** ¿Actualmente está...; 1 = ... unido?; 2 = ... casado?; 3 = ... separado/a o divorciado/a?; 4 = ... viudo/a?; 5 = ... soltero/a?\n",
    "\n",
    "**CH08** ¿Tiene algún tipo de cobertura médica por la que paga o le descuentan?: 1 = Obra social (incluye PAMI); 2 = Mutual / prepaga / servicio de emergencia; 3 = Planes y seguros públicos; 4 = No paga ni le descuentan; 9 = Ns/Nr; 12 = Obra social y mutual / prepaga / servicio de emergencia; 13 = Obra social y planes y seguros públicos; 23 = Mutual / prepaga / servicio de emergencia / Planes y seguros  públicos; 123 = Obra social, mutual / prepaga / servicio de emergencia y planes y  seguros públicos\n",
    "\n",
    "**NIVEL_ED** Nivel educativo: 1 = Primario incompleto (incluye educación especial); 2 = Primario completo:\n",
    "3 = Secundario incompleto; 4 = Secundario completo; 5 = Superior universitario incompleto; 6 = Superior universitario completo; 7 = Sin instrucción; 9 = Ns/Nr\n",
    "\n",
    "**ESTADO** Condición de actividad: 0 = Entrevista individual no realizada  (no respuesta al cuestionario \n",
    " individual); 1 = Ocupado; 2 = Desocupado; 3 = Inactivo; 4 = Menor de 10 años\n",
    "\n",
    "**CAT_INAC** Categoría de inactividad: 1 = Jubilado / Pensionado; 2 = Rentista; 3 = Estudiante; 4 = Ama de casa; 5 = Menor de 6 años; 6 = Discapacitado; 7 = Otros\n",
    "\n",
    "**IPCF** Monto de ingreso per cápita familiar \n",
    "\n",
    "**P47T** Monto de ingreso total individual (sumatoria ingresos laborales y no laborales)\n",
    "\n",
    "**ITF** Monto del ingreso total familiar\n",
    "\n",
    "**P21** Monto de ingreso de la ocupación principal\n"
   ]
  },
  {
   "cell_type": "code",
   "execution_count": 80,
   "id": "4c5a39c2",
   "metadata": {},
   "outputs": [
    {
     "name": "stdout",
     "output_type": "stream",
     "text": [
      "              CH04         CH06         CH07        CH08     NIVEL_ED  \\\n",
      "count  7619.000000  7619.000000  7619.000000  7618.00000  7619.000000   \n",
      "mean      1.519359    37.177845     3.413703     2.22565     3.799842   \n",
      "std       0.499658    22.738454     1.669771     1.94668     1.746307   \n",
      "min       1.000000    -1.000000     1.000000     1.00000     1.000000   \n",
      "25%       1.000000    18.000000     2.000000     1.00000     3.000000   \n",
      "50%       2.000000    35.000000     4.000000     1.00000     4.000000   \n",
      "75%       2.000000    55.000000     5.000000     4.00000     5.000000   \n",
      "max       2.000000    99.000000     9.000000    12.00000     7.000000   \n",
      "\n",
      "            ESTADO     CAT_INAC          IPCF          P47T           ITF  \\\n",
      "count  7619.000000  7619.000000  7.619000e+03  7.595000e+03  7.619000e+03   \n",
      "mean      2.152776     1.445990  4.767827e+04  5.722302e+04  1.384079e+05   \n",
      "std       1.149964     1.826504  9.256659e+04  1.590807e+05  3.349417e+05   \n",
      "min       0.000000     0.000000  0.000000e+00 -9.000000e+00  0.000000e+00   \n",
      "25%       1.000000     0.000000  0.000000e+00  0.000000e+00  0.000000e+00   \n",
      "50%       2.000000     0.000000  2.050000e+04  0.000000e+00  7.500000e+04   \n",
      "75%       3.000000     3.000000  6.500000e+04  8.000000e+04  2.000000e+05   \n",
      "max       4.000000     7.000000  2.198000e+06  1.075000e+07  1.099000e+07   \n",
      "\n",
      "                P21  \n",
      "count  7.619000e+03  \n",
      "mean   3.772887e+04  \n",
      "std    8.173585e+04  \n",
      "min   -9.000000e+00  \n",
      "25%    0.000000e+00  \n",
      "50%    0.000000e+00  \n",
      "75%    4.000000e+04  \n",
      "max    1.200000e+06  \n"
     ]
    }
   ],
   "source": [
    "descrip_analysis = df_aglomerados[['CH04','CH06','CH07','CH08','NIVEL_ED','ESTADO','CAT_INAC','IPCF','P47T','ITF','P21']].describe()\n",
    "print(descrip_analysis)"
   ]
  },
  {
   "cell_type": "code",
   "execution_count": 81,
   "id": "429be611",
   "metadata": {},
   "outputs": [
    {
     "name": "stdout",
     "output_type": "stream",
     "text": [
      "              CH04         CH06         CH07         CH08     NIVEL_ED  \\\n",
      "count  5942.000000  5942.000000  5942.000000  5942.000000  5942.000000   \n",
      "mean      1.533322    34.800067     3.520364     2.213901     3.681084   \n",
      "std       0.498930    23.097834     1.663040     1.893705     1.793058   \n",
      "min       1.000000     1.000000     1.000000     1.000000     1.000000   \n",
      "25%       1.000000    15.000000     2.000000     1.000000     2.000000   \n",
      "50%       2.000000    32.000000     5.000000     1.000000     4.000000   \n",
      "75%       2.000000    52.000000     5.000000     4.000000     5.000000   \n",
      "max       2.000000    99.000000     5.000000    12.000000     7.000000   \n",
      "\n",
      "            ESTADO     CAT_INAC          IPCF          P47T           ITF  \\\n",
      "count  5942.000000  5942.000000  5.942000e+03  5.942000e+03  5.942000e+03   \n",
      "mean      2.350050     1.740323  6.071591e+04  7.304394e+04  1.758968e+05   \n",
      "std       1.134744     1.886545  1.008592e+05  1.766055e+05  3.699772e+05   \n",
      "min       1.000000     0.000000  0.000000e+00  0.000000e+00  0.000000e+00   \n",
      "25%       1.000000     0.000000  0.000000e+00  0.000000e+00  0.000000e+00   \n",
      "50%       3.000000     1.000000  3.750000e+04  3.500000e+04  1.220000e+05   \n",
      "75%       3.000000     3.000000  8.000000e+04  1.000000e+05  2.350000e+05   \n",
      "max       4.000000     7.000000  2.198000e+06  1.075000e+07  1.099000e+07   \n",
      "\n",
      "                P21  \n",
      "count  5.942000e+03  \n",
      "mean   4.630233e+04  \n",
      "std    8.764687e+04  \n",
      "min    0.000000e+00  \n",
      "25%    0.000000e+00  \n",
      "50%    0.000000e+00  \n",
      "75%    7.000000e+04  \n",
      "max    1.200000e+06  \n"
     ]
    }
   ],
   "source": [
    "#Inciso b): A partir del análisis anteriro, descartamos las observaciones con valores absurdos \n",
    "# De las variables relacionadas a los ingresos eliminamos las observaciones con valores negativos. Lo mismo para la edad. \n",
    "# Las variables de estado civil (CH07) y cobertura médica (CH08) tienen observaciones que valen 9 y corresponde a No sabe/No responde\n",
    "df_aglomerados = df_aglomerados[(df_aglomerados[\"P21\"]>=0) & (df_aglomerados[\"P47T\"]>=0) & (df_aglomerados[\"CH06\"]>=0) & (df_aglomerados[\"CH07\"]!=9) & (df_aglomerados[\"CH08\"]!=9)]\n",
    "#Chequemos de vuelta la estadística descriptiva para ver si se borarron esas observaciones absurdas. \n",
    "descrip_analysis2 = df_aglomerados[['CH04','CH06','CH07','CH08','NIVEL_ED','ESTADO','CAT_INAC','IPCF','P47T','ITF','P21']].describe()\n",
    "print(descrip_analysis2)"
   ]
  },
  {
   "cell_type": "code",
   "execution_count": 82,
   "id": "7112ed9a",
   "metadata": {},
   "outputs": [
    {
     "name": "stdout",
     "output_type": "stream",
     "text": [
      "Mujeres    3169\n",
      "Varones    2773\n",
      "Name: CH04, dtype: int64\n"
     ]
    },
    {
     "data": {
      "image/png": "[encoded data removed]",
      "text/plain": [
       "<Figure size 640x480 with 1 Axes>"
      ]
     },
     "metadata": {},
     "output_type": "display_data"
    }
   ],
   "source": [
    "#Inciso c): realizamos un gráfico de barras mostrando la composición por sexo\n",
    "import matplotlib.pyplot as plt\n",
    "font = {'family': 'Latin Modern Math'}\n",
    "plt.rc('font', **font)\n",
    "#Creamos un data frame auxiliar para graficar \n",
    "sexo_labels = {1:\"Varones\", 2:\"Mujeres\"}\n",
    "sexo_counts = df_aglomerados[\"CH04\"].map(sexo_labels).value_counts()\n",
    "print(sexo_counts.head(5))\n",
    "#Realizamos el gráfico\n",
    "ax = sexo_counts.plot(kind=\"bar\", title= \"Composición por sexo\")\n",
    "ax.set_xlabel(\"Sexo\")\n",
    "ax.set_ylabel(\"Componentes\")\n",
    "colores = ['lightpink', 'lightblue']\n",
    "ax = sexo_counts.plot(kind=\"bar\", title=\"Figura 1: Composición por sexo\", color=colores)\n",
    "ax.set_xticklabels(ax.get_xticklabels(), rotation=0)\n",
    "\n",
    "plt.savefig(\"sexo.png\", dpi=300, bbox_inches='tight')"
   ]
  },
  {
   "cell_type": "code",
   "execution_count": 115,
   "id": "56895bff",
   "metadata": {},
   "outputs": [
    {
     "data": {
      "image/png": "[encoded data removed]",
      "text/plain": [
       "<Figure size 640x480 with 2 Axes>"
      ]
     },
     "metadata": {},
     "output_type": "display_data"
    }
   ],
   "source": [
    "#Inciso d): Realizamos una matriz de correlación\n",
    "import seaborn as sns\n",
    "import numpy as np \n",
    "#Creamos un data frame con las variables que luego van a estar en la matriz de correlación\n",
    "df_d = df_aglomerados[[\"CH04\", \"CH07\", \"CH08\", \"NIVEL_ED\", \"ESTADO\", \"CAT_INAC\", \"IPCF\"]].copy()\n",
    "\n",
    "\n",
    "corr = df_d.corr()\n",
    "ax = sns.heatmap(\n",
    "    corr, \n",
    "    annot=True, \n",
    "    vmin=-1, vmax=1, center=0,\n",
    "    cmap=sns.diverging_palette(20, 220, n=200),\n",
    "    square=True\n",
    ")\n",
    "etiquetas = ['Sexo', 'Estado Civil', 'Cobertura Médica', 'Nivel Educativo', 'Ocupación', 'Cat. Inactividad', 'IPCF']\n",
    "\n",
    "ax.set_xticklabels(etiquetas,\n",
    "    rotation=90,\n",
    "    horizontalalignment='right',\n",
    "    fontsize=10\n",
    ")\n",
    "ax.set_yticklabels(etiquetas,\n",
    "    rotation=0,\n",
    "    horizontalalignment='right',\n",
    "    fontsize=10\n",
    ")\n",
    "plt.title(\"Figura 2: Matriz de correlaciones\")\n",
    "plt.savefig(\"heatmap.png\", dpi=300, bbox_inches='tight')\n"
   ]
  },
  {
   "cell_type": "code",
   "execution_count": 84,
   "id": "e63bc85c",
   "metadata": {},
   "outputs": [
    {
     "name": "stdout",
     "output_type": "stream",
     "text": [
      "3    2529\n",
      "1    2249\n",
      "4     900\n",
      "2     264\n",
      "Name: ESTADO, dtype: int64\n",
      "ESTADO\n",
      "1    93268.953931\n",
      "2    27664.024053\n",
      "3    44797.115382\n",
      "4    33796.509633\n",
      "Name: IPCF, dtype: float64\n",
      "La media del ingreso per cápita familiar para los ocupados es $93.268, la de desocupados $27.664 y la de inactivos $44.797\n"
     ]
    }
   ],
   "source": [
    "#Inciso e): contamos la cantidad de desocupados e inactivos en la muestra \n",
    "ocupacion_counts = df_aglomerados[\"ESTADO\"].value_counts()\n",
    "print(ocupacion_counts)\n",
    "#Resultados: tenemos en nuestra base de datos a 264 personas desocupadas y 2540 personas inactivas\n",
    "\n",
    "#Calculamos el ingreso per cápita familiar promedio por estado ocupacional\n",
    "promedio_por_ocupacion = df_aglomerados.groupby(\"ESTADO\")[\"IPCF\"].mean()\n",
    "print(promedio_por_ocupacion)\n",
    "\n",
    "print(f\"La media del ingreso per cápita familiar para los ocupados es $93.268, la de desocupados $27.664 y la de inactivos $44.797\")\n"
   ]
  },
  {
   "cell_type": "code",
   "execution_count": 85,
   "id": "a09b792a",
   "metadata": {},
   "outputs": [
    {
     "name": "stdout",
     "output_type": "stream",
     "text": [
      "      CH06  Mujeres  Varones\n",
      "0        0     0.35     0.35\n",
      "1        1     0.37     0.37\n",
      "2        2     0.46     0.46\n",
      "3        3     0.51     0.51\n",
      "4        4     0.55     0.55\n",
      "..     ...      ...      ...\n",
      "101  101.0     0.63     0.74\n",
      "102  102.0     0.63     0.74\n",
      "103  103.0     0.63     0.74\n",
      "104  104.0     0.63     0.74\n",
      "105  105.0     0.63     0.74\n",
      "\n",
      "[106 rows x 3 columns]\n",
      "  CH06  CH04  adulto_equiv\n",
      "0   65     2          0.67\n",
      "1   70     1          0.83\n",
      "2   36     1          1.00\n",
      "3   28     2          0.76\n",
      "4    9     2          0.69\n",
      "5   59     1          1.00\n",
      "6   55     1          1.00\n",
      "7   18     1          1.02\n",
      "8   44     1          1.00\n",
      "9   10     2          0.70\n"
     ]
    },
    {
     "name": "stderr",
     "output_type": "stream",
     "text": [
      "/var/folders/gs/bbp_k7n56dgg1t__lzbv4f300000gp/T/ipykernel_96926/4258798631.py:40: FutureWarning: The frame.append method is deprecated and will be removed from pandas in a future version. Use pandas.concat instead.\n",
      "  df_equiv_total = df_equiv_mujeres.append(df_equiv_varones)\n"
     ]
    }
   ],
   "source": [
    "#Inciso f): trabajamos la base de datos \"tabla_adultos_equiv.xlsx\" como indica la consigna\n",
    "df_adultos = pd.read_excel(\"tabla_adulto_equiv.xlsx\",skiprows=3,nrows=24) \n",
    "df_adultos.drop(0, inplace = True)\n",
    "\n",
    "#Reseteamos el índice \n",
    "df_adultos.reset_index(drop=True,inplace=True)\n",
    "\n",
    "#Definimos las unidades de adulto equivalente para las edades que están agrupadas \n",
    "for i in range(0,18):\n",
    "    df_adultos.loc[i,\"Edad\"]= i \n",
    "#De 18 a 29 años le atribuímos el valor 0.76 a las mujeres y 1.02 a los hombres\n",
    "for i in range(18,30): \n",
    "    df_adultos.loc[i]= [i,0.76,1.02] \n",
    "#De 30 a 45 años le atribuímos el valor 0.77 a las mujeres y 1 a los hombres\n",
    "for i in range(30,46): \n",
    "    df_adultos.loc[i]= [i,0.77,1] \n",
    "#De 46 a 60 años le atribuímos el valor 0.76 a las mujeres y 1 a los hombres\n",
    "for i in range(46,61):\n",
    "    df_adultos.loc[i]= [i,0.76,1] \n",
    "#De 61 a 75 años le atribuímos el valor 0.67 a las mujeres y 0.83 a los hombres\n",
    "for i in range(61,76): \n",
    "    df_adultos.loc[i]= [i,0.67,0.83]\n",
    "#A los mayores de 75 años le atribuímos el valor 0.63 a las mujeres y 0.74 a los hombres\n",
    "for i in range(76,106): \n",
    "    df_adultos.loc[i]= [i,0.63,0.74] \n",
    "\n",
    "df_adultos = df_adultos.rename(columns={\"Edad\":\"CH06\"})\n",
    "print(df_adultos)\n",
    "\n",
    "#Armamos una base de datos para las mujeres y otras para los varones\n",
    "df_equiv_mujeres = df_adultos[[\"CH06\",\"Mujeres\"]].copy()\n",
    "df_equiv_mujeres[\"CH04\"] = 2 #El 2 implica que son mujeres según la variable CH04 de la EPH\n",
    "df_equiv_mujeres = df_equiv_mujeres.rename(columns={\"Mujeres\":\"adulto_equiv\"})\n",
    "\n",
    "df_equiv_varones = df_adultos[[\"CH06\",\"Varones\"]].copy()\n",
    "df_equiv_varones[\"CH04\"] = 1 #El 1 implica que son varones según la variable CH04 de la EPH\n",
    "df_equiv_varones = df_equiv_varones.rename(columns={\"Varones\":\"adulto_equiv\"})\n",
    "\n",
    "#Unimos las dos bases creadas anteriormente. Luego juntamos la nueva base con la EPH\n",
    "df_equiv_total = df_equiv_mujeres.append(df_equiv_varones)\n",
    "df_aglomerados_merge = df_aglomerados.merge(df_equiv_total, on=[\"CH06\",\"CH04\"], how = \"left\")\n",
    "#Chequeamos que haya dado bien\n",
    "print(df_aglomerados_merge[[\"CH06\",\"CH04\",\"adulto_equiv\"]].head(10))\n",
    "\n",
    "#Sumamos la nueva columna \"adulto_equiv\" para todas las personas que pertenecen al mismo hogar\n",
    "df_aglomerados_suma = df_aglomerados_merge.groupby([\"NRO_HOGAR\",\"CODUSU\"]).agg({\"adulto_equiv\":\"sum\"})\n",
    "df_aglomerados_suma.reset_index(inplace = True)\n",
    "df_aglomerados_suma = df_aglomerados_suma.rename(columns={\"adulto_equiv\":\"ad_equiv_hogar\"})\n",
    "df_aglomerados_final = df_aglomerados_merge.merge(df_aglomerados_suma, on=[\"NRO_HOGAR\",\"CODUSU\"], how = \"left\")"
   ]
  },
  {
   "cell_type": "markdown",
   "id": "a36fa4eb",
   "metadata": {},
   "source": [
    "**Inciso 3**"
   ]
  },
  {
   "cell_type": "code",
   "execution_count": 86,
   "id": "9b9de3c5",
   "metadata": {},
   "outputs": [
    {
     "name": "stdout",
     "output_type": "stream",
     "text": [
      "La cantidad de personas que no reportaron su ITF es 1769\n",
      "0    135000\n",
      "1    135000\n",
      "2     70000\n",
      "3     70000\n",
      "4     70000\n",
      "Name: ITF, dtype: int64\n",
      "0    0\n",
      "1    0\n",
      "2    0\n",
      "3    0\n",
      "4    0\n",
      "Name: ITF, dtype: int64\n"
     ]
    }
   ],
   "source": [
    "#Encontramos a las personas que no respondieron cual es su ITF y los diferenciamos en otra base de datos\n",
    "cantidad_missing = (df_aglomerados_final[\"ITF\"] == 0).sum()\n",
    "print(\"La cantidad de personas que no reportaron su ITF es\",cantidad_missing)\n",
    "#Hacemos una base con las personas que reportaron su ITF y otra con las que no lo hicieron\n",
    "respondieron = df_aglomerados_final[df_aglomerados_final[\"ITF\"]!= 0]\n",
    "norespondieron = df_aglomerados_final[df_aglomerados_final[\"ITF\"]== 0]\n",
    "#Chequeamos que los dataframes se hayan creado correctamente y reseteamos su índice\n",
    "respondieron.reset_index(inplace = True)\n",
    "norespondieron.reset_index(inplace = True)\n",
    "print(respondieron[\"ITF\"].head(5))\n",
    "print(norespondieron[\"ITF\"].head(5))"
   ]
  },
  {
   "cell_type": "markdown",
   "id": "da325f58",
   "metadata": {},
   "source": [
    "**Inciso 4**"
   ]
  },
  {
   "cell_type": "code",
   "execution_count": 87,
   "id": "944dbcda",
   "metadata": {},
   "outputs": [
    {
     "name": "stderr",
     "output_type": "stream",
     "text": [
      "/var/folders/gs/bbp_k7n56dgg1t__lzbv4f300000gp/T/ipykernel_96926/4102786844.py:2: SettingWithCopyWarning: \n",
      "A value is trying to be set on a copy of a slice from a DataFrame.\n",
      "Try using .loc[row_indexer,col_indexer] = value instead\n",
      "\n",
      "See the caveats in the documentation: https://pandas.pydata.org/pandas-docs/stable/user_guide/indexing.html#returning-a-view-versus-a-copy\n",
      "  respondieron[\"ingreso_necesario\"] = respondieron[\"ad_equiv_hogar\"]*(57371.05)\n"
     ]
    }
   ],
   "source": [
    "#Agregamos la columna de \"ingreso necesario\" al Data Frame de \"respondieron\"\n",
    "respondieron[\"ingreso_necesario\"] = respondieron[\"ad_equiv_hogar\"]*(57371.05)"
   ]
  },
  {
   "cell_type": "markdown",
   "id": "ef534ec9",
   "metadata": {},
   "source": [
    "**Inciso 5**"
   ]
  },
  {
   "cell_type": "code",
   "execution_count": 88,
   "id": "d55fee95",
   "metadata": {},
   "outputs": [
    {
     "name": "stdout",
     "output_type": "stream",
     "text": [
      "         ITF  ingreso_necesario  pobre\n",
      "0     135000         86056.5750      0\n",
      "1     135000         86056.5750      0\n",
      "2      70000        140559.0725      1\n",
      "3      70000        140559.0725      1\n",
      "4      70000        140559.0725      1\n",
      "...      ...                ...    ...\n",
      "4168  155000        219157.4110      1\n",
      "4169  480000        141132.7830      0\n",
      "4170  480000        141132.7830      0\n",
      "4171  480000        141132.7830      0\n",
      "4172  254000         36143.7615      0\n",
      "\n",
      "[4173 rows x 3 columns]\n",
      "La cantidad de pobres es 1555\n",
      "La tasa pobreza en esta muestra es de: 37.26 %\n"
     ]
    },
    {
     "name": "stderr",
     "output_type": "stream",
     "text": [
      "/var/folders/gs/bbp_k7n56dgg1t__lzbv4f300000gp/T/ipykernel_96926/2044747119.py:2: SettingWithCopyWarning: \n",
      "A value is trying to be set on a copy of a slice from a DataFrame.\n",
      "Try using .loc[row_indexer,col_indexer] = value instead\n",
      "\n",
      "See the caveats in the documentation: https://pandas.pydata.org/pandas-docs/stable/user_guide/indexing.html#returning-a-view-versus-a-copy\n",
      "  respondieron[\"pobre\"] = (respondieron[\"ITF\"] < respondieron[\"ingreso_necesario\"]).astype(int)\n"
     ]
    }
   ],
   "source": [
    "#Generamos una columna nueva llamada \"pobre\" para identificar a aquellos que no alcanzan el ingreso necesario\n",
    "respondieron[\"pobre\"] = (respondieron[\"ITF\"] < respondieron[\"ingreso_necesario\"]).astype(int)\n",
    "print(respondieron[[\"ITF\",\"ingreso_necesario\",\"pobre\"]])\n",
    "\n",
    "#Contamos el número de pobres que hay en el Data Frame \"respondieron\"\n",
    "cantidad_pobres = respondieron[\"pobre\"].value_counts()\n",
    "cantidad_pobres = cantidad_pobres.get(1, 0)\n",
    "print(\"La cantidad de pobres es\",cantidad_pobres)\n",
    "\n",
    "#Calculamos la proporción de pobres sobre el total \n",
    "pobres_prop=cantidad_pobres/len(respondieron)\n",
    "print(\"La tasa pobreza en esta muestra es de:\", round(pobres_prop*100,2), \"%\")\n"
   ]
  },
  {
   "cell_type": "markdown",
   "id": "bb444c52",
   "metadata": {},
   "source": [
    "## Parte 2"
   ]
  },
  {
   "cell_type": "markdown",
   "id": "f410309e",
   "metadata": {},
   "source": [
    "**Inciso 1**"
   ]
  },
  {
   "cell_type": "code",
   "execution_count": 89,
   "id": "6e50abf8",
   "metadata": {},
   "outputs": [],
   "source": [
    "#Eliminamos todas las variables relacionadas a ingresos de las dos bases de datos \n",
    "columnas_ingresos = [\"P21\",\"PP08D1\",\"PP08D4\",\"PP08F1\",\"PP08F2\",\"PP08J1\",\"PP08J2\",\"PP08J3\",\"DECOCUR\",\"IDECOCUR\",\"RDECOCUR\",\"GDECOCUR\",\"PDECOCUR\",\"ADECOCUR\",\"PONDIIO\",\"TOT_P12\",\"P47T\",\"DECINDR\",\"IDECINDR\",\"RDECINDR\",\"GDECINDR\",\"PDECINDR\",\"ADECINDR\",\"PONDII\",\"V2_M\",\"V3_M\",\"V4_M\",\"V5_M\",\"V8_M\",\"V9_M\",\"V10_M\",\"V11_M\",\"V12_M\",\"V18_M\",\"V21_M\",\"V19_AM\",\"T_VI\",\"ITF\",\"DECIFR\",\"IDECIFR\",\"RDECIFR\",\"GDECIFR\",\"PDECIFR\",\"ADECIFR\",\"IPCF\",\"DECCFR\",\"IDECCFR\",\"RDECCFR\",\"GDECCFR\",\"ADECCFR\",\"PDECCFR\",\"PONDIH\"]\n",
    "respondieron_2 = respondieron.drop(columnas_ingresos, axis=1)\n",
    "norespondieron_2 = norespondieron.drop(columnas_ingresos, axis=1)\n",
    "#Eliminar columnas adulto_equiv, ad_equiv_hogar e ingreso_necesario\n",
    "respondieron_2 = respondieron_2.drop([\"adulto_equiv\",\"ad_equiv_hogar\",\"ingreso_necesario\"], axis=1)\n",
    "norespondieron_2 = norespondieron_2.drop([\"adulto_equiv\",\"ad_equiv_hogar\"], axis=1)"
   ]
  },
  {
   "cell_type": "markdown",
   "id": "1ace48bb",
   "metadata": {},
   "source": [
    "**Inciso 2**"
   ]
  },
  {
   "cell_type": "code",
   "execution_count": 90,
   "id": "d762894c",
   "metadata": {},
   "outputs": [
    {
     "name": "stdout",
     "output_type": "stream",
     "text": [
      "Columna 'index': int64\n",
      "Columna 'CODUSU': object\n",
      "Columna 'ANO4': int64\n",
      "Columna 'TRIMESTRE': int64\n",
      "Columna 'NRO_HOGAR': int64\n",
      "Columna 'COMPONENTE': int64\n",
      "Columna 'H15': int64\n",
      "Columna 'REGION': int64\n",
      "Columna 'MAS_500': object\n",
      "Columna 'AGLOMERADO': int64\n",
      "Columna 'PONDERA': int64\n",
      "Columna 'CH03': int64\n",
      "Columna 'CH04': int64\n",
      "Columna 'CH05': object\n",
      "Columna 'CH06': object\n",
      "Columna 'CH07': int64\n",
      "Columna 'CH08': float64\n",
      "Columna 'CH09': int64\n",
      "Columna 'CH10': int64\n",
      "Columna 'CH11': int64\n",
      "Columna 'CH12': int64\n",
      "Columna 'CH13': int64\n",
      "Columna 'CH14': float64\n",
      "Columna 'CH15': int64\n",
      "Columna 'CH15_COD': float64\n",
      "Columna 'CH16': int64\n",
      "Columna 'CH16_COD': float64\n",
      "Columna 'NIVEL_ED': int64\n",
      "Columna 'ESTADO': int64\n",
      "Columna 'CAT_OCUP': int64\n",
      "Columna 'CAT_INAC': int64\n",
      "Columna 'IMPUTA': float64\n",
      "Columna 'PP02C1': int64\n",
      "Columna 'PP02C2': int64\n",
      "Columna 'PP02C3': int64\n",
      "Columna 'PP02C4': int64\n",
      "Columna 'PP02C5': int64\n",
      "Columna 'PP02C6': int64\n",
      "Columna 'PP02C7': int64\n",
      "Columna 'PP02C8': int64\n",
      "Columna 'PP02E': int64\n",
      "Columna 'PP02H': int64\n",
      "Columna 'PP02I': int64\n",
      "Columna 'PP03C': float64\n",
      "Columna 'PP03D': float64\n",
      "Columna 'PP3E_TOT': float64\n",
      "Columna 'PP3F_TOT': float64\n",
      "Columna 'PP03G': float64\n",
      "Columna 'PP03H': float64\n",
      "Columna 'PP03I': float64\n",
      "Columna 'PP03J': float64\n",
      "Columna 'INTENSI': float64\n",
      "Columna 'PP04A': float64\n",
      "Columna 'PP04B_COD': float64\n",
      "Columna 'PP04B1': float64\n",
      "Columna 'PP04B2': float64\n",
      "Columna 'PP04B3_MES': float64\n",
      "Columna 'PP04B3_ANO': float64\n",
      "Columna 'PP04B3_DIA': float64\n",
      "Columna 'PP04C': float64\n",
      "Columna 'PP04C99': float64\n",
      "Columna 'PP04D_COD': float64\n",
      "Columna 'PP04G': float64\n",
      "Columna 'PP05B2_MES': float64\n",
      "Columna 'PP05B2_ANO': float64\n",
      "Columna 'PP05B2_DIA': float64\n",
      "Columna 'PP05C_1': float64\n",
      "Columna 'PP05C_2': float64\n",
      "Columna 'PP05C_3': float64\n",
      "Columna 'PP05E': float64\n",
      "Columna 'PP05F': float64\n",
      "Columna 'PP05H': float64\n",
      "Columna 'PP06A': float64\n",
      "Columna 'PP06C': float64\n",
      "Columna 'PP06D': float64\n",
      "Columna 'PP06E': float64\n",
      "Columna 'PP06H': float64\n",
      "Columna 'PP07A': float64\n",
      "Columna 'PP07C': float64\n",
      "Columna 'PP07D': float64\n",
      "Columna 'PP07E': float64\n",
      "Columna 'PP07F1': float64\n",
      "Columna 'PP07F2': float64\n",
      "Columna 'PP07F3': float64\n",
      "Columna 'PP07F4': float64\n",
      "Columna 'PP07F5': float64\n",
      "Columna 'PP07G1': float64\n",
      "Columna 'PP07G2': float64\n",
      "Columna 'PP07G3': float64\n",
      "Columna 'PP07G4': float64\n",
      "Columna 'PP07G_59': float64\n",
      "Columna 'PP07H': float64\n",
      "Columna 'PP07I': float64\n",
      "Columna 'PP07J': float64\n",
      "Columna 'PP07K': float64\n",
      "Columna 'PP09A': float64\n",
      "Columna 'PP09A_ESP': object\n",
      "Columna 'PP09B': float64\n",
      "Columna 'PP09C': float64\n",
      "Columna 'PP09C_ESP': object\n",
      "Columna 'PP10A': float64\n",
      "Columna 'PP10C': float64\n",
      "Columna 'PP10D': float64\n",
      "Columna 'PP10E': float64\n",
      "Columna 'PP11A': float64\n",
      "Columna 'PP11B_COD': float64\n",
      "Columna 'PP11B1': float64\n",
      "Columna 'PP11B2_MES': float64\n",
      "Columna 'PP11B2_ANO': float64\n",
      "Columna 'PP11B2_DIA': float64\n",
      "Columna 'PP11C': float64\n",
      "Columna 'PP11C99': float64\n",
      "Columna 'PP11D_COD': float64\n",
      "Columna 'PP11G_ANO': float64\n",
      "Columna 'PP11G_MES': float64\n",
      "Columna 'PP11G_DIA': float64\n",
      "Columna 'PP11L': float64\n",
      "Columna 'PP11L1': float64\n",
      "Columna 'PP11M': float64\n",
      "Columna 'PP11N': float64\n",
      "Columna 'PP11O': float64\n",
      "Columna 'PP11P': float64\n",
      "Columna 'PP11Q': float64\n",
      "Columna 'PP11R': float64\n",
      "Columna 'PP11S': float64\n",
      "Columna 'PP11T': float64\n",
      "Columna 'pobre': int64\n"
     ]
    }
   ],
   "source": [
    "#Obtenemos el nombre de todas las columnas del data frame y borramos aquellas que no son numéricas para poder correr la regresión\n",
    "tipos = respondieron_2.dtypes\n",
    "for columna, tipo in tipos.items():\n",
    "    print(f\"Columna '{columna}': {tipo}\") \n",
    "\n",
    "#Las variables no numericas que borramos son CODUSU, MAS_500 y CH05.\n",
    "columnas_a_eliminar = ['CODUSU', 'MAS_500', 'CH05']\n",
    "respondieron_2 = respondieron_2.drop(columns=columnas_a_eliminar)\n",
    "norespondieron_2 = norespondieron_2.drop(columns=columnas_a_eliminar)"
   ]
  },
  {
   "cell_type": "code",
   "execution_count": 91,
   "id": "d2db9ca1",
   "metadata": {},
   "outputs": [
    {
     "name": "stdout",
     "output_type": "stream",
     "text": [
      "Columna 'index': 0\n",
      "Columna 'ANO4': 0\n",
      "Columna 'TRIMESTRE': 0\n",
      "Columna 'NRO_HOGAR': 0\n",
      "Columna 'COMPONENTE': 0\n",
      "Columna 'H15': 0\n",
      "Columna 'REGION': 0\n",
      "Columna 'AGLOMERADO': 0\n",
      "Columna 'PONDERA': 0\n",
      "Columna 'CH03': 0\n",
      "Columna 'CH04': 0\n",
      "Columna 'CH06': 0\n",
      "Columna 'CH07': 0\n",
      "Columna 'CH08': 0\n",
      "Columna 'CH09': 0\n",
      "Columna 'CH10': 0\n",
      "Columna 'CH11': 0\n",
      "Columna 'CH12': 0\n",
      "Columna 'CH13': 0\n",
      "Columna 'CH14': 2098\n",
      "Columna 'CH15': 0\n",
      "Columna 'CH15_COD': 3374\n",
      "Columna 'CH16': 0\n",
      "Columna 'CH16_COD': 4105\n",
      "Columna 'NIVEL_ED': 0\n",
      "Columna 'ESTADO': 0\n",
      "Columna 'CAT_OCUP': 0\n",
      "Columna 'CAT_INAC': 0\n",
      "Columna 'IMPUTA': 4159\n",
      "Columna 'PP02C1': 0\n",
      "Columna 'PP02C2': 0\n",
      "Columna 'PP02C3': 0\n",
      "Columna 'PP02C4': 0\n",
      "Columna 'PP02C5': 0\n",
      "Columna 'PP02C6': 0\n",
      "Columna 'PP02C7': 0\n",
      "Columna 'PP02C8': 0\n",
      "Columna 'PP02E': 0\n",
      "Columna 'PP02H': 0\n",
      "Columna 'PP02I': 0\n",
      "Columna 'PP03C': 2339\n",
      "Columna 'PP03D': 2339\n",
      "Columna 'PP3E_TOT': 2339\n",
      "Columna 'PP3F_TOT': 2339\n",
      "Columna 'PP03G': 2339\n",
      "Columna 'PP03H': 2339\n",
      "Columna 'PP03I': 2339\n",
      "Columna 'PP03J': 2339\n",
      "Columna 'INTENSI': 2339\n",
      "Columna 'PP04A': 2339\n",
      "Columna 'PP04B_COD': 2339\n",
      "Columna 'PP04B1': 2339\n",
      "Columna 'PP04B2': 2339\n",
      "Columna 'PP04B3_MES': 2339\n",
      "Columna 'PP04B3_ANO': 2339\n",
      "Columna 'PP04B3_DIA': 2339\n",
      "Columna 'PP04C': 2339\n",
      "Columna 'PP04C99': 2339\n",
      "Columna 'PP04D_COD': 2339\n",
      "Columna 'PP04G': 2339\n",
      "Columna 'PP05B2_MES': 2339\n",
      "Columna 'PP05B2_ANO': 2339\n",
      "Columna 'PP05B2_DIA': 2339\n",
      "Columna 'PP05C_1': 2339\n",
      "Columna 'PP05C_2': 2339\n",
      "Columna 'PP05C_3': 2339\n",
      "Columna 'PP05E': 2339\n",
      "Columna 'PP05F': 2339\n",
      "Columna 'PP05H': 2339\n",
      "Columna 'PP06A': 2339\n",
      "Columna 'PP06C': 2339\n",
      "Columna 'PP06D': 2339\n",
      "Columna 'PP06E': 2339\n",
      "Columna 'PP06H': 2339\n",
      "Columna 'PP07A': 2339\n",
      "Columna 'PP07C': 2339\n",
      "Columna 'PP07D': 2339\n",
      "Columna 'PP07E': 2339\n",
      "Columna 'PP07F1': 2339\n",
      "Columna 'PP07F2': 2339\n",
      "Columna 'PP07F3': 2339\n",
      "Columna 'PP07F4': 2339\n",
      "Columna 'PP07F5': 2339\n",
      "Columna 'PP07G1': 2339\n",
      "Columna 'PP07G2': 2339\n",
      "Columna 'PP07G3': 2339\n",
      "Columna 'PP07G4': 2339\n",
      "Columna 'PP07G_59': 2339\n",
      "Columna 'PP07H': 2339\n",
      "Columna 'PP07I': 2339\n",
      "Columna 'PP07J': 2339\n",
      "Columna 'PP07K': 2339\n",
      "Columna 'PP09A': 2339\n",
      "Columna 'PP09A_ESP': 4161\n",
      "Columna 'PP09B': 2339\n",
      "Columna 'PP09C': 2339\n",
      "Columna 'PP09C_ESP': 4173\n",
      "Columna 'PP10A': 4019\n",
      "Columna 'PP10C': 4019\n",
      "Columna 'PP10D': 4019\n",
      "Columna 'PP10E': 4019\n",
      "Columna 'PP11A': 4019\n",
      "Columna 'PP11B_COD': 4019\n",
      "Columna 'PP11B1': 4019\n",
      "Columna 'PP11B2_MES': 4019\n",
      "Columna 'PP11B2_ANO': 4019\n",
      "Columna 'PP11B2_DIA': 4019\n",
      "Columna 'PP11C': 4019\n",
      "Columna 'PP11C99': 4019\n",
      "Columna 'PP11D_COD': 4071\n",
      "Columna 'PP11G_ANO': 4019\n",
      "Columna 'PP11G_MES': 4019\n",
      "Columna 'PP11G_DIA': 4019\n",
      "Columna 'PP11L': 4019\n",
      "Columna 'PP11L1': 4019\n",
      "Columna 'PP11M': 4019\n",
      "Columna 'PP11N': 4019\n",
      "Columna 'PP11O': 4019\n",
      "Columna 'PP11P': 4019\n",
      "Columna 'PP11Q': 4019\n",
      "Columna 'PP11R': 4019\n",
      "Columna 'PP11S': 4019\n",
      "Columna 'PP11T': 4019\n",
      "Columna 'pobre': 0\n",
      "Columna 'index': 0\n",
      "Columna 'ANO4': 0\n",
      "Columna 'TRIMESTRE': 0\n",
      "Columna 'NRO_HOGAR': 0\n",
      "Columna 'COMPONENTE': 0\n",
      "Columna 'H15': 0\n",
      "Columna 'REGION': 0\n",
      "Columna 'AGLOMERADO': 0\n",
      "Columna 'PONDERA': 0\n",
      "Columna 'CH03': 0\n",
      "Columna 'CH04': 0\n",
      "Columna 'CH06': 0\n",
      "Columna 'CH07': 0\n",
      "Columna 'CH08': 0\n",
      "Columna 'CH09': 0\n",
      "Columna 'CH10': 0\n",
      "Columna 'CH11': 0\n",
      "Columna 'CH12': 0\n",
      "Columna 'CH13': 0\n",
      "Columna 'CH14': 670\n",
      "Columna 'CH15': 0\n",
      "Columna 'CH15_COD': 1515\n",
      "Columna 'CH16': 0\n",
      "Columna 'CH16_COD': 1753\n",
      "Columna 'NIVEL_ED': 0\n",
      "Columna 'ESTADO': 0\n",
      "Columna 'CAT_OCUP': 0\n",
      "Columna 'CAT_INAC': 0\n",
      "Columna 'IMPUTA': 1762\n",
      "Columna 'PP02C1': 0\n",
      "Columna 'PP02C2': 0\n",
      "Columna 'PP02C3': 0\n",
      "Columna 'PP02C4': 0\n",
      "Columna 'PP02C5': 0\n",
      "Columna 'PP02C6': 0\n",
      "Columna 'PP02C7': 0\n",
      "Columna 'PP02C8': 0\n",
      "Columna 'PP02E': 0\n",
      "Columna 'PP02H': 0\n",
      "Columna 'PP02I': 0\n",
      "Columna 'PP03C': 1354\n",
      "Columna 'PP03D': 1354\n",
      "Columna 'PP3E_TOT': 1354\n",
      "Columna 'PP3F_TOT': 1354\n",
      "Columna 'PP03G': 1354\n",
      "Columna 'PP03H': 1354\n",
      "Columna 'PP03I': 1354\n",
      "Columna 'PP03J': 1354\n",
      "Columna 'INTENSI': 1354\n",
      "Columna 'PP04A': 1354\n",
      "Columna 'PP04B_COD': 1354\n",
      "Columna 'PP04B1': 1354\n",
      "Columna 'PP04B2': 1354\n",
      "Columna 'PP04B3_MES': 1354\n",
      "Columna 'PP04B3_ANO': 1354\n",
      "Columna 'PP04B3_DIA': 1354\n",
      "Columna 'PP04C': 1354\n",
      "Columna 'PP04C99': 1354\n",
      "Columna 'PP04D_COD': 1354\n",
      "Columna 'PP04G': 1354\n",
      "Columna 'PP05B2_MES': 1354\n",
      "Columna 'PP05B2_ANO': 1354\n",
      "Columna 'PP05B2_DIA': 1354\n",
      "Columna 'PP05C_1': 1354\n",
      "Columna 'PP05C_2': 1354\n",
      "Columna 'PP05C_3': 1354\n",
      "Columna 'PP05E': 1354\n",
      "Columna 'PP05F': 1354\n",
      "Columna 'PP05H': 1354\n",
      "Columna 'PP06A': 1354\n",
      "Columna 'PP06C': 1354\n",
      "Columna 'PP06D': 1354\n",
      "Columna 'PP06E': 1354\n",
      "Columna 'PP06H': 1354\n",
      "Columna 'PP07A': 1354\n",
      "Columna 'PP07C': 1354\n",
      "Columna 'PP07D': 1354\n",
      "Columna 'PP07E': 1354\n",
      "Columna 'PP07F1': 1354\n",
      "Columna 'PP07F2': 1354\n",
      "Columna 'PP07F3': 1354\n",
      "Columna 'PP07F4': 1354\n",
      "Columna 'PP07F5': 1354\n",
      "Columna 'PP07G1': 1354\n",
      "Columna 'PP07G2': 1354\n",
      "Columna 'PP07G3': 1354\n",
      "Columna 'PP07G4': 1354\n",
      "Columna 'PP07G_59': 1354\n",
      "Columna 'PP07H': 1354\n",
      "Columna 'PP07I': 1354\n",
      "Columna 'PP07J': 1354\n",
      "Columna 'PP07K': 1354\n",
      "Columna 'PP09A': 1354\n",
      "Columna 'PP09A_ESP': 1767\n",
      "Columna 'PP09B': 1354\n",
      "Columna 'PP09C': 1354\n",
      "Columna 'PP09C_ESP': 1769\n",
      "Columna 'PP10A': 1659\n",
      "Columna 'PP10C': 1659\n",
      "Columna 'PP10D': 1659\n",
      "Columna 'PP10E': 1659\n",
      "Columna 'PP11A': 1659\n",
      "Columna 'PP11B_COD': 1659\n",
      "Columna 'PP11B1': 1659\n",
      "Columna 'PP11B2_MES': 1659\n",
      "Columna 'PP11B2_ANO': 1659\n",
      "Columna 'PP11B2_DIA': 1659\n",
      "Columna 'PP11C': 1659\n",
      "Columna 'PP11C99': 1659\n",
      "Columna 'PP11D_COD': 1682\n",
      "Columna 'PP11G_ANO': 1659\n",
      "Columna 'PP11G_MES': 1659\n",
      "Columna 'PP11G_DIA': 1659\n",
      "Columna 'PP11L': 1659\n",
      "Columna 'PP11L1': 1659\n",
      "Columna 'PP11M': 1659\n",
      "Columna 'PP11N': 1659\n",
      "Columna 'PP11O': 1659\n",
      "Columna 'PP11P': 1659\n",
      "Columna 'PP11Q': 1659\n",
      "Columna 'PP11R': 1659\n",
      "Columna 'PP11S': 1659\n",
      "Columna 'PP11T': 1659\n"
     ]
    }
   ],
   "source": [
    "#Borramos también las columnas con muchos missing values\n",
    "missing_values = respondieron_2.isna().sum()\n",
    "for columna, missing_values in missing_values.items():\n",
    "    print(f\"Columna '{columna}': {missing_values}\") \n",
    "respondieron_2 = respondieron_2.dropna(axis=1)\n",
    "\n",
    "missing_values = norespondieron_2.isna().sum()\n",
    "for columna, missing_values in missing_values.items():\n",
    "    print(f\"Columna '{columna}': {missing_values}\")  \n",
    "norespondieron_2 = norespondieron_2.dropna(axis=1)"
   ]
  },
  {
   "cell_type": "code",
   "execution_count": 92,
   "id": "8597b8e6",
   "metadata": {},
   "outputs": [
    {
     "name": "stdout",
     "output_type": "stream",
     "text": [
      "La base x de prueba tiene el 30 % de los datos\n",
      "La base x de entrenamiento tiene el 70 % de los datos\n",
      "La base y de prueba tiene el 30 % de los datos\n",
      "La base y de entrenamiento tiene el 70 % de los datos\n"
     ]
    }
   ],
   "source": [
    "#Partimos la base \"respondieron\" en una parte de entrenamiento y otra parte de prueba\n",
    "import statsmodels.api as sm\n",
    "y = respondieron_2[\"pobre\"]\n",
    "x = respondieron_2[respondieron_2.columns.drop(\"pobre\")]\n",
    "x = sm.add_constant(x)\n",
    "from sklearn.model_selection import train_test_split\n",
    "x_train, x_test, y_train, y_test = train_test_split(x.loc[:,x.columns!=\"const\"],y,test_size=0.3,random_state=201)\n",
    "#Chequeamos la partición de las bases de prueba y entrenamiento\n",
    "print(\"La base x de prueba tiene el\",round(len(x_test)/len(respondieron_2)*100), \"% de los datos\") \n",
    "print(\"La base x de entrenamiento tiene el\", round(len(x_train)/len(respondieron_2)*100),  \"% de los datos\")  \n",
    "print(\"La base y de prueba tiene el\",round(len(y_test)/len(respondieron_2)*100), \"% de los datos\") \n",
    "print(\"La base y de entrenamiento tiene el\", round(len(y_train)/len(respondieron_2)*100),  \"% de los datos\")"
   ]
  },
  {
   "cell_type": "markdown",
   "id": "bfe55f18",
   "metadata": {},
   "source": [
    "**Inciso 3**"
   ]
  },
  {
   "cell_type": "code",
   "execution_count": 93,
   "id": "df1e1bef",
   "metadata": {},
   "outputs": [],
   "source": [
    "#Realizamos la curva ROC y los valores de AUC y de Accuracy. Luego computamos la matriz de confusión.\n",
    "from sklearn import datasets\n",
    "from sklearn.linear_model import LogisticRegression\n",
    "from sklearn.metrics import confusion_matrix\n",
    "from sklearn.metrics import accuracy_score, recall_score \n",
    "from sklearn.metrics import roc_curve\n",
    "from sklearn.metrics import roc_auc_score\n",
    "from sklearn.metrics import RocCurveDisplay\n",
    "from sklearn.discriminant_analysis import LinearDiscriminantAnalysis\n",
    "from sklearn.neighbors import KNeighborsClassifier"
   ]
  },
  {
   "cell_type": "markdown",
   "id": "1b4ad118",
   "metadata": {},
   "source": [
    "Logit"
   ]
  },
  {
   "cell_type": "code",
   "execution_count": 94,
   "id": "4bf1916c",
   "metadata": {},
   "outputs": [
    {
     "name": "stderr",
     "output_type": "stream",
     "text": [
      "/Users/Victoria/anaconda3/lib/python3.11/site-packages/sklearn/linear_model/_logistic.py:460: ConvergenceWarning: lbfgs failed to converge (status=1):\n",
      "STOP: TOTAL NO. of ITERATIONS REACHED LIMIT.\n",
      "\n",
      "Increase the number of iterations (max_iter) or scale the data as shown in:\n",
      "    https://scikit-learn.org/stable/modules/preprocessing.html\n",
      "Please also refer to the documentation for alternative solver options:\n",
      "    https://scikit-learn.org/stable/modules/linear_model.html#logistic-regression\n",
      "  n_iter_i = _check_optimize_result(\n"
     ]
    }
   ],
   "source": [
    "#Ajustamos el clasificador con el método fit() y hacemos las predicciones de probabilidad \n",
    "reg_logistica = LogisticRegression().fit(x_train,y_train)\n",
    "pred_y_score = reg_logistica.predict_proba(x_test)[:,1]  \n",
    "\n",
    "#Transformamos las probabilidades en Y con valores 1 o 0 (con el clasificador de Bayes)\n",
    "y_predicha = np.where(pred_y_score > 0.5, 1, pred_y_score)\n",
    "y_predicha = np.where(pred_y_score <= 0.5, 0, y_predicha)"
   ]
  },
  {
   "cell_type": "code",
   "execution_count": 95,
   "id": "eaa01b61",
   "metadata": {},
   "outputs": [
    {
     "name": "stdout",
     "output_type": "stream",
     "text": [
      "Confusion Matrix:\n",
      "[[642 139]\n",
      " [216 255]]\n",
      "Accuracy Score : 0.716\n"
     ]
    }
   ],
   "source": [
    "#Generamos la matriz de confusión\n",
    "matriz_confusion = confusion_matrix(y_test, y_predicha)\n",
    "\n",
    "print('Confusion Matrix:')\n",
    "print(matriz_confusion) \n",
    "accuracy_log= accuracy_score(y_test, y_predicha)\n",
    "print('Accuracy Score :','%.3f' % accuracy_log)"
   ]
  },
  {
   "cell_type": "code",
   "execution_count": 96,
   "id": "b740619d",
   "metadata": {},
   "outputs": [
    {
     "name": "stdout",
     "output_type": "stream",
     "text": [
      "AUC: 0.682\n",
      "[inf  1.  0.]\n",
      "[0.         0.17797695 1.        ]\n",
      "[0.         0.54140127 1.        ]\n"
     ]
    },
    {
     "data": {
      "image/png": "[encoded data removed]",
      "text/plain": [
       "<Figure size 640x480 with 1 Axes>"
      ]
     },
     "metadata": {},
     "output_type": "display_data"
    }
   ],
   "source": [
    "#Calculamos el área debajo de la curva ROC (su acumulado)\n",
    "auc_ROC = roc_auc_score(y_test, y_predicha)\n",
    "print('AUC: %.3f' % auc_ROC)\n",
    "\n",
    "#Graficamos la curva ROC \n",
    "fpr, tpr, thresholds = roc_curve(y_test, y_predicha)\n",
    "np.set_printoptions(suppress = True)\n",
    "print(thresholds)\n",
    "print(fpr)\n",
    "print(tpr)\n",
    "\n",
    "display = RocCurveDisplay(fpr=fpr, tpr=tpr, roc_auc=auc_ROC, estimator_name='Reg_log')\n",
    "font = {'family': 'Latin Modern Math'}\n",
    "plt.rc('font', **font)\n",
    "display.plot()  \n",
    "plt.plot([0, 1], [0, 1], color='red', linestyle='--')\n",
    "plt.title(\"Figura 3: Curva ROC (Regresión logística)\")\n",
    "plt.savefig(\"roc_logit.png\", dpi=300, bbox_inches='tight')\n",
    "plt.show()"
   ]
  },
  {
   "cell_type": "markdown",
   "id": "a30fbc7b",
   "metadata": {},
   "source": [
    "Análisis de discriminante lineal"
   ]
  },
  {
   "cell_type": "code",
   "execution_count": 97,
   "id": "e67226e8",
   "metadata": {},
   "outputs": [
    {
     "name": "stdout",
     "output_type": "stream",
     "text": [
      "El accuracy del modelo es: 0.73\n"
     ]
    }
   ],
   "source": [
    "#Realizamos el análisis discriminante lineal \n",
    "adl = LinearDiscriminantAnalysis(n_components=1)\n",
    "adl = adl.fit(x_train, y_train)\n",
    "\n",
    "#Predecimos con el modelo de análisis discriminante lineal sobre las x de testeo\n",
    "y_test_pred_adl = adl.predict(x_test)\n",
    "accuracy_adl = accuracy_score(y_test, y_test_pred_adl)\n",
    "print(\"El accuracy del modelo es: %.2f\" %accuracy_adl)"
   ]
  },
  {
   "cell_type": "code",
   "execution_count": 98,
   "id": "cf434dbb",
   "metadata": {},
   "outputs": [
    {
     "name": "stdout",
     "output_type": "stream",
     "text": [
      "Confusion Matrix:\n",
      "[[646 135]\n",
      " [203 268]]\n"
     ]
    }
   ],
   "source": [
    "#Generamos la matriz de confusión\n",
    "matriz_confusion_adl = confusion_matrix(y_test,y_test_pred_adl)\n",
    "\n",
    "print('Confusion Matrix:')\n",
    "print(matriz_confusion_adl)"
   ]
  },
  {
   "cell_type": "code",
   "execution_count": 99,
   "id": "7970033a",
   "metadata": {
    "scrolled": true
   },
   "outputs": [
    {
     "name": "stdout",
     "output_type": "stream",
     "text": [
      "AUC: 0.698\n",
      "[inf  1.  0.]\n",
      "[0.         0.17285531 1.        ]\n",
      "[0.         0.56900212 1.        ]\n"
     ]
    },
    {
     "data": {
      "image/png": "[encoded data removed]",
      "text/plain": [
       "<Figure size 640x480 with 1 Axes>"
      ]
     },
     "metadata": {},
     "output_type": "display_data"
    }
   ],
   "source": [
    "#Calculamos el área debajo de la curva ROC (su acumulado) para el método ADL \n",
    "auc_ROC_adl = roc_auc_score(y_test, y_test_pred_adl)\n",
    "print('AUC: %.3f' % auc_ROC_adl)\n",
    "\n",
    "#Graficamos la curva ROC \n",
    "fpr_adl, tpr_adl, thresholds_adl = roc_curve(y_test, y_test_pred_adl)\n",
    "np.set_printoptions(suppress = True)\n",
    "print(thresholds_adl)\n",
    "print(fpr_adl)\n",
    "print(tpr_adl)\n",
    "\n",
    "display_adl = RocCurveDisplay(fpr=fpr_adl, tpr=tpr_adl, roc_auc=auc_ROC_adl, estimator_name='Reg_log')\n",
    "font = {'family': 'Latin Modern Math'}\n",
    "plt.rc('font', **font)\n",
    "display_adl.plot()  \n",
    "plt.plot([0, 1], [0, 1], color='red', linestyle='--')\n",
    "plt.title(\"Figura 4: Curva ROC (Análisis de discriminante lineal)\")\n",
    "plt.savefig(\"roc_LDA.png\", dpi=300, bbox_inches='tight')\n",
    "plt.show()"
   ]
  },
  {
   "cell_type": "code",
   "execution_count": 100,
   "id": "3fb37866",
   "metadata": {},
   "outputs": [
    {
     "name": "stdout",
     "output_type": "stream",
     "text": [
      "El accuracy del modelo es: 0.826\n"
     ]
    }
   ],
   "source": [
    "#Realizamos el método de vecinos cercanos con k=3\n",
    "knn = KNeighborsClassifier(n_neighbors=3)\n",
    "knn.fit(x_train,y_train)\n",
    "y_test_pred_knn = knn.predict(x_test)\n",
    "accuracy_knn = accuracy_score(y_test,y_test_pred_knn)\n",
    "print(\"El accuracy del modelo es: %.3f\" %accuracy_knn)"
   ]
  },
  {
   "cell_type": "code",
   "execution_count": 101,
   "id": "9e1c995e",
   "metadata": {},
   "outputs": [
    {
     "name": "stdout",
     "output_type": "stream",
     "text": [
      "Confusion Matrix:\n",
      "[[658 123]\n",
      " [ 95 376]]\n"
     ]
    }
   ],
   "source": [
    "#Generamos la matriz de confusión\n",
    "matriz_confusion_knn = confusion_matrix(y_test,y_test_pred_knn)\n",
    "\n",
    "print('Confusion Matrix:')\n",
    "print(matriz_confusion_knn)"
   ]
  },
  {
   "cell_type": "code",
   "execution_count": 102,
   "id": "63ab67a9",
   "metadata": {},
   "outputs": [
    {
     "name": "stdout",
     "output_type": "stream",
     "text": [
      "AUC: 0.820\n",
      "[inf  1.  0.]\n",
      "[0.        0.1574904 1.       ]\n",
      "[0.         0.79830149 1.        ]\n"
     ]
    },
    {
     "data": {
      "image/png": "[encoded data removed]",
      "text/plain": [
       "<Figure size 640x480 with 1 Axes>"
      ]
     },
     "metadata": {},
     "output_type": "display_data"
    }
   ],
   "source": [
    "#Calculamos el área debajo de la curva ROC (su acumulado) para el método de vecinos cercanos \n",
    "auc_ROC_knn = roc_auc_score(y_test, y_test_pred_knn)\n",
    "print('AUC: %.3f' % auc_ROC_knn)\n",
    "\n",
    "#Graficamos la curva ROC \n",
    "fpr_knn, tpr_knn, thresholds_knn = roc_curve(y_test, y_test_pred_knn)\n",
    "np.set_printoptions(suppress = True)\n",
    "print(thresholds_knn)\n",
    "print(fpr_knn)\n",
    "print(tpr_knn)\n",
    "\n",
    "display_knn = RocCurveDisplay(fpr=fpr_knn, tpr=tpr_knn, roc_auc=auc_ROC_knn, estimator_name='Reg_log')\n",
    "font = {'family': 'Latin Modern Math'}\n",
    "plt.rc('font', **font)\n",
    "display_knn.plot()  \n",
    "plt.plot([0, 1], [0, 1], color='red', linestyle='--')\n",
    "plt.title(\"Figura 5: Curva ROC (Análisis de KNN con k = 3)\")\n",
    "plt.savefig(\"roc_knn.png\", dpi=300, bbox_inches='tight')\n",
    "plt.show()"
   ]
  },
  {
   "cell_type": "markdown",
   "id": "546563d2",
   "metadata": {},
   "source": [
    "**Inciso 5**"
   ]
  },
  {
   "cell_type": "code",
   "execution_count": 103,
   "id": "731375f2",
   "metadata": {},
   "outputs": [
    {
     "name": "stdout",
     "output_type": "stream",
     "text": [
      "La cantidad de pobres que el método predice en la muestra no respondieron es de : 1649\n",
      "La tasa de pobreza predicha en la muestra de no respondieron es de: 39.52 %\n"
     ]
    }
   ],
   "source": [
    "#La mejor opción es el método de vecinos cercanos, por lo que predecimos la cantidad de \"pobres\" en la base no respondieron con este método.\n",
    "x_nr = norespondieron_2\n",
    "x_nr = sm.add_constant(x)\n",
    "y_pred_norespondieron = knn.predict(x_nr)\n",
    "\n",
    "#Contamos la cantidad de pobres que el método predice\n",
    "pobres_pred = np.sum(y_pred_norespondieron)\n",
    "print(\"La cantidad de pobres que el método predice en la muestra no respondieron es de :\", pobres_pred)\n",
    "\n",
    "#Calculamos la proporción de las personas que no respondieron que identificamos como pobres\n",
    "pobres_prop = np.sum(y_pred_norespondieron)/len(y_pred_norespondieron)\n",
    "print(\"La tasa de pobreza predicha en la muestra de no respondieron es de:\", round(pobres_prop*100,2), \"%\")\n"
   ]
  },
  {
   "cell_type": "markdown",
   "id": "db40ef48",
   "metadata": {},
   "source": [
    "**Inciso 6**"
   ]
  },
  {
   "cell_type": "code",
   "execution_count": 108,
   "id": "85099158",
   "metadata": {},
   "outputs": [
    {
     "name": "stdout",
     "output_type": "stream",
     "text": [
      "Variables en la base de datos:\n",
      "index\n",
      "ANO4\n",
      "TRIMESTRE\n",
      "NRO_HOGAR\n",
      "COMPONENTE\n",
      "H15\n",
      "REGION\n",
      "AGLOMERADO\n",
      "PONDERA\n",
      "CH03\n",
      "CH04\n",
      "CH06\n",
      "CH07\n",
      "CH08\n",
      "CH09\n",
      "CH10\n",
      "CH11\n",
      "CH12\n",
      "CH13\n",
      "CH15\n",
      "CH16\n",
      "NIVEL_ED\n",
      "ESTADO\n",
      "CAT_OCUP\n",
      "CAT_INAC\n",
      "PP02C1\n",
      "PP02C2\n",
      "PP02C3\n",
      "PP02C4\n",
      "PP02C5\n",
      "PP02C6\n",
      "PP02C7\n",
      "PP02C8\n",
      "PP02E\n",
      "PP02H\n",
      "PP02I\n",
      "pobre\n"
     ]
    }
   ],
   "source": [
    "#Vemos las variables que hay en la base para seleccionar las que queremos en la estimación\n",
    "columnas = respondieron_2.columns\n",
    "print(\"Variables en la base de datos:\")\n",
    "for columna in columnas:\n",
    "    print(columna)\n",
    "    \n",
    "#Dejamos las variables CH03 (Relación de parentesco), CH04 (Sexo), CH06 (Edad), CH07 (Estado civil), CH08 (Cobertura médica), CH09 (Saber leer o escribir), CH10 (Asistencia a establecimiento educativo), CH12 (Nivel educativo más alto cursado), CH16 (Dónde vivía hace 5 años), NIVEL_ED (Nivel Educativo), ESTADO (Condición de actividad), CAT_INAC (Categoría de inactividad), PP02H (Búsqueda de trabajo en los últimos 12 meses), PP02I (Si trabajó en algún momento en los últimos 12 meses),'pobre'\n",
    "columnas_selec = ['CH03','CH04','CH06','CH07','CH08','CH09','CH10','CH12','CH16','NIVEL_ED','ESTADO','CAT_INAC','PP02H','PP02I','pobre']\n",
    "respondieron_selec = respondieron_2[columnas_selec]"
   ]
  },
  {
   "cell_type": "code",
   "execution_count": 109,
   "id": "634b9474",
   "metadata": {},
   "outputs": [
    {
     "data": {
      "text/html": [
       "<div>\n",
       "<style scoped>\n",
       "    .dataframe tbody tr th:only-of-type {\n",
       "        vertical-align: middle;\n",
       "    }\n",
       "\n",
       "    .dataframe tbody tr th {\n",
       "        vertical-align: top;\n",
       "    }\n",
       "\n",
       "    .dataframe thead th {\n",
       "        text-align: right;\n",
       "    }\n",
       "</style>\n",
       "<table border=\"1\" class=\"dataframe\">\n",
       "  <thead>\n",
       "    <tr style=\"text-align: right;\">\n",
       "      <th></th>\n",
       "      <th>CH03</th>\n",
       "      <th>CH04</th>\n",
       "      <th>CH06</th>\n",
       "      <th>CH07</th>\n",
       "      <th>CH08</th>\n",
       "      <th>CH09</th>\n",
       "      <th>CH10</th>\n",
       "      <th>CH12</th>\n",
       "      <th>CH16</th>\n",
       "      <th>NIVEL_ED</th>\n",
       "      <th>ESTADO</th>\n",
       "      <th>CAT_INAC</th>\n",
       "      <th>PP02H</th>\n",
       "      <th>PP02I</th>\n",
       "      <th>pobre</th>\n",
       "    </tr>\n",
       "  </thead>\n",
       "  <tbody>\n",
       "    <tr>\n",
       "      <th>0</th>\n",
       "      <td>1</td>\n",
       "      <td>2</td>\n",
       "      <td>65</td>\n",
       "      <td>1</td>\n",
       "      <td>1.0</td>\n",
       "      <td>1</td>\n",
       "      <td>2</td>\n",
       "      <td>2</td>\n",
       "      <td>1</td>\n",
       "      <td>2</td>\n",
       "      <td>3</td>\n",
       "      <td>1</td>\n",
       "      <td>2</td>\n",
       "      <td>2</td>\n",
       "      <td>0</td>\n",
       "    </tr>\n",
       "    <tr>\n",
       "      <th>1</th>\n",
       "      <td>2</td>\n",
       "      <td>1</td>\n",
       "      <td>70</td>\n",
       "      <td>1</td>\n",
       "      <td>1.0</td>\n",
       "      <td>1</td>\n",
       "      <td>2</td>\n",
       "      <td>2</td>\n",
       "      <td>1</td>\n",
       "      <td>2</td>\n",
       "      <td>1</td>\n",
       "      <td>0</td>\n",
       "      <td>0</td>\n",
       "      <td>0</td>\n",
       "      <td>0</td>\n",
       "    </tr>\n",
       "    <tr>\n",
       "      <th>2</th>\n",
       "      <td>1</td>\n",
       "      <td>1</td>\n",
       "      <td>36</td>\n",
       "      <td>1</td>\n",
       "      <td>4.0</td>\n",
       "      <td>1</td>\n",
       "      <td>2</td>\n",
       "      <td>4</td>\n",
       "      <td>1</td>\n",
       "      <td>4</td>\n",
       "      <td>1</td>\n",
       "      <td>0</td>\n",
       "      <td>0</td>\n",
       "      <td>0</td>\n",
       "      <td>1</td>\n",
       "    </tr>\n",
       "    <tr>\n",
       "      <th>3</th>\n",
       "      <td>2</td>\n",
       "      <td>2</td>\n",
       "      <td>28</td>\n",
       "      <td>1</td>\n",
       "      <td>4.0</td>\n",
       "      <td>1</td>\n",
       "      <td>2</td>\n",
       "      <td>4</td>\n",
       "      <td>1</td>\n",
       "      <td>4</td>\n",
       "      <td>1</td>\n",
       "      <td>0</td>\n",
       "      <td>0</td>\n",
       "      <td>0</td>\n",
       "      <td>1</td>\n",
       "    </tr>\n",
       "    <tr>\n",
       "      <th>4</th>\n",
       "      <td>3</td>\n",
       "      <td>2</td>\n",
       "      <td>9</td>\n",
       "      <td>5</td>\n",
       "      <td>4.0</td>\n",
       "      <td>1</td>\n",
       "      <td>1</td>\n",
       "      <td>2</td>\n",
       "      <td>1</td>\n",
       "      <td>1</td>\n",
       "      <td>4</td>\n",
       "      <td>3</td>\n",
       "      <td>0</td>\n",
       "      <td>0</td>\n",
       "      <td>1</td>\n",
       "    </tr>\n",
       "    <tr>\n",
       "      <th>...</th>\n",
       "      <td>...</td>\n",
       "      <td>...</td>\n",
       "      <td>...</td>\n",
       "      <td>...</td>\n",
       "      <td>...</td>\n",
       "      <td>...</td>\n",
       "      <td>...</td>\n",
       "      <td>...</td>\n",
       "      <td>...</td>\n",
       "      <td>...</td>\n",
       "      <td>...</td>\n",
       "      <td>...</td>\n",
       "      <td>...</td>\n",
       "      <td>...</td>\n",
       "      <td>...</td>\n",
       "    </tr>\n",
       "    <tr>\n",
       "      <th>4168</th>\n",
       "      <td>3</td>\n",
       "      <td>1</td>\n",
       "      <td>5</td>\n",
       "      <td>5</td>\n",
       "      <td>4.0</td>\n",
       "      <td>2</td>\n",
       "      <td>1</td>\n",
       "      <td>1</td>\n",
       "      <td>6</td>\n",
       "      <td>7</td>\n",
       "      <td>4</td>\n",
       "      <td>5</td>\n",
       "      <td>0</td>\n",
       "      <td>0</td>\n",
       "      <td>1</td>\n",
       "    </tr>\n",
       "    <tr>\n",
       "      <th>4169</th>\n",
       "      <td>1</td>\n",
       "      <td>1</td>\n",
       "      <td>32</td>\n",
       "      <td>1</td>\n",
       "      <td>2.0</td>\n",
       "      <td>1</td>\n",
       "      <td>2</td>\n",
       "      <td>6</td>\n",
       "      <td>1</td>\n",
       "      <td>6</td>\n",
       "      <td>1</td>\n",
       "      <td>0</td>\n",
       "      <td>0</td>\n",
       "      <td>0</td>\n",
       "      <td>0</td>\n",
       "    </tr>\n",
       "    <tr>\n",
       "      <th>4170</th>\n",
       "      <td>2</td>\n",
       "      <td>2</td>\n",
       "      <td>38</td>\n",
       "      <td>1</td>\n",
       "      <td>2.0</td>\n",
       "      <td>1</td>\n",
       "      <td>2</td>\n",
       "      <td>6</td>\n",
       "      <td>1</td>\n",
       "      <td>6</td>\n",
       "      <td>1</td>\n",
       "      <td>0</td>\n",
       "      <td>0</td>\n",
       "      <td>0</td>\n",
       "      <td>0</td>\n",
       "    </tr>\n",
       "    <tr>\n",
       "      <th>4171</th>\n",
       "      <td>3</td>\n",
       "      <td>1</td>\n",
       "      <td>9</td>\n",
       "      <td>5</td>\n",
       "      <td>2.0</td>\n",
       "      <td>1</td>\n",
       "      <td>1</td>\n",
       "      <td>2</td>\n",
       "      <td>1</td>\n",
       "      <td>1</td>\n",
       "      <td>4</td>\n",
       "      <td>3</td>\n",
       "      <td>0</td>\n",
       "      <td>0</td>\n",
       "      <td>0</td>\n",
       "    </tr>\n",
       "    <tr>\n",
       "      <th>4172</th>\n",
       "      <td>1</td>\n",
       "      <td>2</td>\n",
       "      <td>77</td>\n",
       "      <td>3</td>\n",
       "      <td>1.0</td>\n",
       "      <td>1</td>\n",
       "      <td>2</td>\n",
       "      <td>7</td>\n",
       "      <td>1</td>\n",
       "      <td>5</td>\n",
       "      <td>3</td>\n",
       "      <td>1</td>\n",
       "      <td>2</td>\n",
       "      <td>2</td>\n",
       "      <td>0</td>\n",
       "    </tr>\n",
       "  </tbody>\n",
       "</table>\n",
       "<p>4173 rows × 15 columns</p>\n",
       "</div>"
      ],
      "text/plain": [
       "      CH03  CH04 CH06  CH07  CH08  CH09  CH10  CH12  CH16  NIVEL_ED  ESTADO  \\\n",
       "0        1     2   65     1   1.0     1     2     2     1         2       3   \n",
       "1        2     1   70     1   1.0     1     2     2     1         2       1   \n",
       "2        1     1   36     1   4.0     1     2     4     1         4       1   \n",
       "3        2     2   28     1   4.0     1     2     4     1         4       1   \n",
       "4        3     2    9     5   4.0     1     1     2     1         1       4   \n",
       "...    ...   ...  ...   ...   ...   ...   ...   ...   ...       ...     ...   \n",
       "4168     3     1    5     5   4.0     2     1     1     6         7       4   \n",
       "4169     1     1   32     1   2.0     1     2     6     1         6       1   \n",
       "4170     2     2   38     1   2.0     1     2     6     1         6       1   \n",
       "4171     3     1    9     5   2.0     1     1     2     1         1       4   \n",
       "4172     1     2   77     3   1.0     1     2     7     1         5       3   \n",
       "\n",
       "      CAT_INAC  PP02H  PP02I  pobre  \n",
       "0            1      2      2      0  \n",
       "1            0      0      0      0  \n",
       "2            0      0      0      1  \n",
       "3            0      0      0      1  \n",
       "4            3      0      0      1  \n",
       "...        ...    ...    ...    ...  \n",
       "4168         5      0      0      1  \n",
       "4169         0      0      0      0  \n",
       "4170         0      0      0      0  \n",
       "4171         3      0      0      0  \n",
       "4172         1      2      2      0  \n",
       "\n",
       "[4173 rows x 15 columns]"
      ]
     },
     "execution_count": 109,
     "metadata": {},
     "output_type": "execute_result"
    }
   ],
   "source": [
    "respondieron_selec"
   ]
  },
  {
   "cell_type": "code",
   "execution_count": 110,
   "id": "47583abe",
   "metadata": {},
   "outputs": [
    {
     "name": "stdout",
     "output_type": "stream",
     "text": [
      "Confusion Matrix:\n",
      "[[642 139]\n",
      " [216 255]]\n",
      "Accuracy Score : 0.716\n"
     ]
    },
    {
     "name": "stderr",
     "output_type": "stream",
     "text": [
      "/Users/Victoria/anaconda3/lib/python3.11/site-packages/sklearn/linear_model/_logistic.py:460: ConvergenceWarning: lbfgs failed to converge (status=1):\n",
      "STOP: TOTAL NO. of ITERATIONS REACHED LIMIT.\n",
      "\n",
      "Increase the number of iterations (max_iter) or scale the data as shown in:\n",
      "    https://scikit-learn.org/stable/modules/preprocessing.html\n",
      "Please also refer to the documentation for alternative solver options:\n",
      "    https://scikit-learn.org/stable/modules/linear_model.html#logistic-regression\n",
      "  n_iter_i = _check_optimize_result(\n"
     ]
    }
   ],
   "source": [
    "#Implementamos nuevamente el método logit\n",
    "y2 = respondieron_selec[\"pobre\"]\n",
    "x2 = respondieron_selec[respondieron_selec.columns.drop(\"pobre\")]\n",
    "x2 = sm.add_constant(x)\n",
    "x2_train, x2_test, y2_train, y2_test = train_test_split(x2.loc[:,x2.columns!=\"const\"],y2,test_size=0.3,random_state=201)\n",
    "reg_logistica2 = LogisticRegression().fit(x2_train,y2_train)\n",
    "pred_y_score2 = reg_logistica2.predict_proba(x2_test)[:,1]  \n",
    "\n",
    "#Transformamos las probabilidades en Y con valores 1 o 0 (con el clasificador de Bayes)\n",
    "y2_predicha = np.where(pred_y_score2 > 0.5, 1, pred_y_score2)\n",
    "y2_predicha = np.where(pred_y_score2 <= 0.5, 0, y2_predicha)\n",
    "\n",
    "#Generamos la matriz de confusión\n",
    "matriz_confusion2 = confusion_matrix(y2_test, y2_predicha)\n",
    "print('Confusion Matrix:')\n",
    "print(matriz_confusion2) \n",
    "accuracy_log2= accuracy_score(y2_test, y2_predicha)\n",
    "print('Accuracy Score :','%.3f' % accuracy_log2)"
   ]
  },
  {
   "cell_type": "code",
   "execution_count": 112,
   "id": "a696a19b",
   "metadata": {},
   "outputs": [
    {
     "name": "stdout",
     "output_type": "stream",
     "text": [
      "AUC: 0.682\n"
     ]
    },
    {
     "data": {
      "image/png": "[encoded data removed]",
      "text/plain": [
       "<Figure size 640x480 with 1 Axes>"
      ]
     },
     "metadata": {},
     "output_type": "display_data"
    }
   ],
   "source": [
    "#Calculamos el área debajo de la curva ROC (su acumulado)\n",
    "auc_ROC2 = roc_auc_score(y2_test, y2_predicha)\n",
    "print('AUC: %.3f' % auc_ROC2)\n",
    "\n",
    "#Graficamos la curva ROC \n",
    "fpr2, tpr2, thresholds2 = roc_curve(y2_test, y2_predicha)\n",
    "np.set_printoptions(suppress = True)\n",
    "\n",
    "display2 = RocCurveDisplay(fpr=fpr2, tpr=tpr2, roc_auc=auc_ROC2, estimator_name='Reg_log')\n",
    "font = {'family': 'Latin Modern Math'}\n",
    "plt.rc('font', **font)\n",
    "display.plot()  \n",
    "plt.plot([0, 1], [0, 1], color='red', linestyle='--')\n",
    "plt.title(\"Figura 7: Curva ROC (Regresión logística) con variables seleccionadas\")\n",
    "plt.savefig(\"roc_logit2.png\", dpi=300, bbox_inches='tight')\n",
    "plt.show()"
   ]
  }
 ],
 "metadata": {
  "kernelspec": {
   "display_name": "Python 3 (ipykernel)",
   "language": "python",
   "name": "python3"
  },
  "language_info": {
   "codemirror_mode": {
    "name": "ipython",
    "version": 3
   },
   "file_extension": ".py",
   "mimetype": "text/x-python",
   "name": "python",
   "nbconvert_exporter": "python",
   "pygments_lexer": "ipython3",
   "version": "3.11.4"
  }
 },
 "nbformat": 4,
 "nbformat_minor": 5
}
