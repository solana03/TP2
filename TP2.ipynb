{
 "cells": [
  {
   "cell_type": "markdown",
   "id": "2dbb8b7a",
   "metadata": {},
   "source": [
    "Parte 1"
   ]
  },
  {
   "cell_type": "markdown",
   "id": "d15b12c3",
   "metadata": {},
   "source": [
    "Inciso 2 "
   ]
  },
  {
   "cell_type": "code",
<<<<<<< HEAD
   "execution_count": 328,
=======
   "execution_count": 1,
>>>>>>> 94520fcb17b26d7948d8bba9483db0d41e22a641
   "id": "de1f6e05",
   "metadata": {},
   "outputs": [
    {
     "name": "stdout",
     "output_type": "stream",
     "text": [
      "                          CODUSU  ANO4  TRIMESTRE  NRO_HOGAR  COMPONENTE  H15  \\\n",
      "0  TQRMNORVWHLMKOCDEOHCH00720228  2023          1          1           5    0   \n",
      "1  TQRMNOPSTHKMKPCDEOHCH00781447  2023          1          1           1    1   \n",
      "2  TQRMNOQSXHMOKRCDEOHCH00803177  2023          1          1           1    1   \n",
      "3  TQRMNOQSXHMOKRCDEOHCH00803177  2023          1          1           2    1   \n",
      "4  TQRMNOQYTHMNKSCDEOHCH00803178  2023          1          1           1    1   \n",
      "\n",
      "   REGION MAS_500  AGLOMERADO  PONDERA  ...  PDECIFR  ADECIFR      IPCF  \\\n",
      "0      44       N          91      112  ...     10.0        9   79700.0   \n",
      "1      44       N          91      190  ...      6.0        5  180000.0   \n",
      "2      44       N          91      134  ...      8.0        8  145000.0   \n",
      "3      44       N          91      134  ...      8.0        8  145000.0   \n",
      "4      44       N          91      120  ...     12.0       12       0.0   \n",
      "\n",
      "   DECCFR  IDECCFR  RDECCFR  GDECCFR  PDECCFR  ADECCFR  PONDIH  \n",
      "0       6      6.0        5      NaN      7.0        5     133  \n",
      "1       9     10.0        9      NaN     10.0        9     200  \n",
      "2       9      9.0        8      NaN      9.0        8     140  \n",
      "3       9      9.0        8      NaN      9.0        8     140  \n",
      "4      12     12.0       12      NaN     12.0       12       0  \n",
      "\n",
      "[5 rows x 177 columns]\n"
     ]
    }
   ],
   "source": [
    "#Importamos la base de datos\n",
    "import pandas as pd\n",
    "df = pd.read_excel(\"usu_individual_T123.xlsx\")\n",
    "print(df.head(5))"
   ]
  },
  {
   "cell_type": "code",
<<<<<<< HEAD
   "execution_count": 329,
=======
   "execution_count": 2,
>>>>>>> 94520fcb17b26d7948d8bba9483db0d41e22a641
   "id": "b87cbb89",
   "metadata": {},
   "outputs": [
    {
     "name": "stdout",
     "output_type": "stream",
     "text": [
      "                            CODUSU  ANO4  TRIMESTRE  NRO_HOGAR  COMPONENTE  \\\n",
      "102  TQRMNORUYHLMSMCDEIJAH00719364  2023          1          1           1   \n",
      "103  TQRMNORUYHLMSMCDEIJAH00719364  2023          1          1           2   \n",
      "104  TQRMNOSRQHJNSOCDEIJAH00802640  2023          1          1           1   \n",
      "105  TQRMNOSRQHJNSOCDEIJAH00802640  2023          1          1           2   \n",
      "106  TQRMNOSRQHJNSOCDEIJAH00802640  2023          1          1           3   \n",
      "107  TQRMNOSWQHJLQRCDEIJAH00796254  2023          1          1           1   \n",
      "108  TQRMNOSWQHJLQRCDEIJAH00796254  2023          1          1           2   \n",
      "181  TQRMNOPYVHLMRLCDEIJAH00719346  2023          1          1           1   \n",
      "182  TQRMNOPYVHLMRLCDEIJAH00719346  2023          1          1           2   \n",
      "183  TQRMNOPYVHLMRLCDEIJAH00719346  2023          1          1           3   \n",
      "278  TQRMNOTTTHKNLSCDEIIAD00780051  2023          1          1           1   \n",
      "279  TQRMNOSRXHKMLUCDEIIAD00780093  2023          1          1           1   \n",
      "280  TQRMNOSRXHKMLUCDEIIAD00780093  2023          1          1           2   \n",
      "281  TQRMNOSRXHKMLUCDEIIAD00780093  2023          1          1           3   \n",
      "282  TQRMNOSRXHKMLUCDEIIAD00780093  2023          1          1           4   \n",
      "\n",
      "     H15  REGION MAS_500  AGLOMERADO  PONDERA  ...  PDECIFR  ADECIFR  \\\n",
      "102    1       1       S          33     1545  ...      NaN        4   \n",
      "103    1       1       S          33     1545  ...      NaN        4   \n",
      "104    1       1       S          33     8423  ...      NaN        2   \n",
      "105    1       1       S          33     8423  ...      NaN        2   \n",
      "106    0       1       S          33     8423  ...      NaN        2   \n",
      "107    1       1       S          33     2356  ...      NaN        9   \n",
      "108    1       1       S          33     2356  ...      NaN        9   \n",
      "181    1       1       S          33     2086  ...      NaN       12   \n",
      "182    1       1       S          33     2086  ...      NaN       12   \n",
      "183    1       1       S          33     2086  ...      NaN       12   \n",
      "278    1       1       S          32     1798  ...      NaN        7   \n",
      "279    1       1       S          32     2361  ...      NaN       12   \n",
      "280    1       1       S          32     2361  ...      NaN       12   \n",
      "281    1       1       S          32     2361  ...      NaN       12   \n",
      "282    0       1       S          32     2361  ...      NaN       12   \n",
      "\n",
      "          IPCF  DECCFR  IDECCFR  RDECCFR  GDECCFR  PDECCFR  ADECCFR  PONDIH  \n",
      "102   67500.00       5      NaN        5      5.0      NaN        6    2540  \n",
      "103   67500.00       5      NaN        5      5.0      NaN        6    2540  \n",
      "104   23333.33       1      NaN        1      1.0      NaN        1   14082  \n",
      "105   23333.33       1      NaN        1      1.0      NaN        1   14082  \n",
      "106   23333.33       1      NaN        1      1.0      NaN        1   14082  \n",
      "107  180000.00       9      NaN        9      9.0      NaN       10    4090  \n",
      "108  180000.00       9      NaN        9      9.0      NaN       10    4090  \n",
      "181       0.00      12      NaN       12     12.0      NaN       12       0  \n",
      "182       0.00      12      NaN       12     12.0      NaN       12       0  \n",
      "183       0.00      12      NaN       12     12.0      NaN       12       0  \n",
      "278  320000.00      10      NaN       10     10.0      NaN       10    1511  \n",
      "279       0.00      12      NaN       12     12.0      NaN       12       0  \n",
      "280       0.00      12      NaN       12     12.0      NaN       12       0  \n",
      "281       0.00      12      NaN       12     12.0      NaN       12       0  \n",
      "282       0.00      12      NaN       12     12.0      NaN       12       0  \n",
      "\n",
      "[15 rows x 177 columns]\n"
     ]
    }
   ],
   "source": [
    "#Inciso a): eliminamos las observaciones que no pertenezcan a CABA o GBA\n",
    "df_aglomerados = df[(df[\"AGLOMERADO\"]==32)|(df[\"AGLOMERADO\"]==33)]\n",
    "#Chequeamos el data frame \n",
    "print(df_aglomerados.head(15))"
   ]
  },
  {
   "cell_type": "code",
<<<<<<< HEAD
   "execution_count": 330,
=======
   "execution_count": 3,
>>>>>>> 94520fcb17b26d7948d8bba9483db0d41e22a641
   "id": "429be611",
   "metadata": {},
   "outputs": [],
   "source": [
    "#Inciso b): descartamos las observaciones con valores absurdos \n",
    "df_aglomerados = df_aglomerados[(df_aglomerados[\"ITF\"]>=0) & (df_aglomerados[\"IPCF\"]>=0) & (df_aglomerados[\"P21\"]>=0) & (df_aglomerados[\"P47T\"]>=0) & (df_aglomerados[\"CH06\"]>=0)]"
   ]
  },
  {
   "cell_type": "code",
<<<<<<< HEAD
   "execution_count": 331,
=======
   "execution_count": 4,
>>>>>>> 94520fcb17b26d7948d8bba9483db0d41e22a641
   "id": "7112ed9a",
   "metadata": {},
   "outputs": [
    {
     "name": "stdout",
     "output_type": "stream",
     "text": [
      "Mujeres    3175\n",
      "Varones    2784\n",
      "Name: CH04, dtype: int64\n"
     ]
    },
    {
     "data": {
      "image/png": "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",
      "text/plain": [
       "<Figure size 640x480 with 1 Axes>"
      ]
     },
     "metadata": {},
     "output_type": "display_data"
    }
   ],
   "source": [
    "#Inciso c): realizamos un gráfico de barras mostrando la composición por sexo\n",
    "import matplotlib.pyplot as plt\n",
    "font = {'family': 'Latin Modern Math'}\n",
    "plt.rc('font', **font)\n",
    "#Creamos un data frame auxiliar para graficar \n",
    "sexo_labels = {1:\"Varones\", 2:\"Mujeres\"}\n",
    "sexo_counts = df_aglomerados[\"CH04\"].map(sexo_labels).value_counts()\n",
    "print(sexo_counts.head(5))\n",
    "#Realizamos el gráfico\n",
    "ax = sexo_counts.plot(kind=\"bar\", title= \"Composición por sexo\")\n",
    "ax.set_xlabel(\"Sexo\")\n",
    "ax.set_ylabel(\"Componentes\")\n",
    "colores = ['lightpink', 'lightblue']\n",
    "ax = sexo_counts.plot(kind=\"bar\", title=\"Figura 1: Composición por sexo\", color=colores)\n",
    "ax.set_xticklabels(ax.get_xticklabels(), rotation=0)\n",
    "\n",
    "plt.savefig(\"sexo.png\", dpi=300, bbox_inches='tight')\n",
    "\n",
    "\n"
   ]
  },
  {
   "cell_type": "code",
<<<<<<< HEAD
   "execution_count": 332,
=======
   "execution_count": 5,
>>>>>>> 94520fcb17b26d7948d8bba9483db0d41e22a641
   "id": "56895bff",
   "metadata": {},
   "outputs": [
    {
     "data": {
      "image/png": "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",
      "text/plain": [
       "<Figure size 640x480 with 2 Axes>"
      ]
     },
     "metadata": {},
     "output_type": "display_data"
    }
   ],
   "source": [
    "#Inciso d): Realizamos una matriz de correlación\n",
    "import seaborn as sns\n",
    "import numpy as np \n",
    "#Creamos un data frame con las variables que luego van a estar en la matriz de correlación\n",
    "df_d = df_aglomerados[[\"CH04\", \"CH07\", \"CH08\", \"NIVEL_ED\", \"ESTADO\", \"CAT_INAC\", \"IPCF\"]].copy()\n",
    "\n",
    "\n",
    "corr = df_d.corr()\n",
    "ax = sns.heatmap(\n",
    "    corr, \n",
    "    annot=True, \n",
    "    vmin=-1, vmax=1, center=0,\n",
    "    cmap=sns.diverging_palette(20, 220, n=200),\n",
    "    square=True\n",
    ")\n",
    "ax.set_xticklabels(\n",
    "    ax.get_xticklabels(),\n",
    "    rotation=90,\n",
    "    horizontalalignment='right',\n",
    "    fontsize=10\n",
    ")\n",
    "plt.title(\"Figura 2: Matriz de correlaciones\")\n",
    "plt.savefig(\"heatmap.png\", dpi=300, bbox_inches='tight')\n"
   ]
  },
  {
   "cell_type": "code",
<<<<<<< HEAD
   "execution_count": 333,
=======
   "execution_count": 6,
>>>>>>> 94520fcb17b26d7948d8bba9483db0d41e22a641
   "id": "e63bc85c",
   "metadata": {},
   "outputs": [
    {
     "name": "stdout",
     "output_type": "stream",
     "text": [
      "3    2540\n",
      "1    2254\n",
      "4     901\n",
      "2     264\n",
      "Name: ESTADO, dtype: int64\n",
      "ESTADO\n",
      "0        0.000000\n",
      "1    62718.814308\n",
      "2    32263.560711\n",
      "3    49957.566475\n",
      "4    40113.265974\n",
      "Name: IPCF, dtype: float64\n"
     ]
    }
   ],
   "source": [
    "#Inciso e): contamos la cantidad de desocupados e inactivos en la muestra \n",
    "ocupacion_counts = df_aglomerados[\"ESTADO\"].value_counts()\n",
    "print(ocupacion_counts)\n",
    "#Resultados: tenemos en nuestra base de datos a 264 personas desocupadas y 2540 personas inactivas\n",
    "\n",
    "#Calculamos el ingreso per cápita familiar promedio por estado ocupacional\n",
    "promedio_por_ocupacion = df.groupby(\"ESTADO\")[\"IPCF\"].mean()\n",
    "print(promedio_por_ocupacion)\n"
   ]
  },
  {
   "cell_type": "code",
<<<<<<< HEAD
   "execution_count": 334,
=======
   "execution_count": 7,
>>>>>>> 94520fcb17b26d7948d8bba9483db0d41e22a641
   "id": "a09b792a",
   "metadata": {},
   "outputs": [
    {
     "name": "stdout",
     "output_type": "stream",
     "text": [
      "      CH06  Mujeres  Varones\n",
      "0        0     0.35     0.35\n",
      "1        1     0.37     0.37\n",
      "2        2     0.46     0.46\n",
      "3        3     0.51     0.51\n",
      "4        4     0.55     0.55\n",
      "..     ...      ...      ...\n",
      "101  101.0     0.63     0.74\n",
      "102  102.0     0.63     0.74\n",
      "103  103.0     0.63     0.74\n",
      "104  104.0     0.63     0.74\n",
      "105  105.0     0.63     0.74\n",
      "\n",
<<<<<<< HEAD
      "[106 rows x 3 columns]\n",
=======
      "[106 rows x 3 columns]\n"
     ]
    },
    {
     "data": {
      "text/html": [
       "<div>\n",
       "<style scoped>\n",
       "    .dataframe tbody tr th:only-of-type {\n",
       "        vertical-align: middle;\n",
       "    }\n",
       "\n",
       "    .dataframe tbody tr th {\n",
       "        vertical-align: top;\n",
       "    }\n",
       "\n",
       "    .dataframe thead th {\n",
       "        text-align: right;\n",
       "    }\n",
       "</style>\n",
       "<table border=\"1\" class=\"dataframe\">\n",
       "  <thead>\n",
       "    <tr style=\"text-align: right;\">\n",
       "      <th></th>\n",
       "      <th>CH06</th>\n",
       "      <th>adulto_equiv</th>\n",
       "      <th>CH04</th>\n",
       "    </tr>\n",
       "  </thead>\n",
       "  <tbody>\n",
       "    <tr>\n",
       "      <th>0</th>\n",
       "      <td>0</td>\n",
       "      <td>0.35</td>\n",
       "      <td>2</td>\n",
       "    </tr>\n",
       "    <tr>\n",
       "      <th>1</th>\n",
       "      <td>1</td>\n",
       "      <td>0.37</td>\n",
       "      <td>2</td>\n",
       "    </tr>\n",
       "    <tr>\n",
       "      <th>2</th>\n",
       "      <td>2</td>\n",
       "      <td>0.46</td>\n",
       "      <td>2</td>\n",
       "    </tr>\n",
       "    <tr>\n",
       "      <th>3</th>\n",
       "      <td>3</td>\n",
       "      <td>0.51</td>\n",
       "      <td>2</td>\n",
       "    </tr>\n",
       "    <tr>\n",
       "      <th>4</th>\n",
       "      <td>4</td>\n",
       "      <td>0.55</td>\n",
       "      <td>2</td>\n",
       "    </tr>\n",
       "    <tr>\n",
       "      <th>...</th>\n",
       "      <td>...</td>\n",
       "      <td>...</td>\n",
       "      <td>...</td>\n",
       "    </tr>\n",
       "    <tr>\n",
       "      <th>101</th>\n",
       "      <td>101.0</td>\n",
       "      <td>0.63</td>\n",
       "      <td>2</td>\n",
       "    </tr>\n",
       "    <tr>\n",
       "      <th>102</th>\n",
       "      <td>102.0</td>\n",
       "      <td>0.63</td>\n",
       "      <td>2</td>\n",
       "    </tr>\n",
       "    <tr>\n",
       "      <th>103</th>\n",
       "      <td>103.0</td>\n",
       "      <td>0.63</td>\n",
       "      <td>2</td>\n",
       "    </tr>\n",
       "    <tr>\n",
       "      <th>104</th>\n",
       "      <td>104.0</td>\n",
       "      <td>0.63</td>\n",
       "      <td>2</td>\n",
       "    </tr>\n",
       "    <tr>\n",
       "      <th>105</th>\n",
       "      <td>105.0</td>\n",
       "      <td>0.63</td>\n",
       "      <td>2</td>\n",
       "    </tr>\n",
       "  </tbody>\n",
       "</table>\n",
       "<p>106 rows × 3 columns</p>\n",
       "</div>"
      ],
      "text/plain": [
       "      CH06  adulto_equiv  CH04\n",
       "0        0          0.35     2\n",
       "1        1          0.37     2\n",
       "2        2          0.46     2\n",
       "3        3          0.51     2\n",
       "4        4          0.55     2\n",
       "..     ...           ...   ...\n",
       "101  101.0          0.63     2\n",
       "102  102.0          0.63     2\n",
       "103  103.0          0.63     2\n",
       "104  104.0          0.63     2\n",
       "105  105.0          0.63     2\n",
       "\n",
       "[106 rows x 3 columns]"
      ]
     },
     "metadata": {},
     "output_type": "display_data"
    },
    {
     "data": {
      "text/html": [
       "<div>\n",
       "<style scoped>\n",
       "    .dataframe tbody tr th:only-of-type {\n",
       "        vertical-align: middle;\n",
       "    }\n",
       "\n",
       "    .dataframe tbody tr th {\n",
       "        vertical-align: top;\n",
       "    }\n",
       "\n",
       "    .dataframe thead th {\n",
       "        text-align: right;\n",
       "    }\n",
       "</style>\n",
       "<table border=\"1\" class=\"dataframe\">\n",
       "  <thead>\n",
       "    <tr style=\"text-align: right;\">\n",
       "      <th></th>\n",
       "      <th>CH06</th>\n",
       "      <th>adulto_equiv</th>\n",
       "      <th>CH04</th>\n",
       "    </tr>\n",
       "  </thead>\n",
       "  <tbody>\n",
       "    <tr>\n",
       "      <th>0</th>\n",
       "      <td>0</td>\n",
       "      <td>0.35</td>\n",
       "      <td>1</td>\n",
       "    </tr>\n",
       "    <tr>\n",
       "      <th>1</th>\n",
       "      <td>1</td>\n",
       "      <td>0.37</td>\n",
       "      <td>1</td>\n",
       "    </tr>\n",
       "    <tr>\n",
       "      <th>2</th>\n",
       "      <td>2</td>\n",
       "      <td>0.46</td>\n",
       "      <td>1</td>\n",
       "    </tr>\n",
       "    <tr>\n",
       "      <th>3</th>\n",
       "      <td>3</td>\n",
       "      <td>0.51</td>\n",
       "      <td>1</td>\n",
       "    </tr>\n",
       "    <tr>\n",
       "      <th>4</th>\n",
       "      <td>4</td>\n",
       "      <td>0.55</td>\n",
       "      <td>1</td>\n",
       "    </tr>\n",
       "    <tr>\n",
       "      <th>...</th>\n",
       "      <td>...</td>\n",
       "      <td>...</td>\n",
       "      <td>...</td>\n",
       "    </tr>\n",
       "    <tr>\n",
       "      <th>101</th>\n",
       "      <td>101.0</td>\n",
       "      <td>0.74</td>\n",
       "      <td>1</td>\n",
       "    </tr>\n",
       "    <tr>\n",
       "      <th>102</th>\n",
       "      <td>102.0</td>\n",
       "      <td>0.74</td>\n",
       "      <td>1</td>\n",
       "    </tr>\n",
       "    <tr>\n",
       "      <th>103</th>\n",
       "      <td>103.0</td>\n",
       "      <td>0.74</td>\n",
       "      <td>1</td>\n",
       "    </tr>\n",
       "    <tr>\n",
       "      <th>104</th>\n",
       "      <td>104.0</td>\n",
       "      <td>0.74</td>\n",
       "      <td>1</td>\n",
       "    </tr>\n",
       "    <tr>\n",
       "      <th>105</th>\n",
       "      <td>105.0</td>\n",
       "      <td>0.74</td>\n",
       "      <td>1</td>\n",
       "    </tr>\n",
       "  </tbody>\n",
       "</table>\n",
       "<p>106 rows × 3 columns</p>\n",
       "</div>"
      ],
      "text/plain": [
       "      CH06  adulto_equiv  CH04\n",
       "0        0          0.35     1\n",
       "1        1          0.37     1\n",
       "2        2          0.46     1\n",
       "3        3          0.51     1\n",
       "4        4          0.55     1\n",
       "..     ...           ...   ...\n",
       "101  101.0          0.74     1\n",
       "102  102.0          0.74     1\n",
       "103  103.0          0.74     1\n",
       "104  104.0          0.74     1\n",
       "105  105.0          0.74     1\n",
       "\n",
       "[106 rows x 3 columns]"
      ]
     },
     "metadata": {},
     "output_type": "display_data"
    },
    {
     "name": "stderr",
     "output_type": "stream",
     "text": [
      "/var/folders/gs/bbp_k7n56dgg1t__lzbv4f300000gp/T/ipykernel_89324/74129190.py:43: FutureWarning: The frame.append method is deprecated and will be removed from pandas in a future version. Use pandas.concat instead.\n",
      "  df_equiv_total = df_equiv_mujeres.append(df_equiv_varones)\n"
     ]
    },
    {
     "data": {
      "text/html": [
       "<div>\n",
       "<style scoped>\n",
       "    .dataframe tbody tr th:only-of-type {\n",
       "        vertical-align: middle;\n",
       "    }\n",
       "\n",
       "    .dataframe tbody tr th {\n",
       "        vertical-align: top;\n",
       "    }\n",
       "\n",
       "    .dataframe thead th {\n",
       "        text-align: right;\n",
       "    }\n",
       "</style>\n",
       "<table border=\"1\" class=\"dataframe\">\n",
       "  <thead>\n",
       "    <tr style=\"text-align: right;\">\n",
       "      <th></th>\n",
       "      <th>CH06</th>\n",
       "      <th>adulto_equiv</th>\n",
       "      <th>CH04</th>\n",
       "    </tr>\n",
       "  </thead>\n",
       "  <tbody>\n",
       "    <tr>\n",
       "      <th>0</th>\n",
       "      <td>0</td>\n",
       "      <td>0.35</td>\n",
       "      <td>2</td>\n",
       "    </tr>\n",
       "    <tr>\n",
       "      <th>1</th>\n",
       "      <td>1</td>\n",
       "      <td>0.37</td>\n",
       "      <td>2</td>\n",
       "    </tr>\n",
       "    <tr>\n",
       "      <th>2</th>\n",
       "      <td>2</td>\n",
       "      <td>0.46</td>\n",
       "      <td>2</td>\n",
       "    </tr>\n",
       "    <tr>\n",
       "      <th>3</th>\n",
       "      <td>3</td>\n",
       "      <td>0.51</td>\n",
       "      <td>2</td>\n",
       "    </tr>\n",
       "    <tr>\n",
       "      <th>4</th>\n",
       "      <td>4</td>\n",
       "      <td>0.55</td>\n",
       "      <td>2</td>\n",
       "    </tr>\n",
       "    <tr>\n",
       "      <th>...</th>\n",
       "      <td>...</td>\n",
       "      <td>...</td>\n",
       "      <td>...</td>\n",
       "    </tr>\n",
       "    <tr>\n",
       "      <th>101</th>\n",
       "      <td>101.0</td>\n",
       "      <td>0.74</td>\n",
       "      <td>1</td>\n",
       "    </tr>\n",
       "    <tr>\n",
       "      <th>102</th>\n",
       "      <td>102.0</td>\n",
       "      <td>0.74</td>\n",
       "      <td>1</td>\n",
       "    </tr>\n",
       "    <tr>\n",
       "      <th>103</th>\n",
       "      <td>103.0</td>\n",
       "      <td>0.74</td>\n",
       "      <td>1</td>\n",
       "    </tr>\n",
       "    <tr>\n",
       "      <th>104</th>\n",
       "      <td>104.0</td>\n",
       "      <td>0.74</td>\n",
       "      <td>1</td>\n",
       "    </tr>\n",
       "    <tr>\n",
       "      <th>105</th>\n",
       "      <td>105.0</td>\n",
       "      <td>0.74</td>\n",
       "      <td>1</td>\n",
       "    </tr>\n",
       "  </tbody>\n",
       "</table>\n",
       "<p>212 rows × 3 columns</p>\n",
       "</div>"
      ],
      "text/plain": [
       "      CH06  adulto_equiv  CH04\n",
       "0        0          0.35     2\n",
       "1        1          0.37     2\n",
       "2        2          0.46     2\n",
       "3        3          0.51     2\n",
       "4        4          0.55     2\n",
       "..     ...           ...   ...\n",
       "101  101.0          0.74     1\n",
       "102  102.0          0.74     1\n",
       "103  103.0          0.74     1\n",
       "104  104.0          0.74     1\n",
       "105  105.0          0.74     1\n",
       "\n",
       "[212 rows x 3 columns]"
      ]
     },
     "metadata": {},
     "output_type": "display_data"
    },
    {
     "name": "stdout",
     "output_type": "stream",
     "text": [
>>>>>>> 94520fcb17b26d7948d8bba9483db0d41e22a641
      "  CH06  CH04  adulto_equiv\n",
      "0   65     2          0.67\n",
      "1   70     1          0.83\n",
      "2   36     1          1.00\n",
      "3   28     2          0.76\n",
      "4    9     2          0.69\n",
      "5   59     1          1.00\n",
      "6   55     1          1.00\n",
      "7   18     1          1.02\n",
      "8   44     1          1.00\n",
      "9   10     2          0.70\n"
     ]
    }
   ],
   "source": [
    "#Inciso f): trabajamos la base de datos \"tabla_adultos_equiv.xlsx\" como indica la consigna\n",
    "df_adultos = pd.read_excel(\"tabla_adulto_equiv.xlsx\",skiprows=3,nrows=24) \n",
    "df_adultos.drop(0, inplace = True)\n",
    "\n",
    "#Reseteamos el índice \n",
    "df_adultos.reset_index(drop=True,inplace=True)\n",
    "\n",
    "#Definimos las unidades de adulto equivalente para las edades que están agrupadas \n",
    "for i in range(0,18):\n",
    "    df_adultos.loc[i,\"Edad\"]= i \n",
    "#De 18 a 29 años le atribuímos el valor 0.76 a las mujeres y 1.02 a los hombres\n",
    "for i in range(18,30): \n",
    "    df_adultos.loc[i]= [i,0.76,1.02] \n",
    "#De 30 a 45 años le atribuímos el valor 0.77 a las mujeres y 1 a los hombres\n",
    "for i in range(30,46): \n",
    "    df_adultos.loc[i]= [i,0.77,1] \n",
    "#De 46 a 60 años le atribuímos el valor 0.76 a las mujeres y 1 a los hombres\n",
    "for i in range(46,61):\n",
    "    df_adultos.loc[i]= [i,0.76,1] \n",
    "#De 61 a 75 años le atribuímos el valor 0.67 a las mujeres y 0.83 a los hombres\n",
    "for i in range(61,76): \n",
    "    df_adultos.loc[i]= [i,0.67,0.83]\n",
    "#A los mayores de 75 años le atribuímos el valor 0.63 a las mujeres y 0.74 a los hombres\n",
    "for i in range(76,106): \n",
    "    df_adultos.loc[i]= [i,0.63,0.74] \n",
    "\n",
    "df_adultos = df_adultos.rename(columns={\"Edad\":\"CH06\"})\n",
    "print(df_adultos)\n",
    "\n",
    "#Armamos una base de datos para las mujeres y otras para los varones\n",
    "df_equiv_mujeres = df_adultos[[\"CH06\",\"Mujeres\"]].copy()\n",
    "df_equiv_mujeres[\"CH04\"] = 2 #El 2 implica que son mujeres según la variable CH04 de la EPH\n",
    "df_equiv_mujeres = df_equiv_mujeres.rename(columns={\"Mujeres\":\"adulto_equiv\"})\n",
    "\n",
    "df_equiv_varones = df_adultos[[\"CH06\",\"Varones\"]].copy()\n",
    "df_equiv_varones[\"CH04\"] = 1 #El 1 implica que son varones según la variable CH04 de la EPH\n",
    "df_equiv_varones = df_equiv_varones.rename(columns={\"Varones\":\"adulto_equiv\"})\n",
    "\n",
    "#Unimos las dos bases creadas anteriormente. Luego juntamos la nueva base con la EPH\n",
    "df_equiv_total = df_equiv_mujeres.append(df_equiv_varones)\n",
    "df_aglomerados_merge = df_aglomerados.merge(df_equiv_total, on=[\"CH06\",\"CH04\"], how = \"left\")\n",
    "#Chequeamos que haya dado bien\n",
    "print(df_aglomerados_merge[[\"CH06\",\"CH04\",\"adulto_equiv\"]].head(10))\n",
    "\n",
    "#Sumamos la nueva columna \"adulto_equiv\" para todas las personas que pertenecen al mismo hogar\n",
    "df_aglomerados_suma = df_aglomerados_merge.groupby([\"NRO_HOGAR\",\"CODUSU\"]).agg({\"adulto_equiv\":\"sum\"})\n",
    "df_aglomerados_suma.reset_index(inplace = True)\n",
    "df_aglomerados_suma = df_aglomerados_suma.rename(columns={\"adulto_equiv\":\"ad_equiv_hogar\"})\n",
    "df_aglomerados_final = df_aglomerados_merge.merge(df_aglomerados_suma, on=[\"NRO_HOGAR\",\"CODUSU\"], how = \"left\")"
   ]
  },
  {
   "cell_type": "markdown",
   "id": "a36fa4eb",
   "metadata": {},
   "source": [
    "Inciso 3"
   ]
  },
  {
   "cell_type": "code",
<<<<<<< HEAD
   "execution_count": 335,
=======
   "execution_count": 8,
>>>>>>> 94520fcb17b26d7948d8bba9483db0d41e22a641
   "id": "9b9de3c5",
   "metadata": {},
   "outputs": [
    {
     "name": "stdout",
     "output_type": "stream",
     "text": [
      "La cantidad de personas que no reportaron su ITF es 1778\n",
      "0    135000\n",
      "1    135000\n",
      "2     70000\n",
      "3     70000\n",
      "4     70000\n",
      "Name: ITF, dtype: int64\n",
      "0    0\n",
      "1    0\n",
      "2    0\n",
      "3    0\n",
      "4    0\n",
      "Name: ITF, dtype: int64\n"
     ]
    }
   ],
   "source": [
    "#Encontramos a las personas que no respondieron cual es su ITF y los diferenciamos en otra base de datos\n",
    "cantidad_missing = (df_aglomerados_final[\"ITF\"] == 0).sum()\n",
    "print(\"La cantidad de personas que no reportaron su ITF es\",cantidad_missing)\n",
    "#Hacemos una base con las personas que reportaron su ITF y otra con las que no lo hicieron\n",
    "respondieron = df_aglomerados_final[df_aglomerados_final[\"ITF\"]!= 0]\n",
    "norespondieron = df_aglomerados_final[df_aglomerados_final[\"ITF\"]== 0]\n",
    "#Chequeamos que los dataframes se hayan creado correctamente y reseteamos su índice\n",
    "respondieron.reset_index(inplace = True)\n",
    "norespondieron.reset_index(inplace = True)\n",
    "print(respondieron[\"ITF\"].head(5))\n",
    "print(norespondieron[\"ITF\"].head(5))"
   ]
  },
  {
   "cell_type": "markdown",
   "id": "da325f58",
   "metadata": {},
   "source": [
    "Inciso 4"
   ]
  },
  {
   "cell_type": "code",
<<<<<<< HEAD
   "execution_count": 336,
=======
   "execution_count": 9,
>>>>>>> 94520fcb17b26d7948d8bba9483db0d41e22a641
   "id": "944dbcda",
   "metadata": {},
   "outputs": [
    {
     "name": "stderr",
     "output_type": "stream",
     "text": [
      "/var/folders/gs/bbp_k7n56dgg1t__lzbv4f300000gp/T/ipykernel_89324/4102786844.py:2: SettingWithCopyWarning: \n",
      "A value is trying to be set on a copy of a slice from a DataFrame.\n",
      "Try using .loc[row_indexer,col_indexer] = value instead\n",
      "\n",
      "See the caveats in the documentation: https://pandas.pydata.org/pandas-docs/stable/user_guide/indexing.html#returning-a-view-versus-a-copy\n",
      "  respondieron[\"ingreso_necesario\"] = respondieron[\"ad_equiv_hogar\"]*(57371.05)\n"
     ]
    }
   ],
   "source": [
    "#Agregamos la columna de \"ingreso necesario\" al Data Frame de \"respondieron\"\n",
    "respondieron[\"ingreso_necesario\"] = respondieron[\"ad_equiv_hogar\"]*(57371.05)"
   ]
  },
  {
   "cell_type": "markdown",
   "id": "ef534ec9",
   "metadata": {},
   "source": [
    "Inciso 5"
   ]
  },
  {
   "cell_type": "code",
<<<<<<< HEAD
   "execution_count": 337,
=======
   "execution_count": 10,
>>>>>>> 94520fcb17b26d7948d8bba9483db0d41e22a641
   "id": "d55fee95",
   "metadata": {},
   "outputs": [
    {
     "name": "stdout",
     "output_type": "stream",
     "text": [
      "         ITF  ingreso_necesario  pobre\n",
      "0     135000         86056.5750      0\n",
      "1     135000         86056.5750      0\n",
      "2      70000        140559.0725      1\n",
      "3      70000        140559.0725      1\n",
      "4      70000        140559.0725      1\n",
      "...      ...                ...    ...\n",
      "4176  155000        219157.4110      1\n",
      "4177  480000        141132.7830      0\n",
      "4178  480000        141132.7830      0\n",
      "4179  480000        141132.7830      0\n",
      "4180  254000         36143.7615      0\n",
      "\n",
      "[4181 rows x 3 columns]\n",
      "La cantidad de pobres es 1555\n"
     ]
    },
    {
     "name": "stderr",
     "output_type": "stream",
     "text": [
      "/var/folders/gs/bbp_k7n56dgg1t__lzbv4f300000gp/T/ipykernel_89324/1964938116.py:2: SettingWithCopyWarning: \n",
      "A value is trying to be set on a copy of a slice from a DataFrame.\n",
      "Try using .loc[row_indexer,col_indexer] = value instead\n",
      "\n",
      "See the caveats in the documentation: https://pandas.pydata.org/pandas-docs/stable/user_guide/indexing.html#returning-a-view-versus-a-copy\n",
      "  respondieron[\"pobre\"] = (respondieron[\"ITF\"] < respondieron[\"ingreso_necesario\"]).astype(int)\n"
     ]
    }
   ],
   "source": [
    "#Generamos una columna nueva llamada \"pobre\" para identificar a aquellos que no alcanzan el ingreso necesario\n",
    "respondieron[\"pobre\"] = (respondieron[\"ITF\"] < respondieron[\"ingreso_necesario\"]).astype(int)\n",
    "print(respondieron[[\"ITF\",\"ingreso_necesario\",\"pobre\"]])\n",
    "\n",
    "#Contamos el número de pobres que hay en el Data Frame \"respondieron\"\n",
    "cantidad_pobres = respondieron[\"pobre\"].value_counts()\n",
    "cantidad_pobres = cantidad_pobres.get(1, 0)\n",
    "print(\"La cantidad de pobres es\",cantidad_pobres)"
   ]
  },
  {
   "cell_type": "markdown",
   "id": "bb444c52",
   "metadata": {},
   "source": [
    "Parte 2"
   ]
  },
  {
   "cell_type": "markdown",
   "id": "f410309e",
   "metadata": {},
   "source": [
    "Inciso 1"
   ]
  },
  {
   "cell_type": "code",
<<<<<<< HEAD
   "execution_count": 338,
=======
   "execution_count": 11,
>>>>>>> 94520fcb17b26d7948d8bba9483db0d41e22a641
   "id": "6e50abf8",
   "metadata": {},
   "outputs": [],
   "source": [
    "#Eliminamos todas las variables relacionadas a ingresos de las dos bases de datos \n",
    "columnas_ingresos = [\"P21\",\"PP08D1\",\"PP08D4\",\"PP08F1\",\"PP08F2\",\"PP08J1\",\"PP08J2\",\"PP08J3\",\"DECOCUR\",\"IDECOCUR\",\"RDECOCUR\",\"GDECOCUR\",\"PDECOCUR\",\"ADECOCUR\",\"PONDIIO\",\"TOT_P12\",\"P47T\",\"DECINDR\",\"IDECINDR\",\"RDECINDR\",\"GDECINDR\",\"PDECINDR\",\"ADECINDR\",\"PONDII\",\"V2_M\",\"V3_M\",\"V4_M\",\"V5_M\",\"V8_M\",\"V9_M\",\"V10_M\",\"V11_M\",\"V12_M\",\"V18_M\",\"V21_M\",\"V19_AM\",\"T_VI\",\"ITF\",\"DECIFR\",\"IDECIFR\",\"RDECIFR\",\"GDECIFR\",\"PDECIFR\",\"ADECIFR\",\"IPCF\",\"DECCFR\",\"IDECCFR\",\"RDECCFR\",\"GDECCFR\",\"ADECCFR\",\"PDECCFR\",\"PONDIH\"]\n",
    "respondieron_2 = respondieron.drop(columnas_ingresos, axis=1)\n",
    "norespondieron_2 = norespondieron.drop(columnas_ingresos, axis=1)\n",
    "#Eliminar columnas adulto_equiv, ad_equiv_hogar e ingreso_necesario\n",
    "respondieron_2 = respondieron_2.drop([\"adulto_equiv\",\"ad_equiv_hogar\",\"ingreso_necesario\"], axis=1)\n",
    "norespondieron_2 = norespondieron_2.drop([\"adulto_equiv\",\"ad_equiv_hogar\"], axis=1)"
   ]
  },
  {
   "cell_type": "markdown",
   "id": "1ace48bb",
   "metadata": {},
   "source": [
    "Inciso 2"
   ]
  },
  {
   "cell_type": "code",
<<<<<<< HEAD
   "execution_count": 339,
   "id": "f135b759",
=======
   "execution_count": 12,
   "id": "684f3237",
>>>>>>> 94520fcb17b26d7948d8bba9483db0d41e22a641
   "metadata": {},
   "outputs": [
    {
     "name": "stdout",
     "output_type": "stream",
     "text": [
      "Columna 'index': int64\n",
      "Columna 'CODUSU': object\n",
      "Columna 'ANO4': int64\n",
      "Columna 'TRIMESTRE': int64\n",
      "Columna 'NRO_HOGAR': int64\n",
      "Columna 'COMPONENTE': int64\n",
      "Columna 'H15': int64\n",
      "Columna 'REGION': int64\n",
      "Columna 'MAS_500': object\n",
      "Columna 'AGLOMERADO': int64\n",
      "Columna 'PONDERA': int64\n",
      "Columna 'CH03': int64\n",
      "Columna 'CH04': int64\n",
      "Columna 'CH05': object\n",
      "Columna 'CH06': object\n",
      "Columna 'CH07': int64\n",
      "Columna 'CH08': float64\n",
      "Columna 'CH09': int64\n",
      "Columna 'CH10': int64\n",
      "Columna 'CH11': int64\n",
      "Columna 'CH12': int64\n",
      "Columna 'CH13': int64\n",
      "Columna 'CH14': float64\n",
      "Columna 'CH15': int64\n",
      "Columna 'CH15_COD': float64\n",
      "Columna 'CH16': int64\n",
      "Columna 'CH16_COD': float64\n",
      "Columna 'NIVEL_ED': int64\n",
      "Columna 'ESTADO': int64\n",
      "Columna 'CAT_OCUP': int64\n",
      "Columna 'CAT_INAC': int64\n",
      "Columna 'IMPUTA': float64\n",
      "Columna 'PP02C1': int64\n",
      "Columna 'PP02C2': int64\n",
      "Columna 'PP02C3': int64\n",
      "Columna 'PP02C4': int64\n",
      "Columna 'PP02C5': int64\n",
      "Columna 'PP02C6': int64\n",
      "Columna 'PP02C7': int64\n",
      "Columna 'PP02C8': int64\n",
      "Columna 'PP02E': int64\n",
      "Columna 'PP02H': int64\n",
      "Columna 'PP02I': int64\n",
      "Columna 'PP03C': float64\n",
      "Columna 'PP03D': float64\n",
      "Columna 'PP3E_TOT': float64\n",
      "Columna 'PP3F_TOT': float64\n",
      "Columna 'PP03G': float64\n",
      "Columna 'PP03H': float64\n",
      "Columna 'PP03I': float64\n",
      "Columna 'PP03J': float64\n",
      "Columna 'INTENSI': float64\n",
      "Columna 'PP04A': float64\n",
      "Columna 'PP04B_COD': float64\n",
      "Columna 'PP04B1': float64\n",
      "Columna 'PP04B2': float64\n",
      "Columna 'PP04B3_MES': float64\n",
      "Columna 'PP04B3_ANO': float64\n",
      "Columna 'PP04B3_DIA': float64\n",
      "Columna 'PP04C': float64\n",
      "Columna 'PP04C99': float64\n",
      "Columna 'PP04D_COD': float64\n",
      "Columna 'PP04G': float64\n",
      "Columna 'PP05B2_MES': float64\n",
      "Columna 'PP05B2_ANO': float64\n",
      "Columna 'PP05B2_DIA': float64\n",
      "Columna 'PP05C_1': float64\n",
      "Columna 'PP05C_2': float64\n",
      "Columna 'PP05C_3': float64\n",
      "Columna 'PP05E': float64\n",
      "Columna 'PP05F': float64\n",
      "Columna 'PP05H': float64\n",
      "Columna 'PP06A': float64\n",
      "Columna 'PP06C': float64\n",
      "Columna 'PP06D': float64\n",
      "Columna 'PP06E': float64\n",
      "Columna 'PP06H': float64\n",
      "Columna 'PP07A': float64\n",
      "Columna 'PP07C': float64\n",
      "Columna 'PP07D': float64\n",
      "Columna 'PP07E': float64\n",
      "Columna 'PP07F1': float64\n",
      "Columna 'PP07F2': float64\n",
      "Columna 'PP07F3': float64\n",
      "Columna 'PP07F4': float64\n",
      "Columna 'PP07F5': float64\n",
      "Columna 'PP07G1': float64\n",
      "Columna 'PP07G2': float64\n",
      "Columna 'PP07G3': float64\n",
      "Columna 'PP07G4': float64\n",
      "Columna 'PP07G_59': float64\n",
      "Columna 'PP07H': float64\n",
      "Columna 'PP07I': float64\n",
      "Columna 'PP07J': float64\n",
      "Columna 'PP07K': float64\n",
      "Columna 'PP09A': float64\n",
      "Columna 'PP09A_ESP': object\n",
      "Columna 'PP09B': float64\n",
      "Columna 'PP09C': float64\n",
      "Columna 'PP09C_ESP': object\n",
      "Columna 'PP10A': float64\n",
      "Columna 'PP10C': float64\n",
      "Columna 'PP10D': float64\n",
      "Columna 'PP10E': float64\n",
      "Columna 'PP11A': float64\n",
      "Columna 'PP11B_COD': float64\n",
      "Columna 'PP11B1': float64\n",
      "Columna 'PP11B2_MES': float64\n",
      "Columna 'PP11B2_ANO': float64\n",
      "Columna 'PP11B2_DIA': float64\n",
      "Columna 'PP11C': float64\n",
      "Columna 'PP11C99': float64\n",
      "Columna 'PP11D_COD': float64\n",
      "Columna 'PP11G_ANO': float64\n",
      "Columna 'PP11G_MES': float64\n",
      "Columna 'PP11G_DIA': float64\n",
      "Columna 'PP11L': float64\n",
      "Columna 'PP11L1': float64\n",
      "Columna 'PP11M': float64\n",
      "Columna 'PP11N': float64\n",
      "Columna 'PP11O': float64\n",
      "Columna 'PP11P': float64\n",
      "Columna 'PP11Q': float64\n",
      "Columna 'PP11R': float64\n",
      "Columna 'PP11S': float64\n",
      "Columna 'PP11T': float64\n",
      "Columna 'pobre': int64\n"
     ]
    }
   ],
   "source": [
    "#Obtenemos el nombre de todas las columnas del data frame y borramos aquellas que no son numéricas para poder correr la regresión\n",
    "tipos = respondieron_2.dtypes\n",
    "for columna, tipo in tipos.items():\n",
    "    print(f\"Columna '{columna}': {tipo}\") \n",
    "\n",
    "#Las variables no numericas que borramos son CODUSU, MAS_500 y CH05.\n",
    "columnas_a_eliminar = ['CODUSU', 'MAS_500', 'CH05']\n",
    "respondieron_2 = respondieron_2.drop(columns=columnas_a_eliminar)"
   ]
  },
  {
   "cell_type": "code",
<<<<<<< HEAD
   "execution_count": 340,
   "id": "9091bed9",
=======
   "execution_count": 13,
   "id": "07d5ac26",
>>>>>>> 94520fcb17b26d7948d8bba9483db0d41e22a641
   "metadata": {},
   "outputs": [
    {
     "name": "stdout",
     "output_type": "stream",
     "text": [
      "Columna 'index': 0\n",
      "Columna 'ANO4': 0\n",
      "Columna 'TRIMESTRE': 0\n",
      "Columna 'NRO_HOGAR': 0\n",
      "Columna 'COMPONENTE': 0\n",
      "Columna 'H15': 0\n",
      "Columna 'REGION': 0\n",
      "Columna 'AGLOMERADO': 0\n",
      "Columna 'PONDERA': 0\n",
      "Columna 'CH03': 0\n",
      "Columna 'CH04': 0\n",
      "Columna 'CH06': 0\n",
      "Columna 'CH07': 0\n",
      "Columna 'CH08': 0\n",
      "Columna 'CH09': 0\n",
      "Columna 'CH10': 0\n",
      "Columna 'CH11': 0\n",
      "Columna 'CH12': 0\n",
      "Columna 'CH13': 0\n",
      "Columna 'CH14': 2101\n",
      "Columna 'CH15': 0\n",
      "Columna 'CH15_COD': 3379\n",
      "Columna 'CH16': 0\n",
      "Columna 'CH16_COD': 4112\n",
      "Columna 'NIVEL_ED': 0\n",
      "Columna 'ESTADO': 0\n",
      "Columna 'CAT_OCUP': 0\n",
      "Columna 'CAT_INAC': 0\n",
      "Columna 'IMPUTA': 4166\n",
      "Columna 'PP02C1': 0\n",
      "Columna 'PP02C2': 0\n",
      "Columna 'PP02C3': 0\n",
      "Columna 'PP02C4': 0\n",
      "Columna 'PP02C5': 0\n",
      "Columna 'PP02C6': 0\n",
      "Columna 'PP02C7': 0\n",
      "Columna 'PP02C8': 0\n",
      "Columna 'PP02E': 0\n",
      "Columna 'PP02H': 0\n",
      "Columna 'PP02I': 0\n",
      "Columna 'PP03C': 2345\n",
      "Columna 'PP03D': 2345\n",
      "Columna 'PP3E_TOT': 2345\n",
      "Columna 'PP3F_TOT': 2345\n",
      "Columna 'PP03G': 2345\n",
      "Columna 'PP03H': 2345\n",
      "Columna 'PP03I': 2345\n",
      "Columna 'PP03J': 2345\n",
      "Columna 'INTENSI': 2345\n",
      "Columna 'PP04A': 2345\n",
      "Columna 'PP04B_COD': 2345\n",
      "Columna 'PP04B1': 2345\n",
      "Columna 'PP04B2': 2345\n",
      "Columna 'PP04B3_MES': 2345\n",
      "Columna 'PP04B3_ANO': 2345\n",
      "Columna 'PP04B3_DIA': 2345\n",
      "Columna 'PP04C': 2345\n",
      "Columna 'PP04C99': 2345\n",
      "Columna 'PP04D_COD': 2345\n",
      "Columna 'PP04G': 2345\n",
      "Columna 'PP05B2_MES': 2345\n",
      "Columna 'PP05B2_ANO': 2345\n",
      "Columna 'PP05B2_DIA': 2345\n",
      "Columna 'PP05C_1': 2345\n",
      "Columna 'PP05C_2': 2345\n",
      "Columna 'PP05C_3': 2345\n",
      "Columna 'PP05E': 2345\n",
      "Columna 'PP05F': 2345\n",
      "Columna 'PP05H': 2345\n",
      "Columna 'PP06A': 2345\n",
      "Columna 'PP06C': 2345\n",
      "Columna 'PP06D': 2345\n",
      "Columna 'PP06E': 2345\n",
      "Columna 'PP06H': 2345\n",
      "Columna 'PP07A': 2345\n",
      "Columna 'PP07C': 2345\n",
      "Columna 'PP07D': 2345\n",
      "Columna 'PP07E': 2345\n",
      "Columna 'PP07F1': 2345\n",
      "Columna 'PP07F2': 2345\n",
      "Columna 'PP07F3': 2345\n",
      "Columna 'PP07F4': 2345\n",
      "Columna 'PP07F5': 2345\n",
      "Columna 'PP07G1': 2345\n",
      "Columna 'PP07G2': 2345\n",
      "Columna 'PP07G3': 2345\n",
      "Columna 'PP07G4': 2345\n",
      "Columna 'PP07G_59': 2345\n",
      "Columna 'PP07H': 2345\n",
      "Columna 'PP07I': 2345\n",
      "Columna 'PP07J': 2345\n",
      "Columna 'PP07K': 2345\n",
      "Columna 'PP09A': 2345\n",
      "Columna 'PP09A_ESP': 4169\n",
      "Columna 'PP09B': 2345\n",
      "Columna 'PP09C': 2345\n",
      "Columna 'PP09C_ESP': 4181\n",
      "Columna 'PP10A': 4027\n",
      "Columna 'PP10C': 4027\n",
      "Columna 'PP10D': 4027\n",
      "Columna 'PP10E': 4027\n",
      "Columna 'PP11A': 4027\n",
      "Columna 'PP11B_COD': 4027\n",
      "Columna 'PP11B1': 4027\n",
      "Columna 'PP11B2_MES': 4027\n",
      "Columna 'PP11B2_ANO': 4027\n",
      "Columna 'PP11B2_DIA': 4027\n",
      "Columna 'PP11C': 4027\n",
      "Columna 'PP11C99': 4027\n",
      "Columna 'PP11D_COD': 4079\n",
      "Columna 'PP11G_ANO': 4027\n",
      "Columna 'PP11G_MES': 4027\n",
      "Columna 'PP11G_DIA': 4027\n",
      "Columna 'PP11L': 4027\n",
      "Columna 'PP11L1': 4027\n",
      "Columna 'PP11M': 4027\n",
      "Columna 'PP11N': 4027\n",
      "Columna 'PP11O': 4027\n",
      "Columna 'PP11P': 4027\n",
      "Columna 'PP11Q': 4027\n",
      "Columna 'PP11R': 4027\n",
      "Columna 'PP11S': 4027\n",
      "Columna 'PP11T': 4027\n",
      "Columna 'pobre': 0\n"
     ]
    }
   ],
   "source": [
    "#Borramos también las columnas con muchos missing values\n",
    "missing_values = respondieron_2.isna().sum()\n",
    "for columna, missing_values in missing_values.items():\n",
    "    print(f\"Columna '{columna}': {missing_values}\") \n",
    "    \n",
    "respondieron_2 = respondieron_2.dropna(axis=1)"
   ]
  },
  {
   "cell_type": "code",
<<<<<<< HEAD
   "execution_count": 341,
=======
   "execution_count": 14,
>>>>>>> 94520fcb17b26d7948d8bba9483db0d41e22a641
   "id": "8597b8e6",
   "metadata": {},
   "outputs": [
    {
     "name": "stdout",
     "output_type": "stream",
     "text": [
      "La base x de prueba tiene el 30 % de los datos\n",
      "La base x de entrenamiento tiene el 70 % de los datos\n",
      "La base y de prueba tiene el 30 % de los datos\n",
      "La base y de entrenamiento tiene el 70 % de los datos\n"
     ]
    }
   ],
   "source": [
    "#Partimos la base \"respondieron\" en una parte de entrenamiento y otra parte de prueba\n",
    "import statsmodels.api as sm\n",
    "y = respondieron_2[\"pobre\"]\n",
    "x = respondieron_2[respondieron_2.columns.drop(\"pobre\")]\n",
    "x = sm.add_constant(x)\n",
    "from sklearn.model_selection import train_test_split\n",
    "x_train, x_test, y_train, y_test = train_test_split(x.loc[:,x.columns!=\"const\"],y,test_size=0.3,random_state=201)\n",
    "#Chequeamos la partición de las bases de prueba y entrenamiento\n",
    "print(\"La base x de prueba tiene el\",round(len(x_test)/len(respondieron_2)*100), \"% de los datos\") \n",
    "print(\"La base x de entrenamiento tiene el\", round(len(x_train)/len(respondieron_2)*100),  \"% de los datos\")  \n",
    "print(\"La base y de prueba tiene el\",round(len(y_test)/len(respondieron_2)*100), \"% de los datos\") \n",
    "print(\"La base y de entrenamiento tiene el\", round(len(y_train)/len(respondieron_2)*100),  \"% de los datos\")"
   ]
  },
  {
   "cell_type": "markdown",
   "id": "bfe55f18",
   "metadata": {},
   "source": [
    "Inciso 3"
   ]
  },
  {
   "cell_type": "markdown",
   "id": "3c250c1f",
   "metadata": {},
   "source": [
    "Logit"
   ]
  },
  {
   "cell_type": "code",
<<<<<<< HEAD
   "execution_count": 342,
=======
   "execution_count": 15,
>>>>>>> 94520fcb17b26d7948d8bba9483db0d41e22a641
   "id": "4bf1916c",
   "metadata": {},
   "outputs": [
    {
     "name": "stderr",
     "output_type": "stream",
     "text": [
      "/Users/Victoria/anaconda3/lib/python3.11/site-packages/sklearn/linear_model/_logistic.py:460: ConvergenceWarning: lbfgs failed to converge (status=1):\n",
      "STOP: TOTAL NO. of ITERATIONS REACHED LIMIT.\n",
      "\n",
      "Increase the number of iterations (max_iter) or scale the data as shown in:\n",
      "    https://scikit-learn.org/stable/modules/preprocessing.html\n",
      "Please also refer to the documentation for alternative solver options:\n",
      "    https://scikit-learn.org/stable/modules/linear_model.html#logistic-regression\n",
      "  n_iter_i = _check_optimize_result(\n"
     ]
    }
   ],
   "source": [
    "#Realizamos la curva ROC y los valores de AUC y de Accuracy. Luego computamos la matriz de confusión.\n",
    "from sklearn import datasets\n",
    "from sklearn.linear_model import LogisticRegression\n",
    "from sklearn.metrics import confusion_matrix\n",
    "from sklearn.metrics import accuracy_score, recall_score \n",
    "from sklearn.metrics import roc_curve\n",
    "from sklearn.metrics import roc_auc_score\n",
    "from sklearn.metrics import RocCurveDisplay\n",
    "from sklearn.discriminant_analysis import LinearDiscriminantAnalysis\n",
    "from sklearn.neighbors import KNeighborsClassifier\n",
    "\n",
    "#Ajustamos el clasificador con el método fit() y hacemos las predicciones de probabilidad \n",
    "reg_logistica = LogisticRegression().fit(x_train,y_train)\n",
    "pred_y_score = reg_logistica.predict_proba(x_test)[:,1]  \n",
    "\n",
    "#Transformamos las probabilidades en Y con valores 1 o 0 (con el clasificador de Bayes)\n",
    "y_predicha = np.where(pred_y_score > 0.5, 1, pred_y_score)\n",
    "y_predicha = np.where(pred_y_score <= 0.5, 0, y_predicha)"
   ]
  },
  {
   "cell_type": "code",
<<<<<<< HEAD
   "execution_count": 343,
   "id": "ff03bd69",
=======
   "execution_count": 16,
   "id": "6e8904ba",
>>>>>>> 94520fcb17b26d7948d8bba9483db0d41e22a641
   "metadata": {},
   "outputs": [
    {
     "name": "stdout",
     "output_type": "stream",
     "text": [
      "Confusion Matrix:\n",
      "[[663 143]\n",
      " [183 266]]\n",
      "Accuracy Score : 0.740\n"
     ]
    }
   ],
   "source": [
    "#Generamos la matriz de confusión\n",
    "matriz_confusion = confusion_matrix(y_test, y_predicha)\n",
    "\n",
    "print('Confusion Matrix:')\n",
    "print(matriz_confusion) \n",
    "accuracy_log= accuracy_score(y_test, y_predicha)\n",
    "print('Accuracy Score :','%.3f' % accuracy_log)"
   ]
  },
  {
   "cell_type": "code",
<<<<<<< HEAD
   "execution_count": 344,
   "id": "d0f4effc",
   "metadata": {},
=======
   "execution_count": 17,
   "id": "7a077ae1",
   "metadata": {
    "scrolled": true
   },
>>>>>>> 94520fcb17b26d7948d8bba9483db0d41e22a641
   "outputs": [
    {
     "name": "stdout",
     "output_type": "stream",
     "text": [
<<<<<<< HEAD
      "AUC: 0.708\n",
      "[2. 1. 0.]\n",
      "[0.         0.17741935 1.        ]\n",
      "[0.         0.59242762 1.        ]\n"
=======
      "AUC: 0.698\n",
      "[inf  1.  0.]\n",
      "[0.         0.17121588 1.        ]\n",
      "[0.         0.56792873 1.        ]\n"
>>>>>>> 94520fcb17b26d7948d8bba9483db0d41e22a641
     ]
    },
    {
     "data": {
<<<<<<< HEAD
      "image/png": "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\n",
=======
      "image/png": "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",
>>>>>>> 94520fcb17b26d7948d8bba9483db0d41e22a641
      "text/plain": [
       "<Figure size 640x480 with 1 Axes>"
      ]
     },
     "metadata": {},
     "output_type": "display_data"
    }
   ],
   "source": [
    "#Calculamos el área debajo de la curva ROC (su acumulado)\n",
    "auc_ROC = roc_auc_score(y_test, y_predicha)\n",
    "print('AUC: %.3f' % auc_ROC)\n",
    "\n",
    "#Graficamos la curva ROC \n",
    "fpr, tpr, thresholds = roc_curve(y_test, y_predicha)\n",
    "np.set_printoptions(suppress = True)\n",
    "print(thresholds)\n",
    "print(fpr)\n",
    "print(tpr)\n",
    "\n",
    "display = RocCurveDisplay(fpr=fpr, tpr=tpr, roc_auc=auc_ROC, estimator_name='Reg_log')\n",
    "font = {'family': 'Latin Modern Math'}\n",
    "plt.rc('font', **font)\n",
    "display.plot()  \n",
    "plt.plot([0, 1], [0, 1], color='red', linestyle='--')\n",
    "\n",
    "plt.savefig(\"roc_logit.png\", dpi=300, bbox_inches='tight')\n",
    "plt.show()"
   ]
  },
  {
   "cell_type": "markdown",
   "id": "9ddb80f7",
   "metadata": {},
   "source": [
    "Análisis de discriminante lineal"
   ]
  },
  {
   "cell_type": "code",
<<<<<<< HEAD
   "execution_count": 345,
   "id": "d9d1d9f3",
=======
   "execution_count": 18,
   "id": "150e7ea6",
>>>>>>> 94520fcb17b26d7948d8bba9483db0d41e22a641
   "metadata": {},
   "outputs": [
    {
     "name": "stdout",
     "output_type": "stream",
     "text": [
      "El accuracy del modelo es: 0.75\n"
     ]
    }
   ],
   "source": [
    "#Realizamos el análisis discriminante lineal \n",
    "adl = LinearDiscriminantAnalysis(n_components=1)\n",
    "adl = adl.fit(x_train, y_train)\n",
    "\n",
    "#Predecimos con el modelo de análisis discriminante lineal sobre las x de testeo\n",
    "y_test_pred_adl = adl.predict(x_test)\n",
    "accuracy_adl = accuracy_score(y_test, y_test_pred_adl)\n",
    "print(\"El accuracy del modelo es: %.2f\" %accuracy_adl)"
   ]
  },
  {
   "cell_type": "code",
<<<<<<< HEAD
   "execution_count": 346,
   "id": "fc44c756",
=======
   "execution_count": 19,
   "id": "20c8f477",
>>>>>>> 94520fcb17b26d7948d8bba9483db0d41e22a641
   "metadata": {},
   "outputs": [
    {
     "name": "stdout",
     "output_type": "stream",
     "text": [
      "Confusion Matrix:\n",
      "[[659 147]\n",
      " [172 277]]\n"
     ]
    }
   ],
   "source": [
    "#Generamos la matriz de confusión\n",
    "matriz_confusion_adl = confusion_matrix(y_test,y_test_pred_adl)\n",
    "\n",
    "print('Confusion Matrix:')\n",
    "print(matriz_confusion_adl)"
   ]
  },
  {
   "cell_type": "code",
<<<<<<< HEAD
   "execution_count": 347,
   "id": "2be75812",
=======
   "execution_count": 20,
   "id": "1111e315",
>>>>>>> 94520fcb17b26d7948d8bba9483db0d41e22a641
   "metadata": {
    "scrolled": false
   },
   "outputs": [
    {
     "name": "stdout",
     "output_type": "stream",
     "text": [
<<<<<<< HEAD
      "AUC: 0.717\n",
      "[2 1 0]\n",
=======
      "AUC: 0.707\n",
      "[inf  1.  0.]\n",
>>>>>>> 94520fcb17b26d7948d8bba9483db0d41e22a641
      "[0.         0.18238213 1.        ]\n",
      "[0.        0.6169265 1.       ]\n"
     ]
    },
    {
     "data": {
<<<<<<< HEAD
      "image/png": "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\n",
=======
      "image/png": "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",
>>>>>>> 94520fcb17b26d7948d8bba9483db0d41e22a641
      "text/plain": [
       "<Figure size 640x480 with 1 Axes>"
      ]
     },
     "metadata": {},
     "output_type": "display_data"
    }
   ],
   "source": [
    "#Calculamos el área debajo de la curva ROC (su acumulado) para el método ADL \n",
    "auc_ROC_adl = roc_auc_score(y_test, y_test_pred_adl)\n",
    "print('AUC: %.3f' % auc_ROC_adl)\n",
    "\n",
    "#Graficamos la curva ROC \n",
    "fpr_adl, tpr_adl, thresholds_adl = roc_curve(y_test, y_test_pred_adl)\n",
    "np.set_printoptions(suppress = True)\n",
    "print(thresholds_adl)\n",
    "print(fpr_adl)\n",
    "print(tpr_adl)\n",
    "\n",
    "display_adl = RocCurveDisplay(fpr=fpr_adl, tpr=tpr_adl, roc_auc=auc_ROC_adl, estimator_name='Reg_log')\n",
    "font = {'family': 'Latin Modern Math'}\n",
    "plt.rc('font', **font)\n",
    "display_adl.plot()  \n",
    "plt.plot([0, 1], [0, 1], color='red', linestyle='--')\n",
    "plt.savefig(\"roc_DL.png\", dpi=300, bbox_inches='tight')\n",
    "plt.show()"
   ]
  },
  {
   "cell_type": "markdown",
   "id": "e3dcdaf8",
   "metadata": {},
   "source": [
    "Vecinos cercanos (KNN)"
   ]
  },
  {
   "cell_type": "code",
<<<<<<< HEAD
   "execution_count": 349,
   "id": "49881c2a",
   "metadata": {},
   "outputs": [
    {
     "name": "stdout",
     "output_type": "stream",
     "text": [
      "El accuracy del modelo es: 0.818\n"
=======
   "execution_count": 21,
   "id": "9db26e7f",
   "metadata": {},
   "outputs": [
    {
     "ename": "AttributeError",
     "evalue": "'NoneType' object has no attribute 'split'",
     "output_type": "error",
     "traceback": [
      "\u001b[0;31m---------------------------------------------------------------------------\u001b[0m",
      "\u001b[0;31mAttributeError\u001b[0m                            Traceback (most recent call last)",
      "Cell \u001b[0;32mIn[21], line 4\u001b[0m\n\u001b[1;32m      2\u001b[0m knn \u001b[38;5;241m=\u001b[39m KNeighborsClassifier(n_neighbors\u001b[38;5;241m=\u001b[39m\u001b[38;5;241m3\u001b[39m)\n\u001b[1;32m      3\u001b[0m knn\u001b[38;5;241m.\u001b[39mfit(x_train,y_train)\n\u001b[0;32m----> 4\u001b[0m y_test_pred_knn \u001b[38;5;241m=\u001b[39m knn\u001b[38;5;241m.\u001b[39mpredict(x_test)\n\u001b[1;32m      5\u001b[0m accuracy_knn \u001b[38;5;241m=\u001b[39m accuracy_score(y_test,y_test_pred_knn)\n\u001b[1;32m      6\u001b[0m \u001b[38;5;28mprint\u001b[39m(\u001b[38;5;124m\"\u001b[39m\u001b[38;5;124mEl accuracy del modelo es: \u001b[39m\u001b[38;5;132;01m%.3f\u001b[39;00m\u001b[38;5;124m\"\u001b[39m \u001b[38;5;241m%\u001b[39maccuracy_knn)\n",
      "File \u001b[0;32m~/anaconda3/lib/python3.11/site-packages/sklearn/neighbors/_classification.py:266\u001b[0m, in \u001b[0;36mKNeighborsClassifier.predict\u001b[0;34m(self, X)\u001b[0m\n\u001b[1;32m    263\u001b[0m         \u001b[38;5;28;01mreturn\u001b[39;00m \u001b[38;5;28mself\u001b[39m\u001b[38;5;241m.\u001b[39mclasses_[np\u001b[38;5;241m.\u001b[39margmax(probabilities, axis\u001b[38;5;241m=\u001b[39m\u001b[38;5;241m1\u001b[39m)]\n\u001b[1;32m    264\u001b[0m     \u001b[38;5;66;03m# In that case, we do not need the distances to perform\u001b[39;00m\n\u001b[1;32m    265\u001b[0m     \u001b[38;5;66;03m# the weighting so we do not compute them.\u001b[39;00m\n\u001b[0;32m--> 266\u001b[0m     neigh_ind \u001b[38;5;241m=\u001b[39m \u001b[38;5;28mself\u001b[39m\u001b[38;5;241m.\u001b[39mkneighbors(X, return_distance\u001b[38;5;241m=\u001b[39m\u001b[38;5;28;01mFalse\u001b[39;00m)\n\u001b[1;32m    267\u001b[0m     neigh_dist \u001b[38;5;241m=\u001b[39m \u001b[38;5;28;01mNone\u001b[39;00m\n\u001b[1;32m    268\u001b[0m \u001b[38;5;28;01melse\u001b[39;00m:\n",
      "File \u001b[0;32m~/anaconda3/lib/python3.11/site-packages/sklearn/neighbors/_base.py:822\u001b[0m, in \u001b[0;36mKNeighborsMixin.kneighbors\u001b[0;34m(self, X, n_neighbors, return_distance)\u001b[0m\n\u001b[1;32m    815\u001b[0m use_pairwise_distances_reductions \u001b[38;5;241m=\u001b[39m (\n\u001b[1;32m    816\u001b[0m     \u001b[38;5;28mself\u001b[39m\u001b[38;5;241m.\u001b[39m_fit_method \u001b[38;5;241m==\u001b[39m \u001b[38;5;124m\"\u001b[39m\u001b[38;5;124mbrute\u001b[39m\u001b[38;5;124m\"\u001b[39m\n\u001b[1;32m    817\u001b[0m     \u001b[38;5;129;01mand\u001b[39;00m ArgKmin\u001b[38;5;241m.\u001b[39mis_usable_for(\n\u001b[1;32m    818\u001b[0m         X \u001b[38;5;28;01mif\u001b[39;00m X \u001b[38;5;129;01mis\u001b[39;00m \u001b[38;5;129;01mnot\u001b[39;00m \u001b[38;5;28;01mNone\u001b[39;00m \u001b[38;5;28;01melse\u001b[39;00m \u001b[38;5;28mself\u001b[39m\u001b[38;5;241m.\u001b[39m_fit_X, \u001b[38;5;28mself\u001b[39m\u001b[38;5;241m.\u001b[39m_fit_X, \u001b[38;5;28mself\u001b[39m\u001b[38;5;241m.\u001b[39meffective_metric_\n\u001b[1;32m    819\u001b[0m     )\n\u001b[1;32m    820\u001b[0m )\n\u001b[1;32m    821\u001b[0m \u001b[38;5;28;01mif\u001b[39;00m use_pairwise_distances_reductions:\n\u001b[0;32m--> 822\u001b[0m     results \u001b[38;5;241m=\u001b[39m ArgKmin\u001b[38;5;241m.\u001b[39mcompute(\n\u001b[1;32m    823\u001b[0m         X\u001b[38;5;241m=\u001b[39mX,\n\u001b[1;32m    824\u001b[0m         Y\u001b[38;5;241m=\u001b[39m\u001b[38;5;28mself\u001b[39m\u001b[38;5;241m.\u001b[39m_fit_X,\n\u001b[1;32m    825\u001b[0m         k\u001b[38;5;241m=\u001b[39mn_neighbors,\n\u001b[1;32m    826\u001b[0m         metric\u001b[38;5;241m=\u001b[39m\u001b[38;5;28mself\u001b[39m\u001b[38;5;241m.\u001b[39meffective_metric_,\n\u001b[1;32m    827\u001b[0m         metric_kwargs\u001b[38;5;241m=\u001b[39m\u001b[38;5;28mself\u001b[39m\u001b[38;5;241m.\u001b[39meffective_metric_params_,\n\u001b[1;32m    828\u001b[0m         strategy\u001b[38;5;241m=\u001b[39m\u001b[38;5;124m\"\u001b[39m\u001b[38;5;124mauto\u001b[39m\u001b[38;5;124m\"\u001b[39m,\n\u001b[1;32m    829\u001b[0m         return_distance\u001b[38;5;241m=\u001b[39mreturn_distance,\n\u001b[1;32m    830\u001b[0m     )\n\u001b[1;32m    832\u001b[0m \u001b[38;5;28;01melif\u001b[39;00m (\n\u001b[1;32m    833\u001b[0m     \u001b[38;5;28mself\u001b[39m\u001b[38;5;241m.\u001b[39m_fit_method \u001b[38;5;241m==\u001b[39m \u001b[38;5;124m\"\u001b[39m\u001b[38;5;124mbrute\u001b[39m\u001b[38;5;124m\"\u001b[39m \u001b[38;5;129;01mand\u001b[39;00m \u001b[38;5;28mself\u001b[39m\u001b[38;5;241m.\u001b[39mmetric \u001b[38;5;241m==\u001b[39m \u001b[38;5;124m\"\u001b[39m\u001b[38;5;124mprecomputed\u001b[39m\u001b[38;5;124m\"\u001b[39m \u001b[38;5;129;01mand\u001b[39;00m issparse(X)\n\u001b[1;32m    834\u001b[0m ):\n\u001b[1;32m    835\u001b[0m     results \u001b[38;5;241m=\u001b[39m _kneighbors_from_graph(\n\u001b[1;32m    836\u001b[0m         X, n_neighbors\u001b[38;5;241m=\u001b[39mn_neighbors, return_distance\u001b[38;5;241m=\u001b[39mreturn_distance\n\u001b[1;32m    837\u001b[0m     )\n",
      "File \u001b[0;32m~/anaconda3/lib/python3.11/site-packages/sklearn/metrics/_pairwise_distances_reduction/_dispatcher.py:259\u001b[0m, in \u001b[0;36mArgKmin.compute\u001b[0;34m(cls, X, Y, k, metric, chunk_size, metric_kwargs, strategy, return_distance)\u001b[0m\n\u001b[1;32m    178\u001b[0m \u001b[38;5;250m\u001b[39m\u001b[38;5;124;03m\"\"\"Compute the argkmin reduction.\u001b[39;00m\n\u001b[1;32m    179\u001b[0m \n\u001b[1;32m    180\u001b[0m \u001b[38;5;124;03mParameters\u001b[39;00m\n\u001b[0;32m   (...)\u001b[0m\n\u001b[1;32m    256\u001b[0m \u001b[38;5;124;03mreturns.\u001b[39;00m\n\u001b[1;32m    257\u001b[0m \u001b[38;5;124;03m\"\"\"\u001b[39;00m\n\u001b[1;32m    258\u001b[0m \u001b[38;5;28;01mif\u001b[39;00m X\u001b[38;5;241m.\u001b[39mdtype \u001b[38;5;241m==\u001b[39m Y\u001b[38;5;241m.\u001b[39mdtype \u001b[38;5;241m==\u001b[39m np\u001b[38;5;241m.\u001b[39mfloat64:\n\u001b[0;32m--> 259\u001b[0m     \u001b[38;5;28;01mreturn\u001b[39;00m ArgKmin64\u001b[38;5;241m.\u001b[39mcompute(\n\u001b[1;32m    260\u001b[0m         X\u001b[38;5;241m=\u001b[39mX,\n\u001b[1;32m    261\u001b[0m         Y\u001b[38;5;241m=\u001b[39mY,\n\u001b[1;32m    262\u001b[0m         k\u001b[38;5;241m=\u001b[39mk,\n\u001b[1;32m    263\u001b[0m         metric\u001b[38;5;241m=\u001b[39mmetric,\n\u001b[1;32m    264\u001b[0m         chunk_size\u001b[38;5;241m=\u001b[39mchunk_size,\n\u001b[1;32m    265\u001b[0m         metric_kwargs\u001b[38;5;241m=\u001b[39mmetric_kwargs,\n\u001b[1;32m    266\u001b[0m         strategy\u001b[38;5;241m=\u001b[39mstrategy,\n\u001b[1;32m    267\u001b[0m         return_distance\u001b[38;5;241m=\u001b[39mreturn_distance,\n\u001b[1;32m    268\u001b[0m     )\n\u001b[1;32m    270\u001b[0m \u001b[38;5;28;01mif\u001b[39;00m X\u001b[38;5;241m.\u001b[39mdtype \u001b[38;5;241m==\u001b[39m Y\u001b[38;5;241m.\u001b[39mdtype \u001b[38;5;241m==\u001b[39m np\u001b[38;5;241m.\u001b[39mfloat32:\n\u001b[1;32m    271\u001b[0m     \u001b[38;5;28;01mreturn\u001b[39;00m ArgKmin32\u001b[38;5;241m.\u001b[39mcompute(\n\u001b[1;32m    272\u001b[0m         X\u001b[38;5;241m=\u001b[39mX,\n\u001b[1;32m    273\u001b[0m         Y\u001b[38;5;241m=\u001b[39mY,\n\u001b[0;32m   (...)\u001b[0m\n\u001b[1;32m    279\u001b[0m         return_distance\u001b[38;5;241m=\u001b[39mreturn_distance,\n\u001b[1;32m    280\u001b[0m     )\n",
      "File \u001b[0;32msklearn/metrics/_pairwise_distances_reduction/_argkmin.pyx:90\u001b[0m, in \u001b[0;36msklearn.metrics._pairwise_distances_reduction._argkmin.ArgKmin64.compute\u001b[0;34m()\u001b[0m\n",
      "File \u001b[0;32m~/anaconda3/lib/python3.11/site-packages/sklearn/utils/fixes.py:74\u001b[0m, in \u001b[0;36mthreadpool_limits\u001b[0;34m(limits, user_api)\u001b[0m\n\u001b[1;32m     72\u001b[0m     \u001b[38;5;28;01mreturn\u001b[39;00m controller\u001b[38;5;241m.\u001b[39mlimit(limits\u001b[38;5;241m=\u001b[39mlimits, user_api\u001b[38;5;241m=\u001b[39muser_api)\n\u001b[1;32m     73\u001b[0m \u001b[38;5;28;01melse\u001b[39;00m:\n\u001b[0;32m---> 74\u001b[0m     \u001b[38;5;28;01mreturn\u001b[39;00m threadpoolctl\u001b[38;5;241m.\u001b[39mthreadpool_limits(limits\u001b[38;5;241m=\u001b[39mlimits, user_api\u001b[38;5;241m=\u001b[39muser_api)\n",
      "File \u001b[0;32m~/anaconda3/lib/python3.11/site-packages/threadpoolctl.py:171\u001b[0m, in \u001b[0;36mthreadpool_limits.__init__\u001b[0;34m(self, limits, user_api)\u001b[0m\n\u001b[1;32m    167\u001b[0m \u001b[38;5;28;01mdef\u001b[39;00m \u001b[38;5;21m__init__\u001b[39m(\u001b[38;5;28mself\u001b[39m, limits\u001b[38;5;241m=\u001b[39m\u001b[38;5;28;01mNone\u001b[39;00m, user_api\u001b[38;5;241m=\u001b[39m\u001b[38;5;28;01mNone\u001b[39;00m):\n\u001b[1;32m    168\u001b[0m     \u001b[38;5;28mself\u001b[39m\u001b[38;5;241m.\u001b[39m_limits, \u001b[38;5;28mself\u001b[39m\u001b[38;5;241m.\u001b[39m_user_api, \u001b[38;5;28mself\u001b[39m\u001b[38;5;241m.\u001b[39m_prefixes \u001b[38;5;241m=\u001b[39m \\\n\u001b[1;32m    169\u001b[0m         \u001b[38;5;28mself\u001b[39m\u001b[38;5;241m.\u001b[39m_check_params(limits, user_api)\n\u001b[0;32m--> 171\u001b[0m     \u001b[38;5;28mself\u001b[39m\u001b[38;5;241m.\u001b[39m_original_info \u001b[38;5;241m=\u001b[39m \u001b[38;5;28mself\u001b[39m\u001b[38;5;241m.\u001b[39m_set_threadpool_limits()\n",
      "File \u001b[0;32m~/anaconda3/lib/python3.11/site-packages/threadpoolctl.py:268\u001b[0m, in \u001b[0;36mthreadpool_limits._set_threadpool_limits\u001b[0;34m(self)\u001b[0m\n\u001b[1;32m    265\u001b[0m \u001b[38;5;28;01mif\u001b[39;00m \u001b[38;5;28mself\u001b[39m\u001b[38;5;241m.\u001b[39m_limits \u001b[38;5;129;01mis\u001b[39;00m \u001b[38;5;28;01mNone\u001b[39;00m:\n\u001b[1;32m    266\u001b[0m     \u001b[38;5;28;01mreturn\u001b[39;00m \u001b[38;5;28;01mNone\u001b[39;00m\n\u001b[0;32m--> 268\u001b[0m modules \u001b[38;5;241m=\u001b[39m _ThreadpoolInfo(prefixes\u001b[38;5;241m=\u001b[39m\u001b[38;5;28mself\u001b[39m\u001b[38;5;241m.\u001b[39m_prefixes,\n\u001b[1;32m    269\u001b[0m                           user_api\u001b[38;5;241m=\u001b[39m\u001b[38;5;28mself\u001b[39m\u001b[38;5;241m.\u001b[39m_user_api)\n\u001b[1;32m    270\u001b[0m \u001b[38;5;28;01mfor\u001b[39;00m module \u001b[38;5;129;01min\u001b[39;00m modules:\n\u001b[1;32m    271\u001b[0m     \u001b[38;5;66;03m# self._limits is a dict {key: num_threads} where key is either\u001b[39;00m\n\u001b[1;32m    272\u001b[0m     \u001b[38;5;66;03m# a prefix or a user_api. If a module matches both, the limit\u001b[39;00m\n\u001b[1;32m    273\u001b[0m     \u001b[38;5;66;03m# corresponding to the prefix is chosed.\u001b[39;00m\n\u001b[1;32m    274\u001b[0m     \u001b[38;5;28;01mif\u001b[39;00m module\u001b[38;5;241m.\u001b[39mprefix \u001b[38;5;129;01min\u001b[39;00m \u001b[38;5;28mself\u001b[39m\u001b[38;5;241m.\u001b[39m_limits:\n",
      "File \u001b[0;32m~/anaconda3/lib/python3.11/site-packages/threadpoolctl.py:340\u001b[0m, in \u001b[0;36m_ThreadpoolInfo.__init__\u001b[0;34m(self, user_api, prefixes, modules)\u001b[0m\n\u001b[1;32m    337\u001b[0m     \u001b[38;5;28mself\u001b[39m\u001b[38;5;241m.\u001b[39muser_api \u001b[38;5;241m=\u001b[39m [] \u001b[38;5;28;01mif\u001b[39;00m user_api \u001b[38;5;129;01mis\u001b[39;00m \u001b[38;5;28;01mNone\u001b[39;00m \u001b[38;5;28;01melse\u001b[39;00m user_api\n\u001b[1;32m    339\u001b[0m     \u001b[38;5;28mself\u001b[39m\u001b[38;5;241m.\u001b[39mmodules \u001b[38;5;241m=\u001b[39m []\n\u001b[0;32m--> 340\u001b[0m     \u001b[38;5;28mself\u001b[39m\u001b[38;5;241m.\u001b[39m_load_modules()\n\u001b[1;32m    341\u001b[0m     \u001b[38;5;28mself\u001b[39m\u001b[38;5;241m.\u001b[39m_warn_if_incompatible_openmp()\n\u001b[1;32m    342\u001b[0m \u001b[38;5;28;01melse\u001b[39;00m:\n",
      "File \u001b[0;32m~/anaconda3/lib/python3.11/site-packages/threadpoolctl.py:371\u001b[0m, in \u001b[0;36m_ThreadpoolInfo._load_modules\u001b[0;34m(self)\u001b[0m\n\u001b[1;32m    369\u001b[0m \u001b[38;5;250m\u001b[39m\u001b[38;5;124;03m\"\"\"Loop through loaded libraries and store supported ones\"\"\"\u001b[39;00m\n\u001b[1;32m    370\u001b[0m \u001b[38;5;28;01mif\u001b[39;00m sys\u001b[38;5;241m.\u001b[39mplatform \u001b[38;5;241m==\u001b[39m \u001b[38;5;124m\"\u001b[39m\u001b[38;5;124mdarwin\u001b[39m\u001b[38;5;124m\"\u001b[39m:\n\u001b[0;32m--> 371\u001b[0m     \u001b[38;5;28mself\u001b[39m\u001b[38;5;241m.\u001b[39m_find_modules_with_dyld()\n\u001b[1;32m    372\u001b[0m \u001b[38;5;28;01melif\u001b[39;00m sys\u001b[38;5;241m.\u001b[39mplatform \u001b[38;5;241m==\u001b[39m \u001b[38;5;124m\"\u001b[39m\u001b[38;5;124mwin32\u001b[39m\u001b[38;5;124m\"\u001b[39m:\n\u001b[1;32m    373\u001b[0m     \u001b[38;5;28mself\u001b[39m\u001b[38;5;241m.\u001b[39m_find_modules_with_enum_process_module_ex()\n",
      "File \u001b[0;32m~/anaconda3/lib/python3.11/site-packages/threadpoolctl.py:428\u001b[0m, in \u001b[0;36m_ThreadpoolInfo._find_modules_with_dyld\u001b[0;34m(self)\u001b[0m\n\u001b[1;32m    425\u001b[0m filepath \u001b[38;5;241m=\u001b[39m filepath\u001b[38;5;241m.\u001b[39mdecode(\u001b[38;5;124m\"\u001b[39m\u001b[38;5;124mutf-8\u001b[39m\u001b[38;5;124m\"\u001b[39m)\n\u001b[1;32m    427\u001b[0m \u001b[38;5;66;03m# Store the module if it is supported and selected\u001b[39;00m\n\u001b[0;32m--> 428\u001b[0m \u001b[38;5;28mself\u001b[39m\u001b[38;5;241m.\u001b[39m_make_module_from_path(filepath)\n",
      "File \u001b[0;32m~/anaconda3/lib/python3.11/site-packages/threadpoolctl.py:515\u001b[0m, in \u001b[0;36m_ThreadpoolInfo._make_module_from_path\u001b[0;34m(self, filepath)\u001b[0m\n\u001b[1;32m    513\u001b[0m \u001b[38;5;28;01mif\u001b[39;00m prefix \u001b[38;5;129;01min\u001b[39;00m \u001b[38;5;28mself\u001b[39m\u001b[38;5;241m.\u001b[39mprefixes \u001b[38;5;129;01mor\u001b[39;00m user_api \u001b[38;5;129;01min\u001b[39;00m \u001b[38;5;28mself\u001b[39m\u001b[38;5;241m.\u001b[39muser_api:\n\u001b[1;32m    514\u001b[0m     module_class \u001b[38;5;241m=\u001b[39m \u001b[38;5;28mglobals\u001b[39m()[module_class]\n\u001b[0;32m--> 515\u001b[0m     module \u001b[38;5;241m=\u001b[39m module_class(filepath, prefix, user_api, internal_api)\n\u001b[1;32m    516\u001b[0m     \u001b[38;5;28mself\u001b[39m\u001b[38;5;241m.\u001b[39mmodules\u001b[38;5;241m.\u001b[39mappend(module)\n",
      "File \u001b[0;32m~/anaconda3/lib/python3.11/site-packages/threadpoolctl.py:606\u001b[0m, in \u001b[0;36m_Module.__init__\u001b[0;34m(self, filepath, prefix, user_api, internal_api)\u001b[0m\n\u001b[1;32m    604\u001b[0m \u001b[38;5;28mself\u001b[39m\u001b[38;5;241m.\u001b[39minternal_api \u001b[38;5;241m=\u001b[39m internal_api\n\u001b[1;32m    605\u001b[0m \u001b[38;5;28mself\u001b[39m\u001b[38;5;241m.\u001b[39m_dynlib \u001b[38;5;241m=\u001b[39m ctypes\u001b[38;5;241m.\u001b[39mCDLL(filepath, mode\u001b[38;5;241m=\u001b[39m_RTLD_NOLOAD)\n\u001b[0;32m--> 606\u001b[0m \u001b[38;5;28mself\u001b[39m\u001b[38;5;241m.\u001b[39mversion \u001b[38;5;241m=\u001b[39m \u001b[38;5;28mself\u001b[39m\u001b[38;5;241m.\u001b[39mget_version()\n\u001b[1;32m    607\u001b[0m \u001b[38;5;28mself\u001b[39m\u001b[38;5;241m.\u001b[39mnum_threads \u001b[38;5;241m=\u001b[39m \u001b[38;5;28mself\u001b[39m\u001b[38;5;241m.\u001b[39mget_num_threads()\n\u001b[1;32m    608\u001b[0m \u001b[38;5;28mself\u001b[39m\u001b[38;5;241m.\u001b[39m_get_extra_info()\n",
      "File \u001b[0;32m~/anaconda3/lib/python3.11/site-packages/threadpoolctl.py:646\u001b[0m, in \u001b[0;36m_OpenBLASModule.get_version\u001b[0;34m(self)\u001b[0m\n\u001b[1;32m    643\u001b[0m get_config \u001b[38;5;241m=\u001b[39m \u001b[38;5;28mgetattr\u001b[39m(\u001b[38;5;28mself\u001b[39m\u001b[38;5;241m.\u001b[39m_dynlib, \u001b[38;5;124m\"\u001b[39m\u001b[38;5;124mopenblas_get_config\u001b[39m\u001b[38;5;124m\"\u001b[39m,\n\u001b[1;32m    644\u001b[0m                      \u001b[38;5;28;01mlambda\u001b[39;00m: \u001b[38;5;28;01mNone\u001b[39;00m)\n\u001b[1;32m    645\u001b[0m get_config\u001b[38;5;241m.\u001b[39mrestype \u001b[38;5;241m=\u001b[39m ctypes\u001b[38;5;241m.\u001b[39mc_char_p\n\u001b[0;32m--> 646\u001b[0m config \u001b[38;5;241m=\u001b[39m get_config()\u001b[38;5;241m.\u001b[39msplit()\n\u001b[1;32m    647\u001b[0m \u001b[38;5;28;01mif\u001b[39;00m config[\u001b[38;5;241m0\u001b[39m] \u001b[38;5;241m==\u001b[39m \u001b[38;5;124mb\u001b[39m\u001b[38;5;124m\"\u001b[39m\u001b[38;5;124mOpenBLAS\u001b[39m\u001b[38;5;124m\"\u001b[39m:\n\u001b[1;32m    648\u001b[0m     \u001b[38;5;28;01mreturn\u001b[39;00m config[\u001b[38;5;241m1\u001b[39m]\u001b[38;5;241m.\u001b[39mdecode(\u001b[38;5;124m\"\u001b[39m\u001b[38;5;124mutf-8\u001b[39m\u001b[38;5;124m\"\u001b[39m)\n",
      "\u001b[0;31mAttributeError\u001b[0m: 'NoneType' object has no attribute 'split'"
>>>>>>> 94520fcb17b26d7948d8bba9483db0d41e22a641
     ]
    }
   ],
   "source": [
    "#Realizamos el método de vecinos cercanos con k=3\n",
    "knn = KNeighborsClassifier(n_neighbors=3)\n",
    "knn.fit(x_train,y_train)\n",
    "y_test_pred_knn = knn.predict(x_test)\n",
    "accuracy_knn = accuracy_score(y_test,y_test_pred_knn)\n",
    "print(\"El accuracy del modelo es: %.3f\" %accuracy_knn)"
   ]
  },
  {
   "cell_type": "code",
<<<<<<< HEAD
   "execution_count": 350,
   "id": "53c4bec4",
   "metadata": {},
   "outputs": [
    {
     "name": "stdout",
     "output_type": "stream",
     "text": [
      "Confusion Matrix:\n",
      "[[650 156]\n",
      " [ 73 376]]\n"
=======
   "execution_count": 34,
   "id": "5421a029",
   "metadata": {},
   "outputs": [
    {
     "ename": "NameError",
     "evalue": "name 'y_test_pred_knn' is not defined",
     "output_type": "error",
     "traceback": [
      "\u001b[0;31m---------------------------------------------------------------------------\u001b[0m",
      "\u001b[0;31mNameError\u001b[0m                                 Traceback (most recent call last)",
      "Cell \u001b[0;32mIn[34], line 2\u001b[0m\n\u001b[1;32m      1\u001b[0m \u001b[38;5;66;03m#Generamos la matriz de confusión\u001b[39;00m\n\u001b[0;32m----> 2\u001b[0m matriz_confusion_knn \u001b[38;5;241m=\u001b[39m confusion_matrix(y_test,y_test_pred_knn)\n\u001b[1;32m      4\u001b[0m \u001b[38;5;28mprint\u001b[39m(\u001b[38;5;124m'\u001b[39m\u001b[38;5;124mConfusion Matrix:\u001b[39m\u001b[38;5;124m'\u001b[39m)\n\u001b[1;32m      5\u001b[0m \u001b[38;5;28mprint\u001b[39m(matriz_confusion_knn)\n",
      "\u001b[0;31mNameError\u001b[0m: name 'y_test_pred_knn' is not defined"
>>>>>>> 94520fcb17b26d7948d8bba9483db0d41e22a641
     ]
    }
   ],
   "source": [
    "#Generamos la matriz de confusión\n",
    "matriz_confusion_knn = confusion_matrix(y_test,y_test_pred_knn)\n",
    "\n",
    "print('Confusion Matrix:')\n",
    "print(matriz_confusion_knn)"
   ]
  },
  {
   "cell_type": "code",
   "execution_count": 351,
   "id": "9ce143df",
   "metadata": {},
   "outputs": [
    {
     "name": "stdout",
     "output_type": "stream",
     "text": [
      "AUC: 0.822\n",
      "[2 1 0]\n",
      "[0.         0.19354839 1.        ]\n",
      "[0.         0.83741648 1.        ]\n"
     ]
    },
    {
     "data": {
      "image/png": "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\n",
      "text/plain": [
       "<Figure size 432x288 with 1 Axes>"
      ]
     },
     "metadata": {
      "needs_background": "light"
     },
     "output_type": "display_data"
    }
   ],
   "source": [
    "#Calculamos el área debajo de la curva ROC (su acumulado) para el método de vecinos cercanos \n",
    "auc_ROC_knn = roc_auc_score(y_test, y_test_pred_knn)\n",
    "print('AUC: %.3f' % auc_ROC_knn)\n",
    "\n",
    "#Graficamos la curva ROC \n",
    "fpr_knn, tpr_knn, thresholds_knn = roc_curve(y_test, y_test_pred_knn)\n",
    "np.set_printoptions(suppress = True)\n",
    "print(thresholds_knn)\n",
    "print(fpr_knn)\n",
    "print(tpr_knn)\n",
    "\n",
    "display_knn = RocCurveDisplay(fpr=fpr_knn, tpr=tpr_knn, roc_auc=auc_ROC_knn, estimator_name='Reg_log')\n",
    "font = {'family': 'Latin Modern Math'}\n",
    "plt.rc('font', **font)\n",
    "display_knn.plot()  \n",
    "plt.plot([0, 1], [0, 1], color='red', linestyle='--')\n",
    "plt.show()"
   ]
  },
  {
   "cell_type": "markdown",
   "id": "39cdb084",
   "metadata": {},
   "source": [
    "Punto 6"
   ]
  },
  {
   "cell_type": "code",
   "execution_count": null,
   "id": "edec6f29",
   "metadata": {},
   "outputs": [],
   "source": [
    "# Eliminamos también PP09A_ESP dado que contiene respuestas exclusivamente de individuos que no son de CABA ni GBA.Además, borramos aquellas que no tienen poder predictivo: NRO_HOGAR, ANO4, TRIMESTRE, COMPONENTE, H15, PONDERA, IMPUTA\n",
    "columnas_a_eliminar_2 = ['NRO_HOGAR', 'ANO4', 'TRIMESTRE', 'COMPONENTE', 'H15', 'PONDERA', 'IMPUTA','PP09A_ESP']\n",
    "respondieron_2 = respondieron_2.drop(columns=columnas_a_eliminar_2)"
   ]
  }
 ],
 "metadata": {
  "kernelspec": {
   "display_name": "Python 3 (ipykernel)",
   "language": "python",
   "name": "python3"
  },
  "language_info": {
   "codemirror_mode": {
    "name": "ipython",
    "version": 3
   },
   "file_extension": ".py",
   "mimetype": "text/x-python",
   "name": "python",
   "nbconvert_exporter": "python",
   "pygments_lexer": "ipython3",
   "version": "3.11.4"
  }
 },
 "nbformat": 4,
 "nbformat_minor": 5
}
